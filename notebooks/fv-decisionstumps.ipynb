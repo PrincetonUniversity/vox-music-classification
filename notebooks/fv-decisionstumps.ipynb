{
 "cells": [
  {
   "cell_type": "markdown",
   "metadata": {},
   "source": [
    "Adaboost Decision Stumps"
   ]
  },
  {
   "cell_type": "code",
   "execution_count": 30,
   "metadata": {
    "collapsed": false
   },
   "outputs": [
    {
     "name": "stdout",
     "output_type": "stream",
     "text": [
      "Using existing FVs\n"
     ]
    },
    {
     "data": {
      "text/plain": [
       "1000"
      ]
     },
     "execution_count": 30,
     "metadata": {},
     "output_type": "execute_result"
    }
   ],
   "source": [
    "import sys, itertools\n",
    "import numpy as np\n",
    "%matplotlib inline\n",
    "import matplotlib.pyplot as plt\n",
    "import sklearn, time, math\n",
    "from sklearn.svm import SVC, LinearSVC\n",
    "from sklearn.ensemble import RandomForestClassifier\n",
    "from sklearn.cross_validation import cross_val_score\n",
    "from sklearn.cross_validation import StratifiedKFold\n",
    "from sklearn.metrics import confusion_matrix\n",
    "\n",
    "if '../tools' not in sys.path:\n",
    "    sys.path.append('../tools')\n",
    "from helper_functions import * \n",
    "\n",
    "import warnings\n",
    "warnings.filterwarnings('ignore')"
   ]
  },
  {
   "cell_type": "code",
   "execution_count": 31,
   "metadata": {
    "collapsed": false
   },
   "outputs": [
    {
     "name": "stdout",
     "output_type": "stream",
     "text": [
      "means in range [-0.0204, 0.0042]\n",
      "std in range [0.0242, 0.0500]\n",
      "norm. means in range [-0.0000, 0.0000]\n",
      "norm. std in range [1.0000, 1.0000]\n"
     ]
    },
    {
     "data": {
      "text/plain": [
       "(800, 240)"
      ]
     },
     "execution_count": 31,
     "metadata": {},
     "output_type": "execute_result"
    }
   ],
   "source": [
    "trN = int(0.8 * N)\n",
    "teN = N - trN\n",
    "trX, trY = mfcc[:trN], labels[:trN]\n",
    "teX, teY = mfcc[-teN:], labels[-teN:]\n",
    "len(set(trY))\n",
    "\n",
    "means = np.mean(trX, axis=0)\n",
    "stddevs = np.std(trX, axis=0)\n",
    "\n",
    "def summary(x):\n",
    "    return '[{:.4f}, {:.4f}]'.format(np.ndarray.min(x), np.ndarray.max(x))\n",
    "print('means in range', summary(means))\n",
    "print('std in range', summary(stddevs))\n",
    "\n",
    "# Whitened data\n",
    "def adjust(x): return (x - means[None, :]) / stddevs[None, :]\n",
    "trXadj = adjust(trX)\n",
    "teXadj = adjust(teX)\n",
    "\n",
    "print('norm. means in range', summary(np.mean(trXadj, axis=0)))\n",
    "print('norm. std in range', summary(np.std(trXadj, axis=0)))\n",
    "trX.shape"
   ]
  },
  {
   "cell_type": "code",
   "execution_count": 32,
   "metadata": {
    "collapsed": false
   },
   "outputs": [
    {
     "name": "stdout",
     "output_type": "stream",
     "text": [
      "numStumps 2, train data accuracy 0.1575, test accuracy 0.125\n"
     ]
    },
    {
     "data": {
      "image/png": "[encoded data removed]",
      "text/plain": [
       "<matplotlib.figure.Figure at 0x10e3a3320>"
      ]
     },
     "metadata": {},
     "output_type": "display_data"
    }
   ],
   "source": [
    "from sklearn.cross_validation import cross_val_score\n",
    "from sklearn.datasets import load_iris\n",
    "from sklearn.ensemble import AdaBoostClassifier\n",
    "from sklearn.cross_validation import cross_val_score\n",
    "from sklearn.tree import DecisionTreeClassifier\n",
    "from sklearn.metrics import confusion_matrix\n",
    "\n",
    "def plot_confusion_matrix(cm, title='Confusion matrix', cmap=plt.cm.ocean):\n",
    "    plt.imshow(cm, interpolation='nearest', cmap=cmap)\n",
    "    plt.title(title)\n",
    "    plt.colorbar()\n",
    "    plt.tight_layout()\n",
    "    plt.ylabel('True label')\n",
    "    plt.xlabel('Predicted label')\n",
    "\n",
    "\n",
    "for n in [2]:\n",
    "    numStumps = n\n",
    "    stumps = AdaBoostClassifier(n_estimators=numStumps, base_estimator=DecisionTreeClassifier(max_depth=1))\n",
    "    stumps.fit(trX, trY)\n",
    "\n",
    "    print('numStumps {}, train data accuracy {}, test accuracy {}'.format(numStumps, stumps.score(trX, trY), stumps.score(teX, teY)))\n",
    "    plot_confusion_matrix(confusion_matrix(teY, stumps.predict(teX)), title=str(n))"
   ]
  },
  {
   "cell_type": "code",
   "execution_count": 33,
   "metadata": {
    "collapsed": false
   },
   "outputs": [
    {
     "name": "stdout",
     "output_type": "stream",
     "text": [
      "numStumps 10, train data accuracy 0.19875, test accuracy 0.19\n"
     ]
    },
    {
     "data": {
      "image/png": "[encoded data removed]",
      "text/plain": [
       "<matplotlib.figure.Figure at 0x10e6c5d68>"
      ]
     },
     "metadata": {},
     "output_type": "display_data"
    }
   ],
   "source": [
    "from sklearn.cross_validation import cross_val_score\n",
    "from sklearn.datasets import load_iris\n",
    "from sklearn.ensemble import AdaBoostClassifier\n",
    "from sklearn.cross_validation import cross_val_score\n",
    "from sklearn.tree import DecisionTreeClassifier\n",
    "from sklearn.metrics import confusion_matrix\n",
    "\n",
    "def plot_confusion_matrix(cm, title='Confusion matrix', cmap=plt.cm.ocean):\n",
    "    plt.imshow(cm, interpolation='nearest', cmap=cmap)\n",
    "    plt.title(title)\n",
    "    plt.colorbar()\n",
    "    plt.tight_layout()\n",
    "    plt.ylabel('True label')\n",
    "    plt.xlabel('Predicted label')\n",
    "\n",
    "\n",
    "for n in [10]:\n",
    "    numStumps = n\n",
    "    stumps = AdaBoostClassifier(n_estimators=numStumps, base_estimator=DecisionTreeClassifier(max_depth=1))\n",
    "    stumps.fit(trX, trY)\n",
    "\n",
    "    print('numStumps {}, train data accuracy {}, test accuracy {}'.format(numStumps, stumps.score(trX, trY), stumps.score(teX, teY)))\n",
    "    plot_confusion_matrix(confusion_matrix(teY, stumps.predict(teX)), title=str(n))\n"
   ]
  },
  {
   "cell_type": "code",
   "execution_count": 34,
   "metadata": {
    "collapsed": false
   },
   "outputs": [
    {
     "name": "stdout",
     "output_type": "stream",
     "text": [
      "numStumps 50, train data accuracy 0.1825, test accuracy 0.15\n"
     ]
    },
    {
     "data": {
      "image/png": "[encoded data removed]",
      "text/plain": [
       "<matplotlib.figure.Figure at 0x10e2c7be0>"
      ]
     },
     "metadata": {},
     "output_type": "display_data"
    }
   ],
   "source": [
    "from sklearn.cross_validation import cross_val_score\n",
    "from sklearn.datasets import load_iris\n",
    "from sklearn.ensemble import AdaBoostClassifier\n",
    "from sklearn.cross_validation import cross_val_score\n",
    "from sklearn.tree import DecisionTreeClassifier\n",
    "from sklearn.metrics import confusion_matrix\n",
    "\n",
    "def plot_confusion_matrix(cm, title='Confusion matrix', cmap=plt.cm.ocean):\n",
    "    plt.imshow(cm, interpolation='nearest', cmap=cmap)\n",
    "    plt.title(title)\n",
    "    plt.colorbar()\n",
    "    plt.tight_layout()\n",
    "    plt.ylabel('True label')\n",
    "    plt.xlabel('Predicted label')\n",
    "\n",
    "\n",
    "for n in [50]:\n",
    "    numStumps = n\n",
    "    stumps = AdaBoostClassifier(n_estimators=numStumps, base_estimator=DecisionTreeClassifier(max_depth=1))\n",
    "    stumps.fit(trX, trY)\n",
    "\n",
    "    print('numStumps {}, train data accuracy {}, test accuracy {}'.format(numStumps, stumps.score(trX, trY), stumps.score(teX, teY)))\n",
    "    plot_confusion_matrix(confusion_matrix(teY, stumps.predict(teX)), title=str(n))\n"
   ]
  },
  {
   "cell_type": "code",
   "execution_count": 35,
   "metadata": {
    "collapsed": false
   },
   "outputs": [
    {
     "name": "stdout",
     "output_type": "stream",
     "text": [
      "numStumps 500, train data accuracy 0.1825, test accuracy 0.15\n"
     ]
    },
    {
     "data": {
      "image/png": "[encoded data removed]",
      "text/plain": [
       "<matplotlib.figure.Figure at 0x10cc2c9e8>"
      ]
     },
     "metadata": {},
     "output_type": "display_data"
    }
   ],
   "source": [
    "from sklearn.cross_validation import cross_val_score\n",
    "from sklearn.datasets import load_iris\n",
    "from sklearn.ensemble import AdaBoostClassifier\n",
    "from sklearn.cross_validation import cross_val_score\n",
    "from sklearn.tree import DecisionTreeClassifier\n",
    "from sklearn.metrics import confusion_matrix\n",
    "\n",
    "def plot_confusion_matrix(cm, title='Confusion matrix', cmap=plt.cm.ocean):\n",
    "    plt.imshow(cm, interpolation='nearest', cmap=cmap)\n",
    "    plt.title(title)\n",
    "    plt.colorbar()\n",
    "    plt.tight_layout()\n",
    "    plt.ylabel('True label')\n",
    "    plt.xlabel('Predicted label')\n",
    "\n",
    "\n",
    "for n in [100]:\n",
    "    numStumps = n\n",
    "    stumps = AdaBoostClassifier(n_estimators=numStumps, base_estimator=DecisionTreeClassifier(max_depth=1))\n",
    "    stumps.fit(trX, trY)\n",
    "\n",
    "    print('numStumps {}, train data accuracy {}, test accuracy {}'.format(numStumps, stumps.score(trX, trY), stumps.score(teX, teY)))\n",
    "    plot_confusion_matrix(confusion_matrix(teY, stumps.predict(teX)), title=str(n))\n"
   ]
  }
 ],
 "metadata": {
  "kernelspec": {
   "display_name": "Python 3",
   "language": "python",
   "name": "python3"
  },
  "language_info": {
   "codemirror_mode": {
    "name": "ipython",
    "version": 3
   },
   "file_extension": ".py",
   "mimetype": "text/x-python",
   "name": "python",
   "nbconvert_exporter": "python",
   "pygments_lexer": "ipython3",
   "version": "3.4.3"
  }
 },
 "nbformat": 4,
 "nbformat_minor": 0
}
