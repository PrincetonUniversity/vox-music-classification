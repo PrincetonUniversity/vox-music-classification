{
 "cells": [
  {
   "cell_type": "markdown",
   "metadata": {},
   "source": [
    "Adaboost Decision Stumps"
   ]
  },
  {
   "cell_type": "code",
   "execution_count": 14,
   "metadata": {
    "collapsed": false
   },
   "outputs": [],
   "source": [
    "import sys, itertools\n",
    "import numpy as np\n",
    "%matplotlib inline\n",
    "import matplotlib.pyplot as plt\n",
    "import sklearn, time, math\n",
    "from sklearn.svm import SVC, LinearSVC\n",
    "from sklearn.ensemble import RandomForestClassifier\n",
    "from sklearn.ensemble import AdaBoostClassifier\n",
    "from sklearn.tree import DecisionTreeClassifier\n",
    "from sklearn.cross_validation import cross_val_score\n",
    "from sklearn.cross_validation import train_test_split\n",
    "from sklearn.cross_validation import StratifiedKFold\n",
    "from sklearn.metrics import confusion_matrix\n",
    "\n",
    "if '../tools' not in sys.path:\n",
    "    sys.path.append('../tools')\n",
    "from helper_functions import * \n",
    "\n",
    "import warnings\n",
    "warnings.filterwarnings('ignore')"
   ]
  },
  {
   "cell_type": "code",
   "execution_count": 6,
   "metadata": {
    "collapsed": false
   },
   "outputs": [
    {
     "name": "stdout",
     "output_type": "stream",
     "text": [
      "Using existing FVs from file ../generated-fv/FV3-3.mat\n",
      "N = 1000\n",
      "MFCC training feature ranges means [-0.0201, 0.0090] sds [0.0202, 0.0614]\n",
      "finished 50\n",
      "finished 100\n",
      "finished 150\n",
      "finished 200\n",
      "finished 250\n",
      "finished 300\n",
      "finished 350\n"
     ]
    }
   ],
   "source": [
    "X, Y = load_all_fv(3,3)\n",
    "accs = []\n",
    "for n in range(50, 400, 50):\n",
    "    stumps = AdaBoostClassifier(n_estimators=n, base_estimator=DecisionTreeClassifier(max_depth=1))\n",
    "    skf = StratifiedKFold(Y, n_folds=8, shuffle=True, random_state=1)\n",
    "    accs.append(np.average(cross_val_score(stumps, X, Y, cv=skf, n_jobs=-1)))\n",
    "    print('finished', n)"
   ]
  },
  {
   "cell_type": "code",
   "execution_count": 8,
   "metadata": {
    "collapsed": false
   },
   "outputs": [
    {
     "data": {
      "image/png": "[encoded data removed]",
      "text/plain": [
       "<matplotlib.figure.Figure at 0x7efcd15ab208>"
      ]
     },
     "metadata": {},
     "output_type": "display_data"
    }
   ],
   "source": [
    "plt.scatter(range(50, 400, 50), accs)\n",
    "plt.xlabel('number of stumps')\n",
    "plt.ylabel('score')\n",
    "plt.title('AdaBoost Convergence (8-fold validation)')\n",
    "plt.show()"
   ]
  },
  {
   "cell_type": "code",
   "execution_count": 17,
   "metadata": {
    "collapsed": false
   },
   "outputs": [
    {
     "data": {
      "text/plain": [
       "0.25913461538461535"
      ]
     },
     "execution_count": 17,
     "metadata": {},
     "output_type": "execute_result"
    }
   ],
   "source": [
    "max(accs)"
   ]
  },
  {
   "cell_type": "code",
   "execution_count": 15,
   "metadata": {
    "collapsed": false
   },
   "outputs": [
    {
     "name": "stdout",
     "output_type": "stream",
     "text": [
      "n_estimators 300, train data accuracy 0.3, test accuracy 0.24166666666666667\n"
     ]
    },
    {
     "data": {
      "image/png": "[encoded data removed]",
      "text/plain": [
       "<matplotlib.figure.Figure at 0x7efcd156b0b8>"
      ]
     },
     "metadata": {},
     "output_type": "display_data"
    }
   ],
   "source": [
    "trX, teX, trY, teY = train_test_split(X, Y, stratify=Y,\n",
    "                                      random_state=1, test_size=(1/8))\n",
    "\n",
    "stumps = AdaBoostClassifier(n_estimators=300, base_estimator=DecisionTreeClassifier(max_depth=1))\n",
    "stumps.fit(trX, trY)\n",
    "\n",
    "print('n_estimators {}, train data accuracy {}, test accuracy {}'.format(\n",
    "        300, stumps.score(trX, trY), stumps.score(teX, teY)))\n",
    "plot_confusion_matrix(confusion_matrix(teY, stumps.predict(teX)), title='Confusion Matrix for AdaBoost(300)')\n",
    "plt.show()"
   ]
  }
 ],
 "metadata": {
  "kernelspec": {
   "display_name": "Python 3",
   "language": "python",
   "name": "python3"
  },
  "language_info": {
   "codemirror_mode": {
    "name": "ipython",
    "version": 3
   },
   "file_extension": ".py",
   "mimetype": "text/x-python",
   "name": "python",
   "nbconvert_exporter": "python",
   "pygments_lexer": "ipython3",
   "version": "3.4.3"
  }
 },
 "nbformat": 4,
 "nbformat_minor": 0
}
