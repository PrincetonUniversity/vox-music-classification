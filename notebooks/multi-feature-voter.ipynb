{
 "cells": [
  {
   "cell_type": "code",
   "execution_count": 2,
   "metadata": {
    "collapsed": false
   },
   "outputs": [
    {
     "name": "stdout",
     "output_type": "stream",
     "text": [
      "Read in eng for all genres\n",
      "Read in chroma for all genres\n",
      "Read in t for all genres\n",
      "Read in keystrength for all genres\n",
      "Read in brightness for all genres\n",
      "Read in zerocross for all genres\n",
      "Read in roughness for all genres\n",
      "Read in inharmonic for all genres\n",
      "Read in hcdf for all genres\n",
      "Using existing FVs from file ../generated-fv/FV3-3.mat\n",
      "N = 1000\n",
      "MFCC training feature ranges means [-0.0201, 0.0090] sds [0.0202, 0.0614]\n"
     ]
    }
   ],
   "source": [
    "import sys, itertools\n",
    "import numpy as np\n",
    "%matplotlib inline\n",
    "import matplotlib.pyplot as plt\n",
    "import sklearn, time, math\n",
    "from sklearn.svm import SVC, LinearSVC\n",
    "from sklearn.ensemble import RandomForestClassifier\n",
    "from sklearn.cross_validation import cross_val_score\n",
    "from sklearn.cross_validation import StratifiedKFold\n",
    "from sklearn.cross_validation import train_test_split\n",
    "from sklearn.metrics import confusion_matrix\n",
    "\n",
    "if '../tools' not in sys.path:\n",
    "    sys.path.append('../tools')\n",
    "from helper_functions import * \n",
    "\n",
    "import warnings\n",
    "warnings.filterwarnings('ignore')\n",
    "\n",
    "D = load_all_nonmfc()\n",
    "X, Y = load_all_fv(3, 3)\n",
    "D['FV'] = X\n",
    "svms = ['FV', 'eng', 'hcdf', 'brightness']\n",
    "rf = ['zerocross', 'roughness']\n",
    "def tail(it):\n",
    "    next(it)\n",
    "    return it\n",
    "categories, arrs = zip(*sorted(list((k, v) for k, v in D.items() if k in set(svms + rf))))\n",
    "ends = [0] + list(itertools.accumulate(a.shape[1] for a in arrs))\n",
    "ends = zip(ends, ends[1:])\n",
    "excerpts = dict(zip(categories, ends))\n",
    "X = np.concatenate(arrs, axis=1)"
   ]
  },
  {
   "cell_type": "code",
   "execution_count": 3,
   "metadata": {
    "collapsed": true
   },
   "outputs": [],
   "source": [
    "class SVCSub(SVC):\n",
    "    def __init__(self, name):\n",
    "        super(SVCSub, self).__init__(probability=True)\n",
    "        self.name = name\n",
    "    def fit(self, X, Y):\n",
    "        super(SVCSub, self).fit(X[:,slice(*excerpts[self.name])], Y)\n",
    "        return self\n",
    "    def predict_proba(self, X):\n",
    "        return super(SVCSub, self).predict_proba(X[:,slice(*excerpts[self.name])])\n",
    "class RFSub(RandomForestClassifier):\n",
    "    def __init__(self, name, md, ne):\n",
    "        if not md: md = 10\n",
    "        if not ne: ne = 50\n",
    "        super(RFSub, self).__init__(max_depth=md, n_estimators=ne)\n",
    "        self.name = name\n",
    "    def fit(self, X, Y):\n",
    "        super(RFSub, self).fit(X[:,slice(*excerpts[self.name])], Y)\n",
    "        return self\n",
    "    def predict_proba(self, X):\n",
    "        return super(RFSub, self).predict_proba(X[:,slice(*excerpts[self.name])])\n",
    "def make_classifier(name):\n",
    "    if name == 'zerocross': return RFSub(name, 10, 50)\n",
    "    if name == 'roughness': return RFSub(name, 20, 200)\n",
    "    return SVCSub(name)"
   ]
  },
  {
   "cell_type": "code",
   "execution_count": 5,
   "metadata": {
    "collapsed": false
   },
   "outputs": [
    {
     "name": "stdout",
     "output_type": "stream",
     "text": [
      "['FV', 'eng', 'hcdf', 'brightness', 'zerocross', 'roughness']\n"
     ]
    },
    {
     "data": {
      "text/plain": [
       "0.49198717948717946"
      ]
     },
     "execution_count": 5,
     "metadata": {},
     "output_type": "execute_result"
    }
   ],
   "source": [
    "from sklearn.ensemble import VotingClassifier\n",
    "\n",
    "ests = [(s, make_classifier(s)) for s in svms+rf]\n",
    "print([s[1].name for s in ests])\n",
    "c = VotingClassifier(estimators=ests, voting='soft')\n",
    "skf = StratifiedKFold(Y, n_folds=8, shuffle=True, random_state=1)\n",
    "np.average(cross_val_score(c, X, Y, cv=skf, n_jobs=-1))\n",
    "# todo this, then FV on chroma"
   ]
  }
 ],
 "metadata": {
  "kernelspec": {
   "display_name": "Python 3",
   "language": "python",
   "name": "python3"
  },
  "language_info": {
   "codemirror_mode": {
    "name": "ipython",
    "version": 3
   },
   "file_extension": ".py",
   "mimetype": "text/x-python",
   "name": "python",
   "nbconvert_exporter": "python",
   "pygments_lexer": "ipython3",
   "version": "3.4.3"
  }
 },
 "nbformat": 4,
 "nbformat_minor": 0
}
