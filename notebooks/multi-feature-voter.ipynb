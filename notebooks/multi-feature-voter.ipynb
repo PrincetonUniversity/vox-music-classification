{
 "cells": [
  {
   "cell_type": "code",
   "execution_count": null,
   "metadata": {
    "collapsed": true
   },
   "outputs": [],
   "source": [
    "D = load_all_nonmfc()\n",
    "X, Y = load_all_fv(3, 3)\n",
    "svms = ['FV', 'eng', 'hcdf', 'brightness']\n",
    "rf = ['zerocross', 'roughness']\n",
    "def tail(it):\n",
    "    next(it)\n",
    "    return it\n",
    "categories, arrs = zip(*sorted(list((k, v) for k, v in D.items() if k in set(svms + rf))))\n",
    "ends = [0] + list(itertools.accumulate(a.shape[1] for a in arrs))\n",
    "ends = zip(ends, ends[1:])\n",
    "excerpts = dict(zip(categories, ends))\n",
    "X = np.concatenate(arrs, axis=1)"
   ]
  },
  {
   "cell_type": "code",
   "execution_count": null,
   "metadata": {
    "collapsed": true
   },
   "outputs": [],
   "source": [
    "class SVCSub(SVC):\n",
    "    def __init__(self, name):\n",
    "        super(SVCSub, self).__init__(probability=True)\n",
    "        self.name = name\n",
    "    def fit(self, X, Y):\n",
    "        super(SVCSub, self).fit(X[:,slice(*excerpts[self.name])], Y)\n",
    "        return self\n",
    "    def predict_proba(self, X):\n",
    "        return super(SVCSub, self).predict_proba(X[:,slice(*excerpts[self.name])])\n",
    "class RFSub(RandomForestClassifier):\n",
    "    def __init__(self, name, md, ne):\n",
    "        if not md: md = 10\n",
    "        if not ne: ne = 50\n",
    "        super(RFSub, self).__init__(max_depth=md, n_estimators=ne)\n",
    "        self.name = name\n",
    "    def fit(self, X, Y):\n",
    "        super(RFSub, self).fit(X[:,slice(*excerpts[self.name])], Y)\n",
    "        return self\n",
    "    def predict_proba(self, X):\n",
    "        return super(RFSub, self).predict_proba(X[:,slice(*excerpts[self.name])])\n",
    "def make_classifier(name):\n",
    "    if name == 'zerocross': return RFSub(name, 10, 50)\n",
    "    if name == 'roughness': return RFSub(name, 20, 200)\n",
    "    return SVCSub(name)"
   ]
  }
 ],
 "metadata": {
  "kernelspec": {
   "display_name": "Python 3",
   "language": "python",
   "name": "python3"
  },
  "language_info": {
   "codemirror_mode": {
    "name": "ipython",
    "version": 3
   },
   "file_extension": ".py",
   "mimetype": "text/x-python",
   "name": "python",
   "nbconvert_exporter": "python",
   "pygments_lexer": "ipython3",
   "version": "3.4.3"
  }
 },
 "nbformat": 4,
 "nbformat_minor": 0
}
