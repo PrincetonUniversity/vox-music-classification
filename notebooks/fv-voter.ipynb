{
 "cells": [
  {
   "cell_type": "code",
   "execution_count": 8,
   "metadata": {
    "collapsed": false
   },
   "outputs": [
    {
     "data": {
      "text/plain": [
       "1000"
      ]
     },
     "execution_count": 8,
     "metadata": {},
     "output_type": "execute_result"
    }
   ],
   "source": [
    "import os\n",
    "import scipy.io as spio\n",
    "import numpy as np\n",
    "from os.path import join, isdir, isfile\n",
    "\n",
    "DATA_DIR = '../generated-fv/'\n",
    "Chroma = join(DATA_DIR, 'FVC3-3.mat')\n",
    "FVs    = join(DATA_DIR, 'FV3-3.mat')\n",
    "LBs    = join(DATA_DIR, 'LB.mat')\n",
    "\n",
    "chroma = np.transpose(spio.loadmat(Chroma)['FV'])\n",
    "mfcc = np.transpose(spio.loadmat(FVs)['FV'])\n",
    "labels = spio.loadmat(LBs)['LB'][0]\n",
    "N = mfcc.shape[0]\n",
    "\n",
    "p = np.random.permutation(N)\n",
    "mfcc = mfcc[p]\n",
    "labels = labels[p]\n",
    "\n",
    "#X = np.concatenate((mfcc, chroma), axis=1)\n",
    "X = mfcc\n",
    "Y = labels\n",
    "\n",
    "N"
   ]
  },
  {
   "cell_type": "code",
   "execution_count": null,
   "metadata": {
    "collapsed": false
   },
   "outputs": [],
   "source": [
    "# actual import mfcc from FV\n",
    "import random as random\n",
    "import scipy.stats as stats\n",
    "from sklearn.ensemble import RandomForestClassifier\n",
    "from sklearn.neighbors import KNeighborsClassifier\n",
    "import sklearn, time, math\n",
    "from sklearn.svm import SVC, LinearSVC\n",
    "from sklearn.linear_model import LogisticRegressionCV\n",
    "from sklearn.ensemble import VotingClassifier\n",
    "from sklearn.metrics import zero_one_loss\n",
    "from sklearn.cross_validation import cross_val_score\n",
    "from sklearn.cross_validation import StratifiedKFold\n",
    "\n",
    "sm        = LogisticRegressionCV(multi_class='multinomial', solver='lbfgs', n_jobs=1, cv=8)\n",
    "rf        = RandomForestClassifier(n_estimators = 900, max_depth = 20, warm_start = False)\n",
    "msvm      = SVC(C=100, kernel='poly', decision_function_shape='ovo', degree=10., coef0=1., probability=True)\n",
    "neighbors = KNeighborsClassifier(n_neighbors=14, algorithm='brute')\n",
    "\n",
    "vc = VotingClassifier(estimators=[('sm', sm), ('rf', rf), ('msvm', msvm), ('neighbors', neighbors)], voting='soft')\n",
    "skf = StratifiedKFold(Y, n_folds=8, shuffle=True, random_state=1)\n",
    "\n",
    "#ests = [(s, make_classifier(s)) for s in svms+rf]\n",
    "#print([s[1].name for s in ests])\n",
    "#c = VotingClassifier(estimators=ests, voting='soft')\n",
    "np.average(cross_val_score(vc, X, Y, cv=skf, n_jobs=-1))\n",
    "# todo this, then FV on chroma"
   ]
  }
 ],
 "metadata": {
  "kernelspec": {
   "display_name": "Python 3",
   "language": "python",
   "name": "python3"
  },
  "language_info": {
   "codemirror_mode": {
    "name": "ipython",
    "version": 3
   },
   "file_extension": ".py",
   "mimetype": "text/x-python",
   "name": "python",
   "nbconvert_exporter": "python",
   "pygments_lexer": "ipython3",
   "version": "3.5.0"
  }
 },
 "nbformat": 4,
 "nbformat_minor": 0
}
