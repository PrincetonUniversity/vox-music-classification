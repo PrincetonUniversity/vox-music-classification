{
 "cells": [
  {
   "cell_type": "code",
   "execution_count": null,
   "metadata": {
    "collapsed": true
   },
   "outputs": [],
   "source": [
    "# In-python MFC extraction (may not be necessary if we use MATLAB-only)\n",
    "\n",
    "# 'file_name' 'class_name' 'class' 'eng' 'mfc' 'chroma' 't'\n",
    "# 'keystrength' 'brightness' 'zerocross' 'roughness' 'inharmonic' 'hcdf'\n",
    "X = []\n",
    "for basename in os.listdir(DATA_DIR):\n",
    "    path = join(DATA_DIR, basename)\n",
    "    if not isdir(path): continue\n",
    "    def loadmfc(base): return spio.loadmat(join(path, base))['DAT']['mfc'][0,0]\n",
    "    mfc = np.concatenate([loadmfc(i).shape for i in os.listdir(path)])\n",
    "    X.append([basename, mfc])\n",
    "[classes, X] = zip(*X)\n",
    "[len(a) for a in X]\n",
    "# TODO: would be nice to have this fully in python."
   ]
  }
 ],
 "metadata": {
  "kernelspec": {
   "display_name": "Python 3",
   "language": "python",
   "name": "python3"
  },
  "language_info": {
   "codemirror_mode": {
    "name": "ipython",
    "version": 3
   },
   "file_extension": ".py",
   "mimetype": "text/x-python",
   "name": "python",
   "nbconvert_exporter": "python",
   "pygments_lexer": "ipython3",
   "version": "3.4.3"
  }
 },
 "nbformat": 4,
 "nbformat_minor": 0
}
