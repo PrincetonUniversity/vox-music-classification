{
 "cells": [
  {
   "cell_type": "code",
   "execution_count": 2,
   "metadata": {
    "collapsed": false
   },
   "outputs": [
    {
     "name": "stdout",
     "output_type": "stream",
     "text": [
      "Read in eng for all genres\n",
      "Read in chroma for all genres\n",
      "Read in t for all genres\n",
      "Read in keystrength for all genres\n",
      "Read in brightness for all genres\n",
      "Read in zerocross for all genres\n",
      "Read in roughness for all genres\n",
      "Read in inharmonic for all genres\n",
      "Read in hcdf for all genres\n",
      "Using existing FVs from file ../generated-fv/FV3-3.mat\n",
      "N = 1000\n",
      "MFCC training feature ranges means [-0.0201, 0.0090] sds [0.0202, 0.0614]\n",
      "Using existing FVs from file ../generated-fv/FVC3-3.mat\n",
      "N = 1000\n",
      "chroma training feature ranges means [-0.0107, 0.0108] sds [0.0376, 0.0670]\n",
      "t (1000, 1222)\n",
      "eng (1000, 1222)\n",
      "zerocross (1000, 1222)\n",
      "keystrength (1000, 12, 1222)\n",
      "brightness (1000, 1222)\n",
      "inharmonic (1000, 1222)\n",
      "mfc (1000, 960)\n",
      "chroma (1000, 360)\n",
      "hcdf (1000, 1222)\n",
      "roughness (1000, 1222)\n"
     ]
    }
   ],
   "source": [
    "import sys, itertools\n",
    "import numpy as np\n",
    "%matplotlib inline\n",
    "import matplotlib.pyplot as plt\n",
    "import sklearn, time, math\n",
    "from sklearn.svm import SVC, LinearSVC\n",
    "from sklearn.ensemble import RandomForestClassifier\n",
    "from sklearn.cross_validation import cross_val_score\n",
    "from sklearn.cross_validation import StratifiedKFold\n",
    "from sklearn.cross_validation import train_test_split\n",
    "from sklearn.metrics import confusion_matrix\n",
    "\n",
    "if '../tools' not in sys.path:\n",
    "    sys.path.append('../tools')\n",
    "from helper_functions import * \n",
    "\n",
    "import warnings\n",
    "warnings.filterwarnings('ignore')\n",
    "\n",
    "D = load_all_nonmfc()\n",
    "X, Y = load_all_fv(3, 3)\n",
    "C, Y = load_chroma_fv(3, 3)\n",
    "D['mfc'] = X\n",
    "D['chroma'] = C\n",
    "for k, v in D.items(): print(k, v.shape)"
   ]
  },
  {
   "cell_type": "code",
   "execution_count": 3,
   "metadata": {
    "collapsed": false
   },
   "outputs": [
    {
     "name": "stdout",
     "output_type": "stream",
     "text": [
      "\\texttt{eng} & 0.381651 \\\\\n",
      "\\texttt{t} & 0.113942 \\\\\n",
      "\\texttt{brightness} & 0.303045 \\\\\n",
      "\\texttt{zerocross} & 0.332292 \\\\\n",
      "\\texttt{roughness} & 0.389904 \\\\\n",
      "\\texttt{hcdf} & 0.328526 \\\\\n",
      "\\texttt{mfc} & 0.641907 \\\\\n",
      "\\texttt{chroma} & 0.507372 \\\\\n"
     ]
    }
   ],
   "source": [
    "learners = 200\n",
    "depth = 20\n",
    "\n",
    "skf = StratifiedKFold(Y, n_folds=8, shuffle=True, random_state=1)\n",
    "for f in ['eng', 't', 'brightness', 'zerocross', 'roughness', 'hcdf', 'mfc', 'chroma']:\n",
    "    rf = RandomForestClassifier(n_estimators=learners, max_depth=depth, warm_start=False)\n",
    "    score = np.average(cross_val_score(rf, D[f], Y, cv=skf, n_jobs=-1))\n",
    "    print('\\\\texttt{{{}}} & {:03f} \\\\\\\\'.format(f, score))"
   ]
  }
 ],
 "metadata": {
  "kernelspec": {
   "display_name": "Python 3",
   "language": "python",
   "name": "python3"
  },
  "language_info": {
   "codemirror_mode": {
    "name": "ipython",
    "version": 3
   },
   "file_extension": ".py",
   "mimetype": "text/x-python",
   "name": "python",
   "nbconvert_exporter": "python",
   "pygments_lexer": "ipython3",
   "version": "3.4.3"
  }
 },
 "nbformat": 4,
 "nbformat_minor": 0
}
