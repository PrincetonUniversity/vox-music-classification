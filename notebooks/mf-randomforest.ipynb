{
 "cells": [
  {
   "cell_type": "markdown",
   "metadata": {},
   "source": [
    "Basic Random Forest multiclass regression with default (3, 3) parameter FV on only the MFCC features."
   ]
  },
  {
   "cell_type": "code",
   "execution_count": 1,
   "metadata": {
    "collapsed": false
   },
   "outputs": [
    {
     "name": "stdout",
     "output_type": "stream",
     "text": [
      "Read in blues eng\n",
      "Read in classical eng\n",
      "Read in country eng\n",
      "Read in disco eng\n",
      "Read in hiphop eng\n",
      "Read in jazz eng\n",
      "Read in metal eng\n",
      "Read in pop eng\n",
      "Read in reggae eng\n",
      "Read in rock eng\n",
      "Read in blues chroma\n",
      "Read in classical chroma\n",
      "Read in country chroma\n",
      "Read in disco chroma\n",
      "Read in hiphop chroma\n",
      "Read in jazz chroma\n",
      "Read in metal chroma\n",
      "Read in pop chroma\n",
      "Read in reggae chroma\n",
      "Read in rock chroma\n",
      "Read in blues t\n",
      "Read in classical t\n",
      "Read in country t\n",
      "Read in disco t\n",
      "Read in hiphop t\n",
      "Read in jazz t\n",
      "Read in metal t\n",
      "Read in pop t\n",
      "Read in reggae t\n",
      "Read in rock t\n",
      "Read in blues keystrength\n",
      "Read in classical keystrength\n",
      "Read in country keystrength\n",
      "Read in disco keystrength\n",
      "Read in hiphop keystrength\n",
      "Read in jazz keystrength\n",
      "Read in metal keystrength\n",
      "Read in pop keystrength\n",
      "Read in reggae keystrength\n",
      "Read in rock keystrength\n",
      "Read in blues brightness\n",
      "Read in classical brightness\n",
      "Read in country brightness\n",
      "Read in disco brightness\n",
      "Read in hiphop brightness\n",
      "Read in jazz brightness\n",
      "Read in metal brightness\n",
      "Read in pop brightness\n",
      "Read in reggae brightness\n",
      "Read in rock brightness\n",
      "Read in blues zerocross\n",
      "Read in classical zerocross\n",
      "Read in country zerocross\n",
      "Read in disco zerocross\n",
      "Read in hiphop zerocross\n",
      "Read in jazz zerocross\n",
      "Read in metal zerocross\n",
      "Read in pop zerocross\n",
      "Read in reggae zerocross\n",
      "Read in rock zerocross\n",
      "Read in blues roughness\n",
      "Read in classical roughness\n",
      "Read in country roughness\n",
      "Read in disco roughness\n",
      "Read in hiphop roughness\n",
      "Read in jazz roughness\n",
      "Read in metal roughness\n",
      "Read in pop roughness\n",
      "Read in reggae roughness\n",
      "Read in rock roughness\n",
      "Read in blues inharmonic\n",
      "Read in classical inharmonic\n",
      "Read in country inharmonic\n",
      "Read in disco inharmonic\n",
      "Read in hiphop inharmonic\n",
      "Read in jazz inharmonic\n",
      "Read in metal inharmonic\n",
      "Read in pop inharmonic\n",
      "Read in reggae inharmonic\n",
      "Read in rock inharmonic\n",
      "Read in blues hcdf\n",
      "Read in classical hcdf\n",
      "Read in country hcdf\n",
      "Read in disco hcdf\n",
      "Read in hiphop hcdf\n",
      "Read in jazz hcdf\n",
      "Read in metal hcdf\n",
      "Read in pop hcdf\n",
      "Read in reggae hcdf\n",
      "Read in rock hcdf\n"
     ]
    }
   ],
   "source": [
    "import os\n",
    "import scipy.io as spio\n",
    "import numpy as np\n",
    "from os.path import join, isdir, isfile\n",
    "%matplotlib inline\n",
    "import matplotlib.pyplot as plt\n",
    "# In-python Chroma extraction (may not be necessary if we use MATLAB-only)\n",
    "DATA_DIR='../data'\n",
    "\n",
    "# 'file_name' 'class_name' 'class' 'eng' 'mfc' 'chroma' 't'\n",
    "# 'keystrength' 'brightness' 'zerocross' 'roughness' 'inharmonic' 'hcdf'\n",
    "\n",
    "def pad(nparrs):\n",
    "    shape = tuple((max(c) for c in zip(*(x.shape for x in nparrs))))\n",
    "    def to_pad(x): return tuple(((0, a - b) for a, b in zip(shape, x.shape)))\n",
    "    return [np.pad(x, to_pad(x), mode='constant') for x in nparrs]\n",
    "\n",
    "## List of all features that can be extracted ##\n",
    "L = ['eng', 'chroma', 't', 'keystrength', 'brightness', 'zerocross', 'roughness', 'inharmonic', 'hcdf']\n",
    "\n",
    "## Dictionary of feature matrices ##\n",
    "D = {}\n",
    "\n",
    "for feature in L:\n",
    "    X = []\n",
    "    for genre in sorted(os.listdir(DATA_DIR)):\n",
    "        path = join(DATA_DIR, genre)\n",
    "        if not isdir(path): continue\n",
    "        def load(base, feat): return spio.loadmat(join(path, base))['DAT'][feat][0,0]\n",
    "        arrs = [load(i, feature) for i in sorted(os.listdir(path))]\n",
    "        X.append([genre, np.array(pad(arrs))])\n",
    "        print('Read in', genre, feature)\n",
    "    [classes, X] = zip(*X)\n",
    "    X = np.concatenate(pad(X))\n",
    "    D[feature] = X"
   ]
  },
  {
   "cell_type": "code",
   "execution_count": 19,
   "metadata": {
    "collapsed": false
   },
   "outputs": [
    {
     "name": "stdout",
     "output_type": "stream",
     "text": [
      "N 1000\n",
      "M 1222\n",
      "eng (1000, 1, 1222)\n",
      "chroma (1000, 12, 1222)\n",
      "t (1000, 1, 1222)\n",
      "keystrength (1000, 12, 1222)\n",
      "brightness (1000, 1, 1222)\n",
      "zerocross (1000, 1, 1222)\n",
      "roughness (1000, 1, 1222)\n",
      "inharmonic (1000, 1, 1222)\n",
      "hcdf (1000, 1, 1222)\n"
     ]
    }
   ],
   "source": [
    "N = D[L[0]].shape[0]\n",
    "M = D[L[0]].shape[2]\n",
    "\n",
    "print(\"N\", N)\n",
    "print(\"M\", M)\n",
    "\n",
    "\n",
    "DVs = {}\n",
    "for feature in L:\n",
    "    print(feature, D[feature].shape)"
   ]
  },
  {
   "cell_type": "code",
   "execution_count": 23,
   "metadata": {
    "collapsed": false
   },
   "outputs": [
    {
     "name": "stdout",
     "output_type": "stream",
     "text": [
      "{'roughness': array([[   2.5303263 ,    3.49512385,   45.93026773, ...,    0.        ,\n",
      "           0.        ,    0.        ],\n",
      "       [  15.53038625,  199.20549803,  166.32172007, ...,    0.        ,\n",
      "           0.        ,    0.        ],\n",
      "       [ 366.93833103,  180.54164215,  112.98273778, ...,    0.        ,\n",
      "           0.        ,    0.        ],\n",
      "       ..., \n",
      "       [  61.38866307,   82.64596   ,   31.27102999, ...,    0.        ,\n",
      "           0.        ,    0.        ],\n",
      "       [ 220.64714553,  177.11054828,  192.51755763, ...,    0.        ,\n",
      "           0.        ,    0.        ],\n",
      "       [  10.22499391,    9.93948673,    5.74620326, ...,    0.        ,\n",
      "           0.        ,    0.        ]]), 'brightness': array([[ 0.49469366,  0.43803954,  0.36531097, ...,  0.        ,\n",
      "         0.        ,  0.        ],\n",
      "       [ 0.20375412,  0.19945807,  0.22232428, ...,  0.        ,\n",
      "         0.        ,  0.        ],\n",
      "       [ 0.28233151,  0.24552631,  0.3057759 , ...,  0.        ,\n",
      "         0.        ,  0.        ],\n",
      "       ..., \n",
      "       [ 0.49584685,  0.46280946,  0.3940758 , ...,  0.        ,\n",
      "         0.        ,  0.        ],\n",
      "       [ 0.12980102,  0.13184333,  0.11921916, ...,  0.        ,\n",
      "         0.        ,  0.        ],\n",
      "       [ 0.19688247,  0.19671213,  0.19599309, ...,  0.        ,\n",
      "         0.        ,  0.        ]]), 'zerocross': array([[ 1410.,  1080.,  1020., ...,     0.,     0.,     0.],\n",
      "       [  330.,   200.,   100., ...,     0.,     0.,     0.],\n",
      "       [  990.,   880.,   910., ...,     0.,     0.,     0.],\n",
      "       ..., \n",
      "       [  960.,   810.,   660., ...,     0.,     0.,     0.],\n",
      "       [  180.,   180.,   230., ...,     0.,     0.,     0.],\n",
      "       [  510.,   440.,   420., ...,     0.,     0.,     0.]]), 't': array([[ 0.05 ,  0.075,  0.1  , ...,  0.   ,  0.   ,  0.   ],\n",
      "       [ 0.05 ,  0.075,  0.1  , ...,  0.   ,  0.   ,  0.   ],\n",
      "       [ 0.05 ,  0.075,  0.1  , ...,  0.   ,  0.   ,  0.   ],\n",
      "       ..., \n",
      "       [ 0.05 ,  0.075,  0.1  , ...,  0.   ,  0.   ,  0.   ],\n",
      "       [ 0.05 ,  0.075,  0.1  , ...,  0.   ,  0.   ,  0.   ],\n",
      "       [ 0.05 ,  0.075,  0.1  , ...,  0.   ,  0.   ,  0.   ]]), 'hcdf': array([[ 0.84895757,  1.21173247,  2.022301  , ...,  0.        ,\n",
      "         0.        ,  0.        ],\n",
      "       [ 1.88407758,  1.76307978,  1.45731804, ...,  0.        ,\n",
      "         0.        ,  0.        ],\n",
      "       [ 0.78114297,  0.81950741,  0.59815449, ...,  0.        ,\n",
      "         0.        ,  0.        ],\n",
      "       ..., \n",
      "       [ 0.88285346,  0.74517041,  1.09235738, ...,  0.        ,\n",
      "         0.        ,  0.        ],\n",
      "       [ 0.34010791,  0.25414754,  0.22386819, ...,  0.        ,\n",
      "         0.        ,  0.        ],\n",
      "       [ 0.32593182,  0.65641895,  0.41725739, ...,  0.        ,\n",
      "         0.        ,  0.        ]]), 'eng': array([[-1.56840423, -1.29217559, -1.16108193, ...,  0.        ,\n",
      "         0.        ,  0.        ],\n",
      "       [-1.04774097, -0.81922411, -0.74948173, ...,  0.        ,\n",
      "         0.        ,  0.        ],\n",
      "       [-0.75484772, -0.78757147, -0.87610091, ...,  0.        ,\n",
      "         0.        ,  0.        ],\n",
      "       ..., \n",
      "       [-1.13766141, -1.07749135, -1.11579191, ...,  0.        ,\n",
      "         0.        ,  0.        ],\n",
      "       [-0.8322585 , -0.84098996, -0.82240575, ...,  0.        ,\n",
      "         0.        ,  0.        ],\n",
      "       [-1.3702787 , -1.37525579, -1.43960206, ...,  0.        ,\n",
      "         0.        ,  0.        ]])}\n"
     ]
    }
   ],
   "source": [
    "L_Vec = ['eng', 't', 'brightness', 'zerocross', 'roughness', 'hcdf']\n",
    "\n",
    "D_Vec = {}\n",
    "for feature in L_Vec:\n",
    "    X = np.zeros((N, M))\n",
    "    for i in range(N):\n",
    "        for j in range(M):\n",
    "            X[i, j] = D[feature][i, 0, j]\n",
    "    D_Vec[feature] = X\n",
    "print(D_Vec)"
   ]
  },
  {
   "cell_type": "code",
   "execution_count": 61,
   "metadata": {
    "collapsed": false
   },
   "outputs": [],
   "source": [
    "Z = []\n",
    "for i in range(len(classes)):\n",
    "    Z = Z + 100*[i]\n",
    "\n",
    "Y = np.zeros(N)\n",
    "\n",
    "for i in range(len(Z)):\n",
    "    Y[i] = Z[i]"
   ]
  },
  {
   "cell_type": "code",
   "execution_count": 65,
   "metadata": {
    "collapsed": false
   },
   "outputs": [],
   "source": [
    "p = np.random.permutation(N)\n",
    "\n",
    "trX = {}\n",
    "teX = {}\n",
    "for feature in L_Vec:\n",
    "    tr, te = np.split(D_Vec[feature][p], [int(0.9 * N)])\n",
    "    trX[feature] = tr\n",
    "    teX[feature] = te\n",
    "trY, teY = np.split(Y[p], [int(0.9 * N)])"
   ]
  },
  {
   "cell_type": "code",
   "execution_count": 66,
   "metadata": {
    "collapsed": false
   },
   "outputs": [
    {
     "name": "stdout",
     "output_type": "stream",
     "text": [
      "feature eng, depth 15, learners 100, train data accuracy 0.9988888888888889, test accuracy 0.32\n",
      "feature t, depth 15, learners 100, train data accuracy 0.1322222222222222, test accuracy 0.06\n",
      "feature brightness, depth 15, learners 100, train data accuracy 1.0, test accuracy 0.19\n",
      "feature zerocross, depth 15, learners 100, train data accuracy 0.9988888888888889, test accuracy 0.24\n",
      "feature roughness, depth 15, learners 100, train data accuracy 1.0, test accuracy 0.32\n",
      "feature hcdf, depth 15, learners 100, train data accuracy 1.0, test accuracy 0.35\n"
     ]
    }
   ],
   "source": [
    "# actual import mfcc from FV\n",
    "import numpy as np\n",
    "import random as random\n",
    "import scipy.stats as stats\n",
    "from sklearn.ensemble import RandomForestClassifier\n",
    "from sklearn.neighbors import KNeighborsClassifier\n",
    "from sklearn.metrics import zero_one_loss\n",
    "\n",
    "learners = 100\n",
    "depth = 15\n",
    "\n",
    "for f in L_Vec:\n",
    "    rf = RandomForestClassifier(n_estimators = learners, max_depth = depth, warm_start = False)\n",
    "    rf.fit(trX[f],trY) # NOTE DATA ORIENTATION\n",
    "    print('feature {}, depth {}, learners {}, train data accuracy {}, test accuracy {}'.format(f, depth, learners, rf.score(trX[f], trY), rf.score(teX[f], teY)))"
   ]
  },
  {
   "cell_type": "code",
   "execution_count": 63,
   "metadata": {
    "collapsed": false
   },
   "outputs": [
    {
     "name": "stdout",
     "output_type": "stream",
     "text": [
      "depth 5, learners 100, train data accuracy 0.12666666666666668, test accuracy 0.11\n",
      "depth 5, learners 200, train data accuracy 0.12666666666666668, test accuracy 0.12\n",
      "depth 5, learners 300, train data accuracy 0.12666666666666668, test accuracy 0.12\n",
      "depth 5, learners 400, train data accuracy 0.12666666666666668, test accuracy 0.12\n",
      "depth 5, learners 500, train data accuracy 0.12666666666666668, test accuracy 0.12\n",
      "depth 5, learners 600, train data accuracy 0.12666666666666668, test accuracy 0.12\n",
      "depth 5, learners 700, train data accuracy 0.12666666666666668, test accuracy 0.12\n",
      "depth 5, learners 800, train data accuracy 0.12666666666666668, test accuracy 0.12\n",
      "depth 5, learners 900, train data accuracy 0.12666666666666668, test accuracy 0.12\n",
      "depth 5, learners 1000, train data accuracy 0.12666666666666668, test accuracy 0.12\n",
      "depth 10, learners 100, train data accuracy 0.12666666666666668, test accuracy 0.11\n",
      "depth 10, learners 200, train data accuracy 0.12555555555555556, test accuracy 0.12\n",
      "depth 10, learners 300, train data accuracy 0.12666666666666668, test accuracy 0.11\n",
      "depth 10, learners 400, train data accuracy 0.12666666666666668, test accuracy 0.12\n",
      "depth 10, learners 500, train data accuracy 0.12666666666666668, test accuracy 0.11\n",
      "depth 10, learners 600, train data accuracy 0.12666666666666668, test accuracy 0.11\n",
      "depth 10, learners 700, train data accuracy 0.12666666666666668, test accuracy 0.11\n",
      "depth 10, learners 800, train data accuracy 0.12666666666666668, test accuracy 0.12\n",
      "depth 10, learners 900, train data accuracy 0.12666666666666668, test accuracy 0.12\n",
      "depth 10, learners 1000, train data accuracy 0.12666666666666668, test accuracy 0.11\n",
      "depth 15, learners 100, train data accuracy 0.12666666666666668, test accuracy 0.11\n",
      "depth 15, learners 200, train data accuracy 0.12666666666666668, test accuracy 0.11\n",
      "depth 15, learners 300, train data accuracy 0.12666666666666668, test accuracy 0.13\n",
      "depth 15, learners 400, train data accuracy 0.12666666666666668, test accuracy 0.12\n",
      "depth 15, learners 500, train data accuracy 0.12666666666666668, test accuracy 0.12\n",
      "depth 15, learners 600, train data accuracy 0.12666666666666668, test accuracy 0.11\n",
      "depth 15, learners 700, train data accuracy 0.12666666666666668, test accuracy 0.12\n",
      "depth 15, learners 800, train data accuracy 0.12666666666666668, test accuracy 0.11\n",
      "depth 15, learners 900, train data accuracy 0.12666666666666668, test accuracy 0.11\n",
      "depth 15, learners 1000, train data accuracy 0.12666666666666668, test accuracy 0.12\n",
      "depth 20, learners 100, train data accuracy 0.12666666666666668, test accuracy 0.11\n",
      "depth 20, learners 200, train data accuracy 0.12555555555555556, test accuracy 0.12\n",
      "depth 20, learners 300, train data accuracy 0.12666666666666668, test accuracy 0.11\n",
      "depth 20, learners 400, train data accuracy 0.12555555555555556, test accuracy 0.14\n",
      "depth 20, learners 500, train data accuracy 0.12666666666666668, test accuracy 0.11\n",
      "depth 20, learners 600, train data accuracy 0.12666666666666668, test accuracy 0.11\n",
      "depth 20, learners 700, train data accuracy 0.12666666666666668, test accuracy 0.11\n",
      "depth 20, learners 800, train data accuracy 0.12666666666666668, test accuracy 0.11\n"
     ]
    },
    {
     "ename": "KeyboardInterrupt",
     "evalue": "",
     "output_type": "error",
     "traceback": [
      "\u001b[0;31m---------------------------------------------------------------------------\u001b[0m",
      "\u001b[0;31mKeyboardInterrupt\u001b[0m                         Traceback (most recent call last)",
      "\u001b[0;32m<ipython-input-63-ca5e24b031d0>\u001b[0m in \u001b[0;36m<module>\u001b[0;34m()\u001b[0m\n\u001b[1;32m     12\u001b[0m         \u001b[0mlearners\u001b[0m \u001b[0;34m=\u001b[0m \u001b[0ml\u001b[0m\u001b[0;34m*\u001b[0m\u001b[0;36m100\u001b[0m\u001b[0;34m\u001b[0m\u001b[0m\n\u001b[1;32m     13\u001b[0m         \u001b[0mrf\u001b[0m \u001b[0;34m=\u001b[0m \u001b[0mRandomForestClassifier\u001b[0m\u001b[0;34m(\u001b[0m\u001b[0mn_estimators\u001b[0m \u001b[0;34m=\u001b[0m \u001b[0mlearners\u001b[0m\u001b[0;34m,\u001b[0m \u001b[0mmax_depth\u001b[0m \u001b[0;34m=\u001b[0m \u001b[0mdepth\u001b[0m\u001b[0;34m,\u001b[0m \u001b[0mwarm_start\u001b[0m \u001b[0;34m=\u001b[0m \u001b[0;32mFalse\u001b[0m\u001b[0;34m)\u001b[0m\u001b[0;34m\u001b[0m\u001b[0m\n\u001b[0;32m---> 14\u001b[0;31m         \u001b[0mrf\u001b[0m\u001b[0;34m.\u001b[0m\u001b[0mfit\u001b[0m\u001b[0;34m(\u001b[0m\u001b[0mtrX\u001b[0m\u001b[0;34m,\u001b[0m\u001b[0mtrY\u001b[0m\u001b[0;34m)\u001b[0m \u001b[0;31m# NOTE DATA ORIENTATION\u001b[0m\u001b[0;34m\u001b[0m\u001b[0m\n\u001b[0m\u001b[1;32m     15\u001b[0m         \u001b[0mprint\u001b[0m\u001b[0;34m(\u001b[0m\u001b[0;34m'depth {}, learners {}, train data accuracy {}, test accuracy {}'\u001b[0m\u001b[0;34m.\u001b[0m\u001b[0mformat\u001b[0m\u001b[0;34m(\u001b[0m\u001b[0mdepth\u001b[0m\u001b[0;34m,\u001b[0m \u001b[0mlearners\u001b[0m\u001b[0;34m,\u001b[0m \u001b[0mrf\u001b[0m\u001b[0;34m.\u001b[0m\u001b[0mscore\u001b[0m\u001b[0;34m(\u001b[0m\u001b[0mtrX\u001b[0m\u001b[0;34m,\u001b[0m \u001b[0mtrY\u001b[0m\u001b[0;34m)\u001b[0m\u001b[0;34m,\u001b[0m \u001b[0mrf\u001b[0m\u001b[0;34m.\u001b[0m\u001b[0mscore\u001b[0m\u001b[0;34m(\u001b[0m\u001b[0mteX\u001b[0m\u001b[0;34m,\u001b[0m \u001b[0mteY\u001b[0m\u001b[0;34m)\u001b[0m\u001b[0;34m)\u001b[0m\u001b[0;34m)\u001b[0m\u001b[0;34m\u001b[0m\u001b[0m\n",
      "\u001b[0;32m/Library/Frameworks/Python.framework/Versions/3.5/lib/python3.5/site-packages/sklearn/ensemble/forest.py\u001b[0m in \u001b[0;36mfit\u001b[0;34m(self, X, y, sample_weight)\u001b[0m\n\u001b[1;32m    288\u001b[0m                     \u001b[0mt\u001b[0m\u001b[0;34m,\u001b[0m \u001b[0mself\u001b[0m\u001b[0;34m,\u001b[0m \u001b[0mX\u001b[0m\u001b[0;34m,\u001b[0m \u001b[0my\u001b[0m\u001b[0;34m,\u001b[0m \u001b[0msample_weight\u001b[0m\u001b[0;34m,\u001b[0m \u001b[0mi\u001b[0m\u001b[0;34m,\u001b[0m \u001b[0mlen\u001b[0m\u001b[0;34m(\u001b[0m\u001b[0mtrees\u001b[0m\u001b[0;34m)\u001b[0m\u001b[0;34m,\u001b[0m\u001b[0;34m\u001b[0m\u001b[0m\n\u001b[1;32m    289\u001b[0m                     verbose=self.verbose, class_weight=self.class_weight)\n\u001b[0;32m--> 290\u001b[0;31m                 for i, t in enumerate(trees))\n\u001b[0m\u001b[1;32m    291\u001b[0m \u001b[0;34m\u001b[0m\u001b[0m\n\u001b[1;32m    292\u001b[0m             \u001b[0;31m# Collect newly grown trees\u001b[0m\u001b[0;34m\u001b[0m\u001b[0;34m\u001b[0m\u001b[0m\n",
      "\u001b[0;32m/Library/Frameworks/Python.framework/Versions/3.5/lib/python3.5/site-packages/sklearn/externals/joblib/parallel.py\u001b[0m in \u001b[0;36m__call__\u001b[0;34m(self, iterable)\u001b[0m\n\u001b[1;32m    802\u001b[0m             \u001b[0mself\u001b[0m\u001b[0;34m.\u001b[0m\u001b[0m_iterating\u001b[0m \u001b[0;34m=\u001b[0m \u001b[0;32mTrue\u001b[0m\u001b[0;34m\u001b[0m\u001b[0m\n\u001b[1;32m    803\u001b[0m \u001b[0;34m\u001b[0m\u001b[0m\n\u001b[0;32m--> 804\u001b[0;31m             \u001b[0;32mwhile\u001b[0m \u001b[0mself\u001b[0m\u001b[0;34m.\u001b[0m\u001b[0mdispatch_one_batch\u001b[0m\u001b[0;34m(\u001b[0m\u001b[0miterator\u001b[0m\u001b[0;34m)\u001b[0m\u001b[0;34m:\u001b[0m\u001b[0;34m\u001b[0m\u001b[0m\n\u001b[0m\u001b[1;32m    805\u001b[0m                 \u001b[0;32mpass\u001b[0m\u001b[0;34m\u001b[0m\u001b[0m\n\u001b[1;32m    806\u001b[0m \u001b[0;34m\u001b[0m\u001b[0m\n",
      "\u001b[0;32m/Library/Frameworks/Python.framework/Versions/3.5/lib/python3.5/site-packages/sklearn/externals/joblib/parallel.py\u001b[0m in \u001b[0;36mdispatch_one_batch\u001b[0;34m(self, iterator)\u001b[0m\n\u001b[1;32m    660\u001b[0m                 \u001b[0;32mreturn\u001b[0m \u001b[0;32mFalse\u001b[0m\u001b[0;34m\u001b[0m\u001b[0m\n\u001b[1;32m    661\u001b[0m             \u001b[0;32melse\u001b[0m\u001b[0;34m:\u001b[0m\u001b[0;34m\u001b[0m\u001b[0m\n\u001b[0;32m--> 662\u001b[0;31m                 \u001b[0mself\u001b[0m\u001b[0;34m.\u001b[0m\u001b[0m_dispatch\u001b[0m\u001b[0;34m(\u001b[0m\u001b[0mtasks\u001b[0m\u001b[0;34m)\u001b[0m\u001b[0;34m\u001b[0m\u001b[0m\n\u001b[0m\u001b[1;32m    663\u001b[0m                 \u001b[0;32mreturn\u001b[0m \u001b[0;32mTrue\u001b[0m\u001b[0;34m\u001b[0m\u001b[0m\n\u001b[1;32m    664\u001b[0m \u001b[0;34m\u001b[0m\u001b[0m\n",
      "\u001b[0;32m/Library/Frameworks/Python.framework/Versions/3.5/lib/python3.5/site-packages/sklearn/externals/joblib/parallel.py\u001b[0m in \u001b[0;36m_dispatch\u001b[0;34m(self, batch)\u001b[0m\n\u001b[1;32m    568\u001b[0m \u001b[0;34m\u001b[0m\u001b[0m\n\u001b[1;32m    569\u001b[0m         \u001b[0;32mif\u001b[0m \u001b[0mself\u001b[0m\u001b[0;34m.\u001b[0m\u001b[0m_pool\u001b[0m \u001b[0;32mis\u001b[0m \u001b[0;32mNone\u001b[0m\u001b[0;34m:\u001b[0m\u001b[0;34m\u001b[0m\u001b[0m\n\u001b[0;32m--> 570\u001b[0;31m             \u001b[0mjob\u001b[0m \u001b[0;34m=\u001b[0m \u001b[0mImmediateComputeBatch\u001b[0m\u001b[0;34m(\u001b[0m\u001b[0mbatch\u001b[0m\u001b[0;34m)\u001b[0m\u001b[0;34m\u001b[0m\u001b[0m\n\u001b[0m\u001b[1;32m    571\u001b[0m             \u001b[0mself\u001b[0m\u001b[0;34m.\u001b[0m\u001b[0m_jobs\u001b[0m\u001b[0;34m.\u001b[0m\u001b[0mappend\u001b[0m\u001b[0;34m(\u001b[0m\u001b[0mjob\u001b[0m\u001b[0;34m)\u001b[0m\u001b[0;34m\u001b[0m\u001b[0m\n\u001b[1;32m    572\u001b[0m             \u001b[0mself\u001b[0m\u001b[0;34m.\u001b[0m\u001b[0mn_dispatched_batches\u001b[0m \u001b[0;34m+=\u001b[0m \u001b[0;36m1\u001b[0m\u001b[0;34m\u001b[0m\u001b[0m\n",
      "\u001b[0;32m/Library/Frameworks/Python.framework/Versions/3.5/lib/python3.5/site-packages/sklearn/externals/joblib/parallel.py\u001b[0m in \u001b[0;36m__init__\u001b[0;34m(self, batch)\u001b[0m\n\u001b[1;32m    181\u001b[0m         \u001b[0;31m# Don't delay the application, to avoid keeping the input\u001b[0m\u001b[0;34m\u001b[0m\u001b[0;34m\u001b[0m\u001b[0m\n\u001b[1;32m    182\u001b[0m         \u001b[0;31m# arguments in memory\u001b[0m\u001b[0;34m\u001b[0m\u001b[0;34m\u001b[0m\u001b[0m\n\u001b[0;32m--> 183\u001b[0;31m         \u001b[0mself\u001b[0m\u001b[0;34m.\u001b[0m\u001b[0mresults\u001b[0m \u001b[0;34m=\u001b[0m \u001b[0mbatch\u001b[0m\u001b[0;34m(\u001b[0m\u001b[0;34m)\u001b[0m\u001b[0;34m\u001b[0m\u001b[0m\n\u001b[0m\u001b[1;32m    184\u001b[0m \u001b[0;34m\u001b[0m\u001b[0m\n\u001b[1;32m    185\u001b[0m     \u001b[0;32mdef\u001b[0m \u001b[0mget\u001b[0m\u001b[0;34m(\u001b[0m\u001b[0mself\u001b[0m\u001b[0;34m)\u001b[0m\u001b[0;34m:\u001b[0m\u001b[0;34m\u001b[0m\u001b[0m\n",
      "\u001b[0;32m/Library/Frameworks/Python.framework/Versions/3.5/lib/python3.5/site-packages/sklearn/externals/joblib/parallel.py\u001b[0m in \u001b[0;36m__call__\u001b[0;34m(self)\u001b[0m\n\u001b[1;32m     70\u001b[0m \u001b[0;34m\u001b[0m\u001b[0m\n\u001b[1;32m     71\u001b[0m     \u001b[0;32mdef\u001b[0m \u001b[0m__call__\u001b[0m\u001b[0;34m(\u001b[0m\u001b[0mself\u001b[0m\u001b[0;34m)\u001b[0m\u001b[0;34m:\u001b[0m\u001b[0;34m\u001b[0m\u001b[0m\n\u001b[0;32m---> 72\u001b[0;31m         \u001b[0;32mreturn\u001b[0m \u001b[0;34m[\u001b[0m\u001b[0mfunc\u001b[0m\u001b[0;34m(\u001b[0m\u001b[0;34m*\u001b[0m\u001b[0margs\u001b[0m\u001b[0;34m,\u001b[0m \u001b[0;34m**\u001b[0m\u001b[0mkwargs\u001b[0m\u001b[0;34m)\u001b[0m \u001b[0;32mfor\u001b[0m \u001b[0mfunc\u001b[0m\u001b[0;34m,\u001b[0m \u001b[0margs\u001b[0m\u001b[0;34m,\u001b[0m \u001b[0mkwargs\u001b[0m \u001b[0;32min\u001b[0m \u001b[0mself\u001b[0m\u001b[0;34m.\u001b[0m\u001b[0mitems\u001b[0m\u001b[0;34m]\u001b[0m\u001b[0;34m\u001b[0m\u001b[0m\n\u001b[0m\u001b[1;32m     73\u001b[0m \u001b[0;34m\u001b[0m\u001b[0m\n\u001b[1;32m     74\u001b[0m     \u001b[0;32mdef\u001b[0m \u001b[0m__len__\u001b[0m\u001b[0;34m(\u001b[0m\u001b[0mself\u001b[0m\u001b[0;34m)\u001b[0m\u001b[0;34m:\u001b[0m\u001b[0;34m\u001b[0m\u001b[0m\n",
      "\u001b[0;32m/Library/Frameworks/Python.framework/Versions/3.5/lib/python3.5/site-packages/sklearn/externals/joblib/parallel.py\u001b[0m in \u001b[0;36m<listcomp>\u001b[0;34m(.0)\u001b[0m\n\u001b[1;32m     70\u001b[0m \u001b[0;34m\u001b[0m\u001b[0m\n\u001b[1;32m     71\u001b[0m     \u001b[0;32mdef\u001b[0m \u001b[0m__call__\u001b[0m\u001b[0;34m(\u001b[0m\u001b[0mself\u001b[0m\u001b[0;34m)\u001b[0m\u001b[0;34m:\u001b[0m\u001b[0;34m\u001b[0m\u001b[0m\n\u001b[0;32m---> 72\u001b[0;31m         \u001b[0;32mreturn\u001b[0m \u001b[0;34m[\u001b[0m\u001b[0mfunc\u001b[0m\u001b[0;34m(\u001b[0m\u001b[0;34m*\u001b[0m\u001b[0margs\u001b[0m\u001b[0;34m,\u001b[0m \u001b[0;34m**\u001b[0m\u001b[0mkwargs\u001b[0m\u001b[0;34m)\u001b[0m \u001b[0;32mfor\u001b[0m \u001b[0mfunc\u001b[0m\u001b[0;34m,\u001b[0m \u001b[0margs\u001b[0m\u001b[0;34m,\u001b[0m \u001b[0mkwargs\u001b[0m \u001b[0;32min\u001b[0m \u001b[0mself\u001b[0m\u001b[0;34m.\u001b[0m\u001b[0mitems\u001b[0m\u001b[0;34m]\u001b[0m\u001b[0;34m\u001b[0m\u001b[0m\n\u001b[0m\u001b[1;32m     73\u001b[0m \u001b[0;34m\u001b[0m\u001b[0m\n\u001b[1;32m     74\u001b[0m     \u001b[0;32mdef\u001b[0m \u001b[0m__len__\u001b[0m\u001b[0;34m(\u001b[0m\u001b[0mself\u001b[0m\u001b[0;34m)\u001b[0m\u001b[0;34m:\u001b[0m\u001b[0;34m\u001b[0m\u001b[0m\n",
      "\u001b[0;32m/Library/Frameworks/Python.framework/Versions/3.5/lib/python3.5/site-packages/sklearn/ensemble/forest.py\u001b[0m in \u001b[0;36m_parallel_build_trees\u001b[0;34m(tree, forest, X, y, sample_weight, tree_idx, n_trees, verbose, class_weight)\u001b[0m\n\u001b[1;32m    114\u001b[0m             \u001b[0mcurr_sample_weight\u001b[0m \u001b[0;34m*=\u001b[0m \u001b[0mcompute_sample_weight\u001b[0m\u001b[0;34m(\u001b[0m\u001b[0;34m'balanced'\u001b[0m\u001b[0;34m,\u001b[0m \u001b[0my\u001b[0m\u001b[0;34m,\u001b[0m \u001b[0mindices\u001b[0m\u001b[0;34m)\u001b[0m\u001b[0;34m\u001b[0m\u001b[0m\n\u001b[1;32m    115\u001b[0m \u001b[0;34m\u001b[0m\u001b[0m\n\u001b[0;32m--> 116\u001b[0;31m         \u001b[0mtree\u001b[0m\u001b[0;34m.\u001b[0m\u001b[0mfit\u001b[0m\u001b[0;34m(\u001b[0m\u001b[0mX\u001b[0m\u001b[0;34m,\u001b[0m \u001b[0my\u001b[0m\u001b[0;34m,\u001b[0m \u001b[0msample_weight\u001b[0m\u001b[0;34m=\u001b[0m\u001b[0mcurr_sample_weight\u001b[0m\u001b[0;34m,\u001b[0m \u001b[0mcheck_input\u001b[0m\u001b[0;34m=\u001b[0m\u001b[0;32mFalse\u001b[0m\u001b[0;34m)\u001b[0m\u001b[0;34m\u001b[0m\u001b[0m\n\u001b[0m\u001b[1;32m    117\u001b[0m     \u001b[0;32melse\u001b[0m\u001b[0;34m:\u001b[0m\u001b[0;34m\u001b[0m\u001b[0m\n\u001b[1;32m    118\u001b[0m         \u001b[0mtree\u001b[0m\u001b[0;34m.\u001b[0m\u001b[0mfit\u001b[0m\u001b[0;34m(\u001b[0m\u001b[0mX\u001b[0m\u001b[0;34m,\u001b[0m \u001b[0my\u001b[0m\u001b[0;34m,\u001b[0m \u001b[0msample_weight\u001b[0m\u001b[0;34m=\u001b[0m\u001b[0msample_weight\u001b[0m\u001b[0;34m,\u001b[0m \u001b[0mcheck_input\u001b[0m\u001b[0;34m=\u001b[0m\u001b[0;32mFalse\u001b[0m\u001b[0;34m)\u001b[0m\u001b[0;34m\u001b[0m\u001b[0m\n",
      "\u001b[0;32m/Library/Frameworks/Python.framework/Versions/3.5/lib/python3.5/site-packages/sklearn/tree/tree.py\u001b[0m in \u001b[0;36mfit\u001b[0;34m(self, X, y, sample_weight, check_input, X_idx_sorted)\u001b[0m\n\u001b[1;32m    348\u001b[0m                                            max_leaf_nodes)\n\u001b[1;32m    349\u001b[0m \u001b[0;34m\u001b[0m\u001b[0m\n\u001b[0;32m--> 350\u001b[0;31m         \u001b[0mbuilder\u001b[0m\u001b[0;34m.\u001b[0m\u001b[0mbuild\u001b[0m\u001b[0;34m(\u001b[0m\u001b[0mself\u001b[0m\u001b[0;34m.\u001b[0m\u001b[0mtree_\u001b[0m\u001b[0;34m,\u001b[0m \u001b[0mX\u001b[0m\u001b[0;34m,\u001b[0m \u001b[0my\u001b[0m\u001b[0;34m,\u001b[0m \u001b[0msample_weight\u001b[0m\u001b[0;34m,\u001b[0m \u001b[0mX_idx_sorted\u001b[0m\u001b[0;34m)\u001b[0m\u001b[0;34m\u001b[0m\u001b[0m\n\u001b[0m\u001b[1;32m    351\u001b[0m \u001b[0;34m\u001b[0m\u001b[0m\n\u001b[1;32m    352\u001b[0m         \u001b[0;32mif\u001b[0m \u001b[0mself\u001b[0m\u001b[0;34m.\u001b[0m\u001b[0mn_outputs_\u001b[0m \u001b[0;34m==\u001b[0m \u001b[0;36m1\u001b[0m\u001b[0;34m:\u001b[0m\u001b[0;34m\u001b[0m\u001b[0m\n",
      "\u001b[0;31mKeyboardInterrupt\u001b[0m: "
     ]
    }
   ],
   "source": [
    "# actual import mfcc from FV\n",
    "import numpy as np\n",
    "import random as random\n",
    "import scipy.stats as stats\n",
    "from sklearn.ensemble import RandomForestClassifier\n",
    "from sklearn.neighbors import KNeighborsClassifier\n",
    "from sklearn.metrics import zero_one_loss\n",
    "\n",
    "for d in range(1, 11):\n",
    "    for l in range(1, 11):\n",
    "        depth = d*5\n",
    "        learners = l*100\n",
    "        rf = RandomForestClassifier(n_estimators = learners, max_depth = depth, warm_start = False)\n",
    "        rf.fit(trX,trY) # NOTE DATA ORIENTATION\n",
    "        print('depth {}, learners {}, train data accuracy {}, test accuracy {}'.format(depth, learners, rf.score(trX, trY), rf.score(teX, teY)))"
   ]
  }
 ],
 "metadata": {
  "kernelspec": {
   "display_name": "Python 3",
   "language": "python",
   "name": "python3"
  },
  "language_info": {
   "codemirror_mode": {
    "name": "ipython",
    "version": 3
   },
   "file_extension": ".py",
   "mimetype": "text/x-python",
   "name": "python",
   "nbconvert_exporter": "python",
   "pygments_lexer": "ipython3",
   "version": "3.5.0"
  }
 },
 "nbformat": 4,
 "nbformat_minor": 0
}
