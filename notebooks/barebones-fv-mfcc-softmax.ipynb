{
 "cells": [
  {
   "cell_type": "markdown",
   "metadata": {},
   "source": [
    "Basic SoftMax multiclass regression with default (3, 3) parameter FV on only the MFCC features."
   ]
  },
  {
   "cell_type": "code",
   "execution_count": 6,
   "metadata": {
    "collapsed": false
   },
   "outputs": [],
   "source": [
    "import os\n",
    "import scipy.io as spio\n",
    "import numpy as np\n",
    "from os.path import join, isdir\n",
    "\n",
    "DATA_DIR = '../data'\n",
    "# 'file_name' 'class_name' 'class' 'eng' 'mfc' 'chroma' 't'\n",
    "# 'keystrength' 'brightness' 'zerocross' 'roughness' 'inharmonic' 'hcdf'\n",
    "#"
   ]
  },
  {
   "cell_type": "code",
   "execution_count": 24,
   "metadata": {
    "collapsed": false
   },
   "outputs": [
    {
     "data": {
      "text/plain": [
       "('jazz', 'reggae')"
      ]
     },
     "execution_count": 24,
     "metadata": {},
     "output_type": "execute_result"
    }
   ],
   "source": [
    "# In-python MFC extraction (may not be necessary if we use MATLAB-only)\n",
    "X = []\n",
    "for basename in os.listdir(DATA_DIR)[:2]:\n",
    "    path = join(DATA_DIR, basename)\n",
    "    def loadmfc(base): return spio.loadmat(join(path, base))['DAT']['mfc'][0,0]\n",
    "    mfc = np.concatenate([loadmfc(i).shape for i in os.listdir(path)])\n",
    "    X.append([basename, mfc])\n",
    "[classes, X] = zip(*X)\n",
    "classes\n",
    "# TODO: would be nice to have this fully in python."
   ]
  },
  {
   "cell_type": "code",
   "execution_count": null,
   "metadata": {
    "collapsed": true
   },
   "outputs": [],
   "source": [
    "!/MATLAB_BINARY -nodisplay -nosplash -nodesktop -r \"run('../tools/FV_concat.m');exit;\"\n",
    "mfcc = np.transpose(spio.loadmat(FVs)['FV'])\n",
    "labels = spio.loadmat(LBs)['LB'][0]\n",
    "N = mfcc.shape[1]\n",
    "p = np.random.permutation(N)\n",
    "mfcc, labels = mfcc[p], labels[p]\n",
    "print('mfcc', mfcc.shape, 'labels', labels.shape)\n",
    "\n",
    "trN = int(0.8 * N)\n",
    "teN = N - trN\n",
    "trX, trY = mfcc[:trN], labels[:trN]\n",
    "teX, teY = mfcc[-teN:], labels[-teN:]"
   ]
  },
  {
   "cell_type": "code",
   "execution_count": null,
   "metadata": {
    "collapsed": true
   },
   "outputs": [],
   "source": [
    "# Random-restart softmax\n",
    "from sklearn.linear_model import LogisticRegressionCV\n",
    "\n",
    "reg = LogisticRegressionCV(multi_class='multinomial', solver='lbfgs', max_iter=1000)\n",
    "reg.fit(trX, trY)\n",
    "reg.score(teX, teY)"
   ]
  }
 ],
 "metadata": {
  "kernelspec": {
   "display_name": "Python 3",
   "language": "python",
   "name": "python3"
  },
  "language_info": {
   "codemirror_mode": {
    "name": "ipython",
    "version": 3
   },
   "file_extension": ".py",
   "mimetype": "text/x-python",
   "name": "python",
   "nbconvert_exporter": "python",
   "pygments_lexer": "ipython3",
   "version": "3.4.3"
  }
 },
 "nbformat": 4,
 "nbformat_minor": 0
}
