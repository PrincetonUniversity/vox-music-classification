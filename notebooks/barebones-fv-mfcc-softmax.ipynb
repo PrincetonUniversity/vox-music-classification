{
 "cells": [
  {
   "cell_type": "markdown",
   "metadata": {},
   "source": [
    "Basic SoftMax multiclass regression with default (3, 3) parameter FV on only the MFCC features."
   ]
  },
  {
   "cell_type": "code",
   "execution_count": 1,
   "metadata": {
    "collapsed": false
   },
   "outputs": [],
   "source": [
    "import os\n",
    "import scipy.io as spio\n",
    "import numpy as np\n",
    "from os.path import join, isdir, isfile\n",
    "\n",
    "DATA_DIR = '../data'\n",
    "# 'file_name' 'class_name' 'class' 'eng' 'mfc' 'chroma' 't'\n",
    "# 'keystrength' 'brightness' 'zerocross' 'roughness' 'inharmonic' 'hcdf'\n",
    "#"
   ]
  },
  {
   "cell_type": "code",
   "execution_count": 2,
   "metadata": {
    "collapsed": false
   },
   "outputs": [
    {
     "name": "stdout",
     "output_type": "stream",
     "text": [
      "Using existing FVs\n"
     ]
    },
    {
     "data": {
      "text/plain": [
       "1000"
      ]
     },
     "execution_count": 2,
     "metadata": {},
     "output_type": "execute_result"
    }
   ],
   "source": [
    "# This is technically wrong, since we're doing the FV computation on the whole dataset\n",
    "FVs = join(DATA_DIR, 'FV.mat')\n",
    "LBs = join(DATA_DIR, 'LB.mat')\n",
    "if not isfile(FVs) or not isfile(LBs):\n",
    "    print('Generating Fisher Vectors')\n",
    "    !matlab -nodisplay -nosplash -nodesktop -r \"run('../tools/FV_concat.m');exit;\"\n",
    "else:\n",
    "    print('Using existing FVs')\n",
    "\n",
    "mfcc = np.transpose(spio.loadmat(FVs)['FV'])\n",
    "labels = spio.loadmat(LBs)['LB'][0]\n",
    "N = mfcc.shape[0]\n",
    "\n",
    "p = np.random.permutation(N)\n",
    "mfcc = mfcc[p]\n",
    "labels = labels[p]\n",
    "\n",
    "N"
   ]
  },
  {
   "cell_type": "code",
   "execution_count": 3,
   "metadata": {
    "collapsed": false
   },
   "outputs": [
    {
     "data": {
      "text/plain": [
       "10"
      ]
     },
     "execution_count": 3,
     "metadata": {},
     "output_type": "execute_result"
    }
   ],
   "source": [
    "trN = int(0.8 * N)\n",
    "teN = N - trN\n",
    "trX, trY = mfcc[:trN], labels[:trN]\n",
    "teX, teY = mfcc[-teN:], labels[-teN:]\n",
    "len(set(trY))"
   ]
  },
  {
   "cell_type": "code",
   "execution_count": 4,
   "metadata": {
    "collapsed": false
   },
   "outputs": [
    {
     "name": "stdout",
     "output_type": "stream",
     "text": [
      "train data accuracy 0.735 test accuracy 0.68\n"
     ]
    }
   ],
   "source": [
    "# Random-restart softmax\n",
    "from sklearn.linear_model import LogisticRegressionCV\n",
    "import warnings\n",
    "warnings.filterwarnings('ignore')\n",
    "\n",
    "reg = LogisticRegressionCV(multi_class='multinomial', solver='lbfgs', max_iter=5000, n_jobs=8)\n",
    "reg.fit(trX, trY)\n",
    "print('train data accuracy {} test accuracy {}'.format(reg.score(trX, trY), reg.score(teX, teY)))"
   ]
  },
  {
   "cell_type": "code",
   "execution_count": 11,
   "metadata": {
    "collapsed": false
   },
   "outputs": [
    {
     "name": "stdout",
     "output_type": "stream",
     "text": [
      "means in range [-0.0201, 0.0087]\n",
      "std in range [0.0201, 0.0624]\n",
      "means in range [-0.0000, 0.0000]\n",
      "std in range [1.0000, 1.0000]\n"
     ]
    }
   ],
   "source": [
    "%matplotlib inline\n",
    "import matplotlib.pyplot as plt\n",
    "\n",
    "means = np.mean(trX, axis=0)\n",
    "stddevs = np.std(trX, axis=0)\n",
    "\n",
    "def summary(x):\n",
    "    return '[{:.4f}, {:.4f}]'.format(np.ndarray.min(x), np.ndarray.max(x))\n",
    "print('means in range', summary(means))\n",
    "print('std in range', summary(stddevs))\n",
    "\n",
    "def adjust(x): return (x - means[None, :]) / stddevs[None, :]\n",
    "trXadj = adjust(trX)\n",
    "teXadj = adjust(teX)\n",
    "\n",
    "print('means in range', summary(np.mean(trXadj, axis=0)))\n",
    "print('std in range', summary(np.std(trXadj, axis=0)))"
   ]
  },
  {
   "cell_type": "code",
   "execution_count": 12,
   "metadata": {
    "collapsed": false
   },
   "outputs": [
    {
     "name": "stdout",
     "output_type": "stream",
     "text": [
      "train data accuracy 0.785 test accuracy 0.645\n"
     ]
    }
   ],
   "source": [
    "reg.fit(trXadj, trY)\n",
    "print('train data accuracy {} test accuracy {}'.format(reg.score(trXadj, trY), reg.score(teXadj, teY)))"
   ]
  }
 ],
 "metadata": {
  "kernelspec": {
   "display_name": "Python 3",
   "language": "python",
   "name": "python3"
  },
  "language_info": {
   "codemirror_mode": {
    "name": "ipython",
    "version": 3
   },
   "file_extension": ".py",
   "mimetype": "text/x-python",
   "name": "python",
   "nbconvert_exporter": "python",
   "pygments_lexer": "ipython3",
   "version": "3.4.3"
  }
 },
 "nbformat": 4,
 "nbformat_minor": 0
}
