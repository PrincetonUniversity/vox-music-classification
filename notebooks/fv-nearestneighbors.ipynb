{
 "cells": [
  {
   "cell_type": "markdown",
   "metadata": {},
   "source": [
    "Basic Random Forest multiclass regression with default (3, 3) parameter FV on only the MFCC features."
   ]
  },
  {
   "cell_type": "code",
   "execution_count": 4,
   "metadata": {
    "collapsed": false
   },
   "outputs": [
    {
     "data": {
      "text/plain": [
       "1000"
      ]
     },
     "execution_count": 4,
     "metadata": {},
     "output_type": "execute_result"
    }
   ],
   "source": [
    "import os\n",
    "import scipy.io as spio\n",
    "import numpy as np\n",
    "from os.path import join, isdir, isfile\n",
    "\n",
    "DATA_DIR = '../generated-fv/'\n",
    "FVs = join(DATA_DIR, 'FV3-3.mat')\n",
    "LBs = join(DATA_DIR, 'LB.mat')\n",
    "mfcc = np.transpose(spio.loadmat(FVs)['FV'])\n",
    "labels = spio.loadmat(LBs)['LB'][0]\n",
    "N = mfcc.shape[0]\n",
    "\n",
    "p = np.random.permutation(N)\n",
    "mfcc = mfcc[p]\n",
    "labels = labels[p]\n",
    "\n",
    "N"
   ]
  },
  {
   "cell_type": "code",
   "execution_count": 7,
   "metadata": {
    "collapsed": false
   },
   "outputs": [
    {
     "name": "stdout",
     "output_type": "stream",
     "text": [
      "neighbors 1, algorithm brute, score 0.6363782051282051\n",
      "neighbors 2, algorithm brute, score 0.6145833333333334\n",
      "neighbors 3, algorithm brute, score 0.624198717948718\n",
      "neighbors 4, algorithm brute, score 0.6425480769230769\n",
      "neighbors 5, algorithm brute, score 0.6387019230769231\n",
      "neighbors 6, algorithm brute, score 0.649198717948718\n",
      "neighbors 7, algorithm brute, score 0.640625\n",
      "neighbors 8, algorithm brute, score 0.644551282051282\n",
      "neighbors 9, algorithm brute, score 0.6453525641025641\n",
      "neighbors 10, algorithm brute, score 0.6402243589743589\n",
      "neighbors 11, algorithm brute, score 0.641426282051282\n",
      "neighbors 12, algorithm brute, score 0.644150641025641\n",
      "neighbors 13, algorithm brute, score 0.644150641025641\n",
      "neighbors 14, algorithm brute, score 0.6405448717948719\n",
      "neighbors 15, algorithm brute, score 0.6372596153846154\n",
      "neighbors 16, algorithm brute, score 0.6382211538461539\n",
      "neighbors 17, algorithm brute, score 0.6330128205128205\n",
      "neighbors 18, algorithm brute, score 0.640224358974359\n",
      "neighbors 19, algorithm brute, score 0.6392628205128205\n",
      "neighbors 20, algorithm brute, score 0.6361378205128205\n"
     ]
    }
   ],
   "source": [
    "# actual import mfcc from FV\n",
    "import scipy.stats as stats\n",
    "from sklearn.neighbors import KNeighborsClassifier\n",
    "from sklearn.cross_validation import cross_val_score\n",
    "from sklearn.cross_validation import StratifiedKFold\n",
    "\n",
    "skf = StratifiedKFold(labels, n_folds=8, shuffle=True, random_state=1)\n",
    "for alg in [\"brute\"]:\n",
    "    for k in range(1, 21):\n",
    "        neigh = KNeighborsClassifier(n_neighbors=k, algorithm=alg)\n",
    "        score = np.average(cross_val_score(neigh, mfcc, labels, cv=skf, n_jobs=1))\n",
    "        print('neighbors {}, algorithm {}, score {}'.format(k, alg, score))"
   ]
  }
 ],
 "metadata": {
  "kernelspec": {
   "display_name": "Python 3",
   "language": "python",
   "name": "python3"
  },
  "language_info": {
   "codemirror_mode": {
    "name": "ipython",
    "version": 3
   },
   "file_extension": ".py",
   "mimetype": "text/x-python",
   "name": "python",
   "nbconvert_exporter": "python",
   "pygments_lexer": "ipython3",
   "version": "3.5.0"
  }
 },
 "nbformat": 4,
 "nbformat_minor": 0
}
