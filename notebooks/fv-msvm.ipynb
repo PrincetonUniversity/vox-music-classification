{
 "cells": [
  {
   "cell_type": "code",
   "execution_count": 6,
   "metadata": {
    "collapsed": false
   },
   "outputs": [],
   "source": [
    "import sys, itertools\n",
    "import numpy as np\n",
    "%matplotlib inline\n",
    "import matplotlib.pyplot as plt\n",
    "import sklearn, time, math\n",
    "from sklearn.svm import SVC, LinearSVC\n",
    "from sklearn.ensemble import RandomForestClassifier\n",
    "from sklearn.cross_validation import cross_val_score\n",
    "from sklearn.cross_validation import train_test_split\n",
    "from sklearn.cross_validation import StratifiedKFold\n",
    "from sklearn.metrics import confusion_matrix\n",
    "\n",
    "if '../tools' not in sys.path:\n",
    "    sys.path.append('../tools')\n",
    "from helper_functions import * \n",
    "\n",
    "import warnings\n",
    "warnings.filterwarnings('ignore')"
   ]
  },
  {
   "cell_type": "code",
   "execution_count": 9,
   "metadata": {
    "collapsed": true
   },
   "outputs": [],
   "source": [
    "def log_range(lo, hi): return [10 ** i for i in range(lo, hi)]\n",
    "    \n",
    "def best(scores, hypers):\n",
    "    best = max(scores)\n",
    "    return best, hypers[scores.index(best)]\n",
    "\n",
    "def run(X, Y, hypers, classifier, data_change=None):\n",
    "    hypers = list(hypers)\n",
    "    best_acc, best_params = -np.inf, None\n",
    "    skf = StratifiedKFold(Y, n_folds=8, shuffle=True, random_state=1)\n",
    "    scores = []\n",
    "    nproc = 8\n",
    "    for i, h in enumerate(hypers):\n",
    "        svm = classifier(h)\n",
    "        mX = X\n",
    "        if data_change: mX = data_change(mX, h)\n",
    "        c = np.average(cross_val_score(svm, mX, Y, cv=skf, n_jobs=-1))\n",
    "        scores.append(c)\n",
    "        print('\\r{} best acc {} params {}'.format(\n",
    "                completion_bar(len(scores), len(hypers), width=20),\n",
    "                *best(scores, hypers)), end='')\n",
    "        sys.stdout.flush()\n",
    "    print()\n",
    "    return best(scores, hypers)\n"
   ]
  },
  {
   "cell_type": "code",
   "execution_count": 107,
   "metadata": {
    "collapsed": false
   },
   "outputs": [
    {
     "name": "stdout",
     "output_type": "stream",
     "text": [
      "Using existing FVs from file ../generated-fv/FV3-3.mat\n",
      "N = 1000\n",
      "MFCC training feature ranges means [-0.0201, 0.0090] sds [0.0202, 0.0614]\n",
      "Using existing FVs from file ../generated-fv/FVC3-3.mat\n",
      "N = 1000\n",
      "chroma training feature ranges means [-0.0107, 0.0108] sds [0.0376, 0.0670]\n",
      "mfcc(3,3) on SVM (hyper is C, kernel, ovo/ovr)\n",
      "[--------------------] 40/40 best acc 0.6744391025641026 params (100, 'poly', 'ovo')\n",
      "mfcc(3,3) on LinearSVM (hyper is C, kernel, ovo/ovr)\n",
      "[--------------------] 20/20 best acc 0.6481570512820513 params (1, 'squared_hinge')\n",
      "chroma(3,3) on SVM (hyper is C, kernel, ovo/ovr)\n",
      "[--------------------] 40/40 best acc 0.47508012820512824 params (1000, 'poly', 'ovo')\n",
      "chroma(3,3) on LinearSVM (hyper is C, kernel)\n",
      "[--------------------] 20/20 best acc 0.47187500000000004 params (10, 'squared_hinge')\n"
     ]
    }
   ],
   "source": [
    "df = ['ovo', 'ovr']\n",
    "Cs = log_range(-5, 5)\n",
    "kernels = ['rbf', 'poly']\n",
    "def make_svm(tup):\n",
    "    C, k, d = tup\n",
    "    if k == 'poly': return SVC(C=C, kernel=k, decision_function_shape=d, degree=10., coef0=1.)\n",
    "    return SVC(C=C, kernel=k, decision_function_shape=d)\n",
    "\n",
    "M, Y = load_all_fv(3, 3)\n",
    "C, Y = load_chroma_fv(3, 3)\n",
    "\n",
    "top_mfcc_svm, top_chroma_svm = None, None\n",
    "\n",
    "print('mfcc(3,3) on SVM (hyper is C, kernel, ovo/ovr)')\n",
    "top_mfcc_svm = run(M, Y, itertools.product(Cs, kernels, df), make_svm)\n",
    "\n",
    "loss = ['hinge', 'squared_hinge']\n",
    "def make_lsvm(tup):\n",
    "    C, l = tup\n",
    "    return LinearSVC(C=C, loss=l)\n",
    "print('mfcc(3,3) on LinearSVM (hyper is C, kernel, ovo/ovr)')\n",
    "x = run(M, Y, itertools.product(Cs, loss), make_lsvm)\n",
    "if x[0] > top_mfcc_svm[0]: top_mfcc_svm = make_lsvm(x[1])\n",
    "else: top_mfcc_svm = make_svm(top_mfcc_svm[1])\n",
    "\n",
    "print('chroma(3,3) on SVM (hyper is C, kernel, ovo/ovr)')\n",
    "top_chroma_svm = run(C, Y, itertools.product(Cs, kernels, df), make_svm)\n",
    "\n",
    "print('chroma(3,3) on LinearSVM (hyper is C, kernel)')\n",
    "x = run(C, Y, itertools.product(Cs, loss), make_lsvm)\n",
    "if x[0] > top_chroma_svm[0]: top_chroma_svm = make_lsvm(x[1])\n",
    "else: top_chroma_svm = make_svm(top_chroma_svm[1])"
   ]
  },
  {
   "cell_type": "code",
   "execution_count": 10,
   "metadata": {
    "collapsed": false
   },
   "outputs": [
    {
     "data": {
      "image/png": "[encoded data removed]",
      "text/plain": [
       "<matplotlib.figure.Figure at 0x7fa5bf0f5fd0>"
      ]
     },
     "metadata": {},
     "output_type": "display_data"
    },
    {
     "data": {
      "image/png": "[encoded data removed]",
      "text/plain": [
       "<matplotlib.figure.Figure at 0x7fa5bd026b38>"
      ]
     },
     "metadata": {},
     "output_type": "display_data"
    }
   ],
   "source": [
    "trM, teM, trC, teC, trY, teY = train_test_split(M, C, Y, stratify=Y,\n",
    "                                      random_state=1, test_size=(1/8))\n",
    "top_mfcc_svm.fit(trM, trY)\n",
    "plot_confusion_matrix(confusion_matrix(teY, top_mfcc_svm.predict(teM)),\n",
    "                      title='mfcc FV(3,3) mSVM')\n",
    "plt.show()\n",
    "top_mfcc_svm.fit(trC, trY)\n",
    "plot_confusion_matrix(confusion_matrix(teY, top_mfcc_svm.predict(teC)),\n",
    "                      title='chroma FV(3,3) mSVM')\n",
    "plt.show()"
   ]
  },
  {
   "cell_type": "code",
   "execution_count": 16,
   "metadata": {
    "collapsed": false
   },
   "outputs": [
    {
     "name": "stdout",
     "output_type": "stream",
     "text": [
      "[--------------------] 40/40 best acc 0.6842147435897437 params (100, 'poly', 'ovo')\n"
     ]
    }
   ],
   "source": [
    "df = ['ovo', 'ovr']\n",
    "Cs = log_range(-5, 5)\n",
    "kernels = ['rbf', 'poly']\n",
    "def make_svm(tup):\n",
    "    C, k, d = tup\n",
    "    if k == 'poly': return SVC(C=C, kernel=k, decision_function_shape=d, degree=10., coef0=1.)\n",
    "    return SVC(C=C, kernel=k, decision_function_shape=d)\n",
    "svm = make_svm(run(X, Y, itertools.product(Cs, kernels, df), make_svm)[1])"
   ]
  },
  {
   "cell_type": "code",
   "execution_count": 14,
   "metadata": {
    "collapsed": false
   },
   "outputs": [
    {
     "name": "stdout",
     "output_type": "stream",
     "text": [
      "mfcc(3,3)+chroma(3,3) on SVM (hyper is C, k)\n",
      "[--------------------] 7/7 best acc 0.6842147435897437 params 100\n"
     ]
    },
    {
     "data": {
      "image/png": "[encoded data removed]",
      "text/plain": [
       "<matplotlib.figure.Figure at 0x7fa5bafa8e80>"
      ]
     },
     "metadata": {},
     "output_type": "display_data"
    }
   ],
   "source": [
    "def make_svm(C):\n",
    "    return SVC(C=C, kernel='poly',\n",
    "               decision_function_shape='ovo',\n",
    "               degree=10., coef0=1.)\n",
    "Cs = log_range(0, 7)\n",
    "\n",
    "X = np.concatenate((M, C), axis=1)\n",
    "trX, teX, trY, teY = train_test_split(X, Y, stratify=Y,\n",
    "                                      random_state=1, test_size=(1/8))\n",
    "\n",
    "print('mfcc(3,3)+chroma(3,3) on SVM (hyper is C, k)')\n",
    "svm = make_svm(run(X, Y, Cs, make_svm)[1])\n",
    "\n",
    "svm.fit(trX, trY)\n",
    "plot_confusion_matrix(confusion_matrix(teY, svm.predict(teX)),\n",
    "                      title='mfcc+chroma FV(3,3) mSVM')"
   ]
  },
  {
   "cell_type": "code",
   "execution_count": null,
   "metadata": {
    "collapsed": true
   },
   "outputs": [],
   "source": [
    "M, Y = load_all_fv(8, 8)\n",
    "C, Y = load_chroma_fv(8, 8)\n",
    "X = np.concatenate((M, C), axis=1)\n",
    "print('mfcc(8,8) on SVM (hyper is C, k)')\n",
    "run(M, Y, itertools.product(Cs, kernels), make_svm)\n",
    "print('chroma(8,8) on SVM (hyper is C, k)')\n",
    "run(C, Y, itertools.product(Cs, kernels), make_svm)\n",
    "print('mfcc(8,8)+chroma(8,8) on SVM (hyper is C, k)')\n",
    "run(X, Y, itertools.product(Cs, kernels), make_svm)"
   ]
  },
  {
   "cell_type": "code",
   "execution_count": 34,
   "metadata": {
    "collapsed": false
   },
   "outputs": [
    {
     "data": {
      "image/png": "[encoded data removed]",
      "text/plain": [
       "<matplotlib.figure.Figure at 0x7f992293a470>"
      ]
     },
     "metadata": {},
     "output_type": "display_data"
    }
   ],
   "source": [
    "from sklearn.ensemble import RandomForestClassifier\n",
    "from sklearn.cross_validation import train_test_split\n",
    "def make_rf(md):\n",
    "    return RandomForestClassifier(n_estimators=(max(md,10)*6), max_depth=md)\n",
    "\n",
    "df = ['ovo', 'ovr']\n",
    "Cs = log_range(-5, 5)\n",
    "kernels = ['rbf', 'poly']\n",
    "def make_svm(tup):\n",
    "    C, k, d = tup\n",
    "    if k == 'poly': return SVC(C=C, kernel=k, decision_function_shape=d, degree=10., coef0=1.)\n",
    "    return SVC(C=C, kernel=k, decision_function_shape=d)\n",
    "svm = make_svm(run(X, Y, itertools.product(Cs, kernels, df), make_svm)[1])"
   ]
  },
  {
   "cell_type": "code",
   "execution_count": 59,
   "metadata": {
    "collapsed": false
   },
   "outputs": [
    {
     "data": {
      "image/png": "[encoded data removed]",
      "text/plain": [
       "<matplotlib.figure.Figure at 0x7f9927a8a390>"
      ]
     },
     "metadata": {},
     "output_type": "display_data"
    }
   ],
   "source": [
    "rf.fit(X, Y) # can't technically do whole, integrate this with CV\n",
    "def order(x):\n",
    "    p = [x[0] for x in sorted(list(enumerate(x)), key=lambda tup:tup[1])]\n",
    "    p.reverse()\n",
    "    return p\n",
    "p = order(rf.feature_importances_)\n",
    "plt.plot(rf.feature_importances_[p], '.-')\n",
    "plt.show()"
   ]
  },
  {
   "cell_type": "code",
   "execution_count": null,
   "metadata": {
    "collapsed": false
   },
   "outputs": [],
   "source": [
    "print('RF-cutoff mfcc/chroma + SVM (hyper is C regularizer)')\n",
    "run(whiten(X[:, p[:1000]]), Y, log_range(0, 10), lambda C: SVC(C=C))\n",
    "print('RF-cutoff mfcc/chroma + poly SVM (hyper is C regularizer)')\n",
    "run(whiten(X[:, p[:1000]]), Y, log_range(0, 10),\n",
    "    lambda C: SVC(C=C, kernel='poly', degree=10, coef0=1))\n",
    "print('RF-cutoff mfcc/chroma + linear SVM (hyper is C regularizer)')\n",
    "run(whiten(X[:, p[:1000]]), Y, log_range(0, 10),\n",
    "    lambda C: SVC(C=C, kernel='linear'))\n",
    "print('RF-scaled mfcc/chroma + rbf SVM (hyper is C regularizer)')\n",
    "run(rf.feature_importances_ * 1000 * whiten(X), Y, log_range(0, 10), lambda C: SVC(C=C))\n",
    "print('RF-scaled mfcc/chroma + poly SVM (hyper is C regularizer)')\n",
    "run(rf.feature_importances_ * 1000 * whiten(X), Y, log_range(0, 10),\n",
    "    lambda C: SVC(C=C, kernel='poly', degree=10, coef0=1))\n",
    "print('RF-scaled mfcc/chroma + linear SVM (hyper is C regularizer)')\n",
    "run(rf.feature_importances_ * 1000 * whiten(X), Y, log_range(0, 10),\n",
    "    lambda C: SVC(C=C, kernel='linear'))"
   ]
  },
  {
   "cell_type": "code",
   "execution_count": 16,
   "metadata": {
    "collapsed": false
   },
   "outputs": [
    {
     "name": "stdout",
     "output_type": "stream",
     "text": [
      "RF-cutoff mfcc + rbf SVM (hyper is C regularizer)\n",
      "[--------------------] 1/1 best acc 0.535176 hyper 5\n",
      "done in 0.8084800243377686 seconds\n",
      "[--------------------] 1/1 best acc 0.588462 hyper 5\n",
      "done in 0.990833044052124 seconds\n",
      "[--------------------] 1/1 best acc 0.639904 hyper 5\n",
      "done in 1.398914098739624 seconds\n",
      "[--------------------] 1/1 best acc 0.667067 hyper 5\n",
      "done in 1.706181526184082 seconds\n",
      "[--------------------] 1/1 best acc 0.683173 hyper 5\n",
      "done in 2.213334083557129 seconds\n",
      "[--------------------] 1/1 best acc 0.694952 hyper 5\n",
      "done in 2.5045533180236816 seconds\n",
      "[--------------------] 1/1 best acc 0.712821 hyper 5\n",
      "done in 3.2288362979888916 seconds\n",
      "[--------------------] 1/1 best acc 0.715946 hyper 5\n",
      "done in 3.5558834075927734 seconds\n",
      "[--------------------] 1/1 best acc 0.714824 hyper 5\n",
      "done in 3.6879754066467285 seconds\n",
      "[--------------------] 1/1 best acc 0.720753 hyper 5\n",
      "done in 4.029447078704834 seconds\n",
      "[--------------------] 1/1 best acc 0.71875 hyper 5\n",
      "done in 4.916456460952759 seconds\n",
      "[--------------------] 1/1 best acc 0.720833 hyper 5\n",
      "done in 5.854745149612427 seconds\n",
      "[--------------------] 1/1 best acc 0.725962 hyper 5\n",
      "done in 6.1288981437683105 seconds\n",
      "[--------------------] 1/1 best acc 0.727804 hyper 5\n",
      "done in 6.064671516418457 seconds\n",
      "[--------------------] 1/1 best acc 0.731811 hyper 5\n",
      "done in 6.751474618911743 seconds\n",
      "[--------------------] 1/1 best acc 0.729888 hyper 5\n",
      "done in 7.3301661014556885 seconds\n",
      "[--------------------] 1/1 best acc 0.734936 hyper 5\n",
      "done in 7.964676856994629 seconds\n",
      "[--------------------] 1/1 best acc 0.730849 hyper 5\n",
      "done in 8.016938209533691 seconds\n",
      "[--------------------] 1/1 best acc 0.732612 hyper 5\n",
      "done in 8.276246786117554 seconds\n",
      "[--------------------] 1/1 best acc 0.732612 hyper 5\n",
      "done in 8.213489294052124 seconds\n",
      "[--------------------] 1/1 best acc 0.730769 hyper 5\n",
      "done in 8.705864191055298 seconds\n",
      "[--------------------] 1/1 best acc 0.731651 hyper 5\n",
      "done in 9.156215190887451 seconds\n",
      "[--------------------] 1/1 best acc 0.730689 hyper 5\n",
      "done in 9.784804344177246 seconds\n",
      "[--------------------] 1/1 best acc 0.729647 hyper 5\n",
      "done in 11.059188842773438 seconds\n",
      "[--------------------] 1/1 best acc 0.731731 hyper 5\n",
      "done in 10.9257652759552 seconds\n",
      "[--------------------] 1/1 best acc 0.731811 hyper 5\n",
      "done in 10.811896562576294 seconds\n",
      "[--------------------] 1/1 best acc 0.731731 hyper 5\n",
      "done in 11.356090784072876 seconds\n",
      "[--------------------] 1/1 best acc 0.728686 hyper 5\n",
      "done in 14.206225156784058 seconds\n",
      "[--------------------] 1/1 best acc 0.723718 hyper 5\n",
      "done in 14.61713433265686 seconds\n",
      "[--------------------] 1/1 best acc 0.726763 hyper 5\n",
      "done in 14.826357364654541 seconds\n",
      "[--------------------] 1/1 best acc 0.720994 hyper 5\n",
      "done in 14.290584087371826 seconds\n",
      "[--------------------] 1/1 best acc 0.723077 hyper 5\n",
      "done in 16.116512537002563 seconds\n",
      "[--------------------] 1/1 best acc 0.716106 hyper 5\n",
      "done in 17.337904453277588 seconds\n",
      "[--------------------] 1/1 best acc 0.719071 hyper 5\n",
      "done in 18.583563804626465 seconds\n",
      "[--------------------] 1/1 best acc 0.719151 hyper 5\n",
      "done in 17.802016019821167 seconds\n",
      "[--------------------] 1/1 best acc 0.719151 hyper 5\n",
      "done in 19.51250672340393 seconds\n",
      "[--------------------] 1/1 best acc 0.715144 hyper 5\n",
      "done in 20.226052284240723 seconds\n",
      "[--------------------] 1/1 best acc 0.714263 hyper 5\n",
      "done in 20.106632947921753 seconds\n",
      "[--------------------] 1/1 best acc 0.716106 hyper 5\n",
      "done in 21.64133906364441 seconds\n",
      "[--------------------] 1/1 best acc 0.712179 hyper 5\n",
      "done in 22.52589440345764 seconds\n",
      "[--------------------] 1/1 best acc 0.715064 hyper 5\n",
      "done in 25.828978300094604 seconds\n",
      "[--------------------] 1/1 best acc 0.714984 hyper 5\n",
      "done in 23.42727756500244 seconds\n",
      "[--------------------] 1/1 best acc 0.712019 hyper 5\n",
      "done in 23.453134775161743 seconds\n",
      "[--------------------] 1/1 best acc 0.715064 hyper 5\n",
      "done in 24.562620639801025 seconds\n",
      "[--------------------] 1/1 best acc 0.714904 hyper 5\n",
      "done in 24.438997507095337 seconds\n",
      "[--------------------] 1/1 best acc 0.709936 hyper 5\n",
      "done in 24.896027326583862 seconds\n",
      "[--------------------] 1/1 best acc 0.712099 hyper 5\n",
      "done in 25.70916724205017 seconds\n",
      "[--------------------] 1/1 best acc 0.709936 hyper 5\n",
      "done in 27.295032024383545 seconds\n",
      "[--------------------] 1/1 best acc 0.707853 hyper 5\n",
      "done in 25.933273553848267 seconds\n",
      "[--------------------] 1/1 best acc 0.706891 hyper 5\n",
      "done in 27.331964015960693 seconds\n",
      "[--------------------] 1/1 best acc 0.706891 hyper 5\n",
      "done in 26.686509132385254 seconds\n"
     ]
    },
    {
     "data": {
      "text/plain": [
       "[<matplotlib.lines.Line2D at 0x7f993b962780>,\n",
       " <matplotlib.lines.Line2D at 0x7f993b962a20>]"
      ]
     },
     "execution_count": 16,
     "metadata": {},
     "output_type": "execute_result"
    },
    {
     "data": {
      "image/png": "[encoded data removed]",
      "text/plain": [
       "<matplotlib.figure.Figure at 0x7f9924a592e8>"
      ]
     },
     "metadata": {},
     "output_type": "display_data"
    }
   ],
   "source": [
    "def runRBF5(X, k):\n",
    "    print('RF-cutoff mfcc + rbf SVM (hyper is C regularizer), cutoff', k)\n",
    "    return run(whiten(X[:, p[:k]]), Y, [5], lambda C: SVC(C=C))\n",
    "print('RF-cutoff mfcc + rbf SVM (hyper is C regularizer)')\n",
    "ks = list(range(50, X.shape[1], 50))\n",
    "res = [runRBF5(X, k)[0] for k in ks]\n",
    "plt.plot(res, '.-')"
   ]
  },
  {
   "cell_type": "code",
   "execution_count": 63,
   "metadata": {
    "collapsed": false
   },
   "outputs": [
    {
     "name": "stdout",
     "output_type": "stream",
     "text": [
      "Using existing FVs from file ../generated-fv/FV8-3.mat\n",
      "N = 1000\n",
      "MFCC training feature ranges means [-0.0119, 0.0060] sds [0.0119, 0.0429]\n",
      "Using existing FVs from file ../generated-fv/FVC8-3.mat\n",
      "N = 1000\n",
      "chroma training feature ranges means [-0.0079, 0.0084] sds [0.0170, 0.0492]\n",
      "voting score 0.716\n"
     ]
    },
    {
     "data": {
      "image/png": "[encoded data removed]",
      "text/plain": [
       "<matplotlib.figure.Figure at 0x7f993bc14240>"
      ]
     },
     "metadata": {},
     "output_type": "display_data"
    }
   ],
   "source": [
    "X, Y = load_all_fv(8, 3)\n",
    "C, Y = load_chroma_fv(8, 3)\n",
    "from sklearn.ensemble import VotingClassifier\n",
    "\n",
    "trX, teX, trC, teC, trY, teY = train_test_split(X, C, Y, stratify=Y)\n",
    "\n",
    "mfccSVM = SVC(C=1000, probability=True)\n",
    "chromaSVM = SVC(C=1000, probability=True)\n",
    "mfccRF = RandomForestClassifier(n_estimators=200, max_depth=30)\n",
    "chromaRF = RandomForestClassifier(n_estimators=200, max_depth=30)\n",
    "ests = [('mfccSVM', mfccSVM), ('chromaSVM', chromaSVM), ('mfccRF', mfccRF), ('chromaRF', chromaRF)]\n",
    "\n",
    "mfccRF.fit(trX, trY)\n",
    "chromaRF.fit(trC, trY)\n",
    "\n",
    "top_mfcc = order(mfccRF.feature_importances_)\n",
    "top_chroma = order(chromaRF.feature_importances_)\n",
    "\n",
    "trX, teX = trX[:, top_mfcc[:1000]], teX[:, top_mfcc[:1000]]\n",
    "#trC, teC = trC[:, top_chroma[:400]], teC[:, top_chroma[:400]]\n",
    "mfccSVM.fit(trX, trY)\n",
    "chromaSVM.fit(trC, trY)\n",
    "\n",
    "sum_p = sum((2 * mfccSVM.predict_proba(teX), chromaSVM.predict_proba(teC), chromaRF.predict_proba(teC)))\n",
    "Yhat = np.argmax(sum_p, axis=1) + 1\n",
    "print('voting score', np.sum(Yhat == teY) / len(teY))\n",
    "plot_confusion_matrix(confusion_matrix(teY, Yhat))\n",
    "plt.show()"
   ]
  },
  {
   "cell_type": "markdown",
   "metadata": {},
   "source": [
    "Below is a bunch of random classifiers also attempted"
   ]
  },
  {
   "cell_type": "code",
   "execution_count": null,
   "metadata": {
    "collapsed": false
   },
   "outputs": [],
   "source": [
    "# Stanford mSVM http://nlp.stanford.edu/IR-book/html/htmledition/multiclass-svms-1.html\n",
    "# This requires a new convex program formulation, unsupported within-python."
   ]
  },
  {
   "cell_type": "code",
   "execution_count": null,
   "metadata": {
    "collapsed": false
   },
   "outputs": [],
   "source": [
    "class DummyPredictor:\n",
    "    def __init__(self, res):\n",
    "        self._res = res\n",
    "    def predict(self, X):\n",
    "        Y = np.empty([len(X), 1])\n",
    "        Y.fill(self._res)\n",
    "        return Y\n",
    "        \n",
    "def find_best(subsets, X, origY, C):\n",
    "    best_accuracy, best_classifier, best_set = -np.inf, None, None\n",
    "    val = int(0.8 * len(X))\n",
    "    for subset in subsets:\n",
    "        Y = np.array([y in subset for y in origY])\n",
    "        svm = SVC(C=C).fit(X[:val], Y[:val])\n",
    "        acc = svm.score(X[val:], Y[val:])\n",
    "        if acc > best_accuracy:\n",
    "            best_accuracy = acc\n",
    "            best_classifier = svm\n",
    "            best_set = subset\n",
    "    return best_accuracy, best_classifier, best_set\n",
    "    \n",
    "def best_subset_finder(labels, C=1.0):\n",
    "    assert len(labels) > 0\n",
    "    if len(labels) == 1:\n",
    "        return {}, DummyPredictor(next(iter(labels))), {}\n",
    "    if len(labels) == 2:\n",
    "        return {}, SVC(C=C).fit(trXadj, trY), {}\n",
    "    \n",
    "    subsets = []\n",
    "    for i in range(1, len(labels) // 2 + 1):\n",
    "        for subset in itertools.combinations(labels, i):\n",
    "            subsets.append(subset)\n",
    "    p = np.random.permutation(len(trXadj))\n",
    "    pX = trXadj[p]\n",
    "    pY = trY[p]\n",
    "    \n",
    "    nproc = 4\n",
    "    print('  Launching {} parallel tasks for {} problems.'.format(nproc, len(subsets)))\n",
    "    sys.stdout.flush()\n",
    "    np.random.shuffle(subsets)\n",
    "    \n",
    "    best_parallel = Parallel(n_jobs=2, backend='threading') \\\n",
    "        (delayed(find_best)(i, pX, pY, C) for i in chunks(subsets, max(len(subsets) // nproc, 1)))\n",
    "    best_accuracy, best_set, best_classifier = -np.inf, None, None\n",
    "    for job_best_acc, job_best_classifier, job_best_set in best_parallel:\n",
    "         if job_best_acc > best_accuracy:\n",
    "             best_accuracy = job_best_acc\n",
    "             best_classifier = job_best_classifier\n",
    "             best_set = set(job_best_set)\n",
    "         \n",
    "    other = labels - best_set\n",
    "    print('  Split on 0/1 for {} vs {}, validation acc {}'.format(\n",
    "        best_set, other, best_accuracy))\n",
    "    sys.stdout.flush()\n",
    "    assert best_classifier\n",
    "    return best_set, best_classifier, other\n",
    "\n",
    "class DTree(object):\n",
    "    def __init__(self, classifier, lset, rset):\n",
    "        self.lset = lset\n",
    "        self.rset = rset\n",
    "        self.left = None\n",
    "        self.right = None\n",
    "        self.classifier = classifier\n",
    "\n",
    "def binary_dtree(labels, C=10.0, debug_print_level=None):\n",
    "    dbp = debug_print_level\n",
    "    if dbp: print('Level {}'.format(dbp))\n",
    "    left, svm, right = best_subset_finder(labels)\n",
    "    if not left: assert not right\n",
    "    x = DTree(svm, left, right)\n",
    "    if not left: return x\n",
    "    x.left = binary_dtree(left, C=(C * len(left) / len(labels)),\n",
    "                          debug_print_level=(dbp + '0' if dbp else None))\n",
    "    x.right = binary_dtree(right, C=(C * len(right) / len(labels)),\n",
    "                           debug_print_level=(dbp + '1' if dbp else None))\n",
    "    return x"
   ]
  },
  {
   "cell_type": "code",
   "execution_count": null,
   "metadata": {
    "collapsed": false
   },
   "outputs": [],
   "source": [
    "bdt = binary_dtree(set(trY), C=10.0, debug_print_level='r')"
   ]
  },
  {
   "cell_type": "code",
   "execution_count": null,
   "metadata": {
    "collapsed": false
   },
   "outputs": [],
   "source": [
    "#What if we retrain on the whole training dataset?\n",
    "def dtree_predict(dt, x):\n",
    "    y = dt.classifier.predict([x])[0]\n",
    "    if not dt.left: return y\n",
    "    subtree = dt.left if y else dt.right\n",
    "    return dtree_predict(subtree, x)\n",
    "\n",
    "def vec_dtree_predict(dt, X):\n",
    "    return np.array([dtree_predict(dt, x) for x in X])\n",
    "\n",
    "np.sum(vec_dtree_predict(bdt, teXadj) == teY) / len(teY)"
   ]
  }
 ],
 "metadata": {
  "kernelspec": {
   "display_name": "Python 3",
   "language": "python",
   "name": "python3"
  },
  "language_info": {
   "codemirror_mode": {
    "name": "ipython",
    "version": 3
   },
   "file_extension": ".py",
   "mimetype": "text/x-python",
   "name": "python",
   "nbconvert_exporter": "python",
   "pygments_lexer": "ipython3",
   "version": "3.4.3"
  }
 },
 "nbformat": 4,
 "nbformat_minor": 0
}
