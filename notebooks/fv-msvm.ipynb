{
 "cells": [
  {
   "cell_type": "code",
   "execution_count": 25,
   "metadata": {
    "collapsed": false
   },
   "outputs": [],
   "source": [
    "import sys, itertools\n",
    "import numpy as np\n",
    "%matplotlib inline\n",
    "import matplotlib.pyplot as plt\n",
    "import sklearn, time, math\n",
    "from sklearn.svm import SVC\n",
    "from sklearn.cross_validation import cross_val_score\n",
    "from sklearn.cross_validation import StratifiedKFold\n",
    "\n",
    "if '../tools' not in sys.path:\n",
    "    sys.path.append('../tools')\n",
    "from helper_functions import * \n",
    "\n",
    "import warnings\n",
    "warnings.filterwarnings('ignore')"
   ]
  },
  {
   "cell_type": "code",
   "execution_count": 42,
   "metadata": {
    "collapsed": false
   },
   "outputs": [
    {
     "name": "stdout",
     "output_type": "stream",
     "text": [
      "Using existing FVs from file ../generated-fv/FV1-1.mat\n",
      "N = 1000\n",
      "MFCC training feature ranges means [-0.0504, 0.0036] sds [0.0948, 0.2163]\n"
     ]
    },
    {
     "data": {
      "image/png": "[encoded data removed]",
      "text/plain": [
       "<matplotlib.figure.Figure at 0x7f9315d34320>"
      ]
     },
     "metadata": {},
     "output_type": "display_data"
    },
    {
     "data": {
      "image/png": "[encoded data removed]",
      "text/plain": [
       "<matplotlib.figure.Figure at 0x7f9310170c50>"
      ]
     },
     "metadata": {},
     "output_type": "display_data"
    },
    {
     "name": "stdout",
     "output_type": "stream",
     "text": [
      "Train shape (900, 64) riffled (900, 64)\n",
      "Test shape (100, 64) riffled (100, 64)\n",
      "Default SVM perf orig 0.67 riff 0.67\n"
     ]
    }
   ],
   "source": [
    "num_clusters, exemplar = 1,1\n",
    "X, Y = load_all_fv(num_clusters, exemplar)\n",
    "\n",
    "T = num_clusters * 2\n",
    "t = (exemplar - (1 if exemplar % 2 == 0 else 0)) * 2 - 1\n",
    "Xriffled = np.average(riffle(X, t, T), axis=2)\n",
    "\n",
    "p = np.random.permutation(len(X))\n",
    "trX, teX = np.split(X[p], [int(0.9 * len(X))])\n",
    "trY, teY = np.split(Y[p], [int(0.9 * len(X))])\n",
    "\n",
    "axes = plt.subplots()[1]\n",
    "idx = np.where(trY != trY[0])[0][1]\n",
    "#idx = np.where(trY == trY[0])[0][1] # same label\n",
    "axes.plot(trX[0], c='b', marker='.', linestyle='', label=trY[0])\n",
    "axes.plot(trX[idx], c='r', marker='.', linestyle='', label=trY[idx])\n",
    "axes.legend(loc=2)\n",
    "\n",
    "def whiten_train_test(train, test):\n",
    "    return whiten(train), whiten(test, source=train)\n",
    "trXadj, teXadj = whiten_train_test(trX, teX)\n",
    "trXrff, teXrff = whiten_train_test(*(np.average(riffle(x, t, T), axis=2) for x in (trX, teX)))\n",
    "axes = plt.subplots()[1]\n",
    "axes.plot(trXrff[0], c='b', marker='.', linestyle='', label=trY[0])\n",
    "axes.plot(trXrff[idx], c='r', marker='.', linestyle='', label=trY[idx])\n",
    "axes.legend(loc=2)\n",
    "\n",
    "plt.show()\n",
    "\n",
    "print('Train shape {} riffled {}'.format(trXadj.shape, trXrff.shape))\n",
    "print('Test shape {} riffled {}'.format(teXadj.shape, teXrff.shape))\n",
    "print('Default SVM perf orig {} riff {}'.format(\n",
    "        SVC(C=1.0).fit(trXadj, trY).score(teXadj, teY),\n",
    "        SVC(C=1.0).fit(trXrff, trY).score(teXrff, teY)))\n",
    "\n",
    "# no missing data"
   ]
  },
  {
   "cell_type": "code",
   "execution_count": 29,
   "metadata": {
    "collapsed": false
   },
   "outputs": [
    {
     "data": {
      "image/png": "[encoded data removed]",
      "text/plain": [
       "<matplotlib.figure.Figure at 0x7f932a70a320>"
      ]
     },
     "metadata": {},
     "output_type": "display_data"
    },
    {
     "data": {
      "text/plain": [
       "((1000, 3456), (1000, 384), (1000,))"
      ]
     },
     "execution_count": 29,
     "metadata": {},
     "output_type": "execute_result"
    }
   ],
   "source": [
    "from sklearn.decomposition import PCA\n",
    "from sklearn.manifold import LocallyLinearEmbedding\n",
    "\n",
    "pca = PCA(whiten=True, n_components=0.99).fit(trXrff)\n",
    "plt.plot(pca.explained_variance_ratio_, '.-')\n",
    "plt.show()\n",
    "\n",
    "X.shape, Xriffled.shape, Y.shape\n",
    "# PCA shows that all features are pretty important, there's little room for additional dimensional reduction"
   ]
  },
  {
   "cell_type": "code",
   "execution_count": 48,
   "metadata": {
    "collapsed": false
   },
   "outputs": [
    {
     "name": "stdout",
     "output_type": "stream",
     "text": [
      "Using existing FVs from file ../generated-fv/FV1-1.mat\n",
      "N = 1000\n",
      "MFCC training feature ranges means [-0.0504, 0.0036] sds [0.0948, 0.2163]\n",
      "num clusters 1 exemplar size 1\n",
      "[-] 20/20 acc 0.583000 param C=100.000000 kernel=rbf\n",
      "Finished data instance in 5.3430070877075195s. Top performer:\n",
      "  cv acc 0.583 clusters 1 exemplar 1 C 100 kernel rbf\n",
      "\n",
      "Using existing FVs from file ../generated-fv/FV1-2.mat\n",
      "N = 1000\n",
      "MFCC training feature ranges means [-0.0504, 0.0036] sds [0.0948, 0.2163]\n",
      "num clusters 1 exemplar size 2\n",
      "[ ] 18/20 acc 0.583000 param C=100.000000 kernel=rbf"
     ]
    },
    {
     "name": "stderr",
     "output_type": "stream",
     "text": [
      "Process ForkPoolWorker-1957:\n",
      "Process ForkPoolWorker-1959:\n",
      "Traceback (most recent call last):\n",
      "Traceback (most recent call last):\n",
      "  File \"/usr/lib/python3.4/multiprocessing/process.py\", line 254, in _bootstrap\n",
      "    self.run()\n",
      "  File \"/usr/lib/python3.4/multiprocessing/process.py\", line 254, in _bootstrap\n",
      "    self.run()\n",
      "  File \"/usr/lib/python3.4/multiprocessing/process.py\", line 93, in run\n",
      "    self._target(*self._args, **self._kwargs)\n",
      "  File \"/usr/lib/python3.4/multiprocessing/process.py\", line 93, in run\n",
      "    self._target(*self._args, **self._kwargs)\n",
      "  File \"/usr/lib/python3.4/multiprocessing/pool.py\", line 108, in worker\n",
      "    task = get()\n",
      "  File \"/usr/lib/python3.4/multiprocessing/pool.py\", line 108, in worker\n",
      "    task = get()\n",
      "  File \"/usr/local/lib/python3.4/dist-packages/sklearn/externals/joblib/pool.py\", line 361, in get\n",
      "    racquire()\n",
      "  File \"/usr/local/lib/python3.4/dist-packages/sklearn/externals/joblib/pool.py\", line 363, in get\n",
      "    return recv()\n",
      "KeyboardInterrupt\n",
      "  File \"/usr/lib/python3.4/multiprocessing/connection.py\", line 250, in recv\n",
      "    buf = self._recv_bytes()\n",
      "  File \"/usr/lib/python3.4/multiprocessing/connection.py\", line 416, in _recv_bytes\n",
      "    buf = self._recv(4)\n",
      "  File \"/usr/lib/python3.4/multiprocessing/connection.py\", line 383, in _recv\n",
      "    chunk = read(handle, remaining)\n",
      "KeyboardInterrupt\n"
     ]
    },
    {
     "ename": "KeyboardInterrupt",
     "evalue": "",
     "output_type": "error",
     "traceback": [
      "\u001b[1;31m---------------------------------------------------------------------------\u001b[0m",
      "\u001b[1;31mKeyboardInterrupt\u001b[0m                         Traceback (most recent call last)",
      "\u001b[1;32m<ipython-input-48-a39ae1b7b068>\u001b[0m in \u001b[0;36m<module>\u001b[1;34m()\u001b[0m\n\u001b[0;32m     24\u001b[0m         \u001b[0msvm\u001b[0m \u001b[1;33m=\u001b[0m \u001b[0mmake_svc\u001b[0m\u001b[1;33m(\u001b[0m\u001b[1;33m*\u001b[0m\u001b[0mtup\u001b[0m\u001b[1;33m)\u001b[0m\u001b[1;33m\u001b[0m\u001b[0m\n\u001b[0;32m     25\u001b[0m         score = np.average(cross_val_score(svm, X, Y, cv=skf,\n\u001b[1;32m---> 26\u001b[1;33m                                            n_jobs=-1, pre_dispatch='2*n_jobs'))\n\u001b[0m\u001b[0;32m     27\u001b[0m         \u001b[1;32mif\u001b[0m \u001b[0mscore\u001b[0m \u001b[1;33m>\u001b[0m \u001b[0mbest_in_data_acc\u001b[0m\u001b[1;33m:\u001b[0m\u001b[1;33m\u001b[0m\u001b[0m\n\u001b[0;32m     28\u001b[0m             \u001b[0mbest_in_data_acc\u001b[0m \u001b[1;33m=\u001b[0m \u001b[0mscore\u001b[0m\u001b[1;33m\u001b[0m\u001b[0m\n",
      "\u001b[1;32m/usr/local/lib/python3.4/dist-packages/sklearn/cross_validation.py\u001b[0m in \u001b[0;36mcross_val_score\u001b[1;34m(estimator, X, y, scoring, cv, n_jobs, verbose, fit_params, pre_dispatch)\u001b[0m\n\u001b[0;32m   1359\u001b[0m                                               \u001b[0mtrain\u001b[0m\u001b[1;33m,\u001b[0m \u001b[0mtest\u001b[0m\u001b[1;33m,\u001b[0m \u001b[0mverbose\u001b[0m\u001b[1;33m,\u001b[0m \u001b[1;32mNone\u001b[0m\u001b[1;33m,\u001b[0m\u001b[1;33m\u001b[0m\u001b[0m\n\u001b[0;32m   1360\u001b[0m                                               fit_params)\n\u001b[1;32m-> 1361\u001b[1;33m                       for train, test in cv)\n\u001b[0m\u001b[0;32m   1362\u001b[0m     \u001b[1;32mreturn\u001b[0m \u001b[0mnp\u001b[0m\u001b[1;33m.\u001b[0m\u001b[0marray\u001b[0m\u001b[1;33m(\u001b[0m\u001b[0mscores\u001b[0m\u001b[1;33m)\u001b[0m\u001b[1;33m[\u001b[0m\u001b[1;33m:\u001b[0m\u001b[1;33m,\u001b[0m \u001b[1;36m0\u001b[0m\u001b[1;33m]\u001b[0m\u001b[1;33m\u001b[0m\u001b[0m\n\u001b[0;32m   1363\u001b[0m \u001b[1;33m\u001b[0m\u001b[0m\n",
      "\u001b[1;32m/usr/local/lib/python3.4/dist-packages/sklearn/externals/joblib/parallel.py\u001b[0m in \u001b[0;36m__call__\u001b[1;34m(self, iterable)\u001b[0m\n\u001b[0;32m    664\u001b[0m                 \u001b[1;31m# consumption.\u001b[0m\u001b[1;33m\u001b[0m\u001b[1;33m\u001b[0m\u001b[0m\n\u001b[0;32m    665\u001b[0m                 \u001b[0mself\u001b[0m\u001b[1;33m.\u001b[0m\u001b[0m_iterating\u001b[0m \u001b[1;33m=\u001b[0m \u001b[1;32mFalse\u001b[0m\u001b[1;33m\u001b[0m\u001b[0m\n\u001b[1;32m--> 666\u001b[1;33m             \u001b[0mself\u001b[0m\u001b[1;33m.\u001b[0m\u001b[0mretrieve\u001b[0m\u001b[1;33m(\u001b[0m\u001b[1;33m)\u001b[0m\u001b[1;33m\u001b[0m\u001b[0m\n\u001b[0m\u001b[0;32m    667\u001b[0m             \u001b[1;31m# Make sure that we get a last message telling us we are done\u001b[0m\u001b[1;33m\u001b[0m\u001b[1;33m\u001b[0m\u001b[0m\n\u001b[0;32m    668\u001b[0m             \u001b[0melapsed_time\u001b[0m \u001b[1;33m=\u001b[0m \u001b[0mtime\u001b[0m\u001b[1;33m.\u001b[0m\u001b[0mtime\u001b[0m\u001b[1;33m(\u001b[0m\u001b[1;33m)\u001b[0m \u001b[1;33m-\u001b[0m \u001b[0mself\u001b[0m\u001b[1;33m.\u001b[0m\u001b[0m_start_time\u001b[0m\u001b[1;33m\u001b[0m\u001b[0m\n",
      "\u001b[1;32m/usr/local/lib/python3.4/dist-packages/sklearn/externals/joblib/parallel.py\u001b[0m in \u001b[0;36mretrieve\u001b[1;34m(self)\u001b[0m\n\u001b[0;32m    530\u001b[0m                             \u001b[1;31m# We can now allow subprocesses again\u001b[0m\u001b[1;33m\u001b[0m\u001b[1;33m\u001b[0m\u001b[0m\n\u001b[0;32m    531\u001b[0m                             \u001b[0mos\u001b[0m\u001b[1;33m.\u001b[0m\u001b[0menviron\u001b[0m\u001b[1;33m.\u001b[0m\u001b[0mpop\u001b[0m\u001b[1;33m(\u001b[0m\u001b[1;34m'__JOBLIB_SPAWNED_PARALLEL__'\u001b[0m\u001b[1;33m,\u001b[0m \u001b[1;36m0\u001b[0m\u001b[1;33m)\u001b[0m\u001b[1;33m\u001b[0m\u001b[0m\n\u001b[1;32m--> 532\u001b[1;33m                         \u001b[1;32mraise\u001b[0m \u001b[0mexception\u001b[0m\u001b[1;33m\u001b[0m\u001b[0m\n\u001b[0m\u001b[0;32m    533\u001b[0m                     \u001b[1;32melif\u001b[0m \u001b[0misinstance\u001b[0m\u001b[1;33m(\u001b[0m\u001b[0mexception\u001b[0m\u001b[1;33m,\u001b[0m \u001b[0mTransportableException\u001b[0m\u001b[1;33m)\u001b[0m\u001b[1;33m:\u001b[0m\u001b[1;33m\u001b[0m\u001b[0m\n\u001b[0;32m    534\u001b[0m                         \u001b[1;31m# Capture exception to add information on the local\u001b[0m\u001b[1;33m\u001b[0m\u001b[1;33m\u001b[0m\u001b[0m\n",
      "\u001b[1;32m/usr/local/lib/python3.4/dist-packages/sklearn/externals/joblib/parallel.py\u001b[0m in \u001b[0;36mretrieve\u001b[1;34m(self)\u001b[0m\n\u001b[0;32m    516\u001b[0m                 \u001b[0mself\u001b[0m\u001b[1;33m.\u001b[0m\u001b[0m_lock\u001b[0m\u001b[1;33m.\u001b[0m\u001b[0mrelease\u001b[0m\u001b[1;33m(\u001b[0m\u001b[1;33m)\u001b[0m\u001b[1;33m\u001b[0m\u001b[0m\n\u001b[0;32m    517\u001b[0m             \u001b[1;32mtry\u001b[0m\u001b[1;33m:\u001b[0m\u001b[1;33m\u001b[0m\u001b[0m\n\u001b[1;32m--> 518\u001b[1;33m                 \u001b[0mself\u001b[0m\u001b[1;33m.\u001b[0m\u001b[0m_output\u001b[0m\u001b[1;33m.\u001b[0m\u001b[0mappend\u001b[0m\u001b[1;33m(\u001b[0m\u001b[0mjob\u001b[0m\u001b[1;33m.\u001b[0m\u001b[0mget\u001b[0m\u001b[1;33m(\u001b[0m\u001b[1;33m)\u001b[0m\u001b[1;33m)\u001b[0m\u001b[1;33m\u001b[0m\u001b[0m\n\u001b[0m\u001b[0;32m    519\u001b[0m             \u001b[1;32mexcept\u001b[0m \u001b[0mtuple\u001b[0m\u001b[1;33m(\u001b[0m\u001b[0mself\u001b[0m\u001b[1;33m.\u001b[0m\u001b[0mexceptions\u001b[0m\u001b[1;33m)\u001b[0m \u001b[1;32mas\u001b[0m \u001b[0mexception\u001b[0m\u001b[1;33m:\u001b[0m\u001b[1;33m\u001b[0m\u001b[0m\n\u001b[0;32m    520\u001b[0m                 \u001b[1;32mtry\u001b[0m\u001b[1;33m:\u001b[0m\u001b[1;33m\u001b[0m\u001b[0m\n",
      "\u001b[1;32m/usr/lib/python3.4/multiprocessing/pool.py\u001b[0m in \u001b[0;36mget\u001b[1;34m(self, timeout)\u001b[0m\n\u001b[0;32m    591\u001b[0m \u001b[1;33m\u001b[0m\u001b[0m\n\u001b[0;32m    592\u001b[0m     \u001b[1;32mdef\u001b[0m \u001b[0mget\u001b[0m\u001b[1;33m(\u001b[0m\u001b[0mself\u001b[0m\u001b[1;33m,\u001b[0m \u001b[0mtimeout\u001b[0m\u001b[1;33m=\u001b[0m\u001b[1;32mNone\u001b[0m\u001b[1;33m)\u001b[0m\u001b[1;33m:\u001b[0m\u001b[1;33m\u001b[0m\u001b[0m\n\u001b[1;32m--> 593\u001b[1;33m         \u001b[0mself\u001b[0m\u001b[1;33m.\u001b[0m\u001b[0mwait\u001b[0m\u001b[1;33m(\u001b[0m\u001b[0mtimeout\u001b[0m\u001b[1;33m)\u001b[0m\u001b[1;33m\u001b[0m\u001b[0m\n\u001b[0m\u001b[0;32m    594\u001b[0m         \u001b[1;32mif\u001b[0m \u001b[1;32mnot\u001b[0m \u001b[0mself\u001b[0m\u001b[1;33m.\u001b[0m\u001b[0mready\u001b[0m\u001b[1;33m(\u001b[0m\u001b[1;33m)\u001b[0m\u001b[1;33m:\u001b[0m\u001b[1;33m\u001b[0m\u001b[0m\n\u001b[0;32m    595\u001b[0m             \u001b[1;32mraise\u001b[0m \u001b[0mTimeoutError\u001b[0m\u001b[1;33m\u001b[0m\u001b[0m\n",
      "\u001b[1;32m/usr/lib/python3.4/multiprocessing/pool.py\u001b[0m in \u001b[0;36mwait\u001b[1;34m(self, timeout)\u001b[0m\n\u001b[0;32m    588\u001b[0m \u001b[1;33m\u001b[0m\u001b[0m\n\u001b[0;32m    589\u001b[0m     \u001b[1;32mdef\u001b[0m \u001b[0mwait\u001b[0m\u001b[1;33m(\u001b[0m\u001b[0mself\u001b[0m\u001b[1;33m,\u001b[0m \u001b[0mtimeout\u001b[0m\u001b[1;33m=\u001b[0m\u001b[1;32mNone\u001b[0m\u001b[1;33m)\u001b[0m\u001b[1;33m:\u001b[0m\u001b[1;33m\u001b[0m\u001b[0m\n\u001b[1;32m--> 590\u001b[1;33m         \u001b[0mself\u001b[0m\u001b[1;33m.\u001b[0m\u001b[0m_event\u001b[0m\u001b[1;33m.\u001b[0m\u001b[0mwait\u001b[0m\u001b[1;33m(\u001b[0m\u001b[0mtimeout\u001b[0m\u001b[1;33m)\u001b[0m\u001b[1;33m\u001b[0m\u001b[0m\n\u001b[0m\u001b[0;32m    591\u001b[0m \u001b[1;33m\u001b[0m\u001b[0m\n\u001b[0;32m    592\u001b[0m     \u001b[1;32mdef\u001b[0m \u001b[0mget\u001b[0m\u001b[1;33m(\u001b[0m\u001b[0mself\u001b[0m\u001b[1;33m,\u001b[0m \u001b[0mtimeout\u001b[0m\u001b[1;33m=\u001b[0m\u001b[1;32mNone\u001b[0m\u001b[1;33m)\u001b[0m\u001b[1;33m:\u001b[0m\u001b[1;33m\u001b[0m\u001b[0m\n",
      "\u001b[1;32m/usr/lib/python3.4/threading.py\u001b[0m in \u001b[0;36mwait\u001b[1;34m(self, timeout)\u001b[0m\n\u001b[0;32m    551\u001b[0m             \u001b[0msignaled\u001b[0m \u001b[1;33m=\u001b[0m \u001b[0mself\u001b[0m\u001b[1;33m.\u001b[0m\u001b[0m_flag\u001b[0m\u001b[1;33m\u001b[0m\u001b[0m\n\u001b[0;32m    552\u001b[0m             \u001b[1;32mif\u001b[0m \u001b[1;32mnot\u001b[0m \u001b[0msignaled\u001b[0m\u001b[1;33m:\u001b[0m\u001b[1;33m\u001b[0m\u001b[0m\n\u001b[1;32m--> 553\u001b[1;33m                 \u001b[0msignaled\u001b[0m \u001b[1;33m=\u001b[0m \u001b[0mself\u001b[0m\u001b[1;33m.\u001b[0m\u001b[0m_cond\u001b[0m\u001b[1;33m.\u001b[0m\u001b[0mwait\u001b[0m\u001b[1;33m(\u001b[0m\u001b[0mtimeout\u001b[0m\u001b[1;33m)\u001b[0m\u001b[1;33m\u001b[0m\u001b[0m\n\u001b[0m\u001b[0;32m    554\u001b[0m             \u001b[1;32mreturn\u001b[0m \u001b[0msignaled\u001b[0m\u001b[1;33m\u001b[0m\u001b[0m\n\u001b[0;32m    555\u001b[0m         \u001b[1;32mfinally\u001b[0m\u001b[1;33m:\u001b[0m\u001b[1;33m\u001b[0m\u001b[0m\n",
      "\u001b[1;32m/usr/lib/python3.4/threading.py\u001b[0m in \u001b[0;36mwait\u001b[1;34m(self, timeout)\u001b[0m\n\u001b[0;32m    288\u001b[0m         \u001b[1;32mtry\u001b[0m\u001b[1;33m:\u001b[0m    \u001b[1;31m# restore state no matter what (e.g., KeyboardInterrupt)\u001b[0m\u001b[1;33m\u001b[0m\u001b[0m\n\u001b[0;32m    289\u001b[0m             \u001b[1;32mif\u001b[0m \u001b[0mtimeout\u001b[0m \u001b[1;32mis\u001b[0m \u001b[1;32mNone\u001b[0m\u001b[1;33m:\u001b[0m\u001b[1;33m\u001b[0m\u001b[0m\n\u001b[1;32m--> 290\u001b[1;33m                 \u001b[0mwaiter\u001b[0m\u001b[1;33m.\u001b[0m\u001b[0macquire\u001b[0m\u001b[1;33m(\u001b[0m\u001b[1;33m)\u001b[0m\u001b[1;33m\u001b[0m\u001b[0m\n\u001b[0m\u001b[0;32m    291\u001b[0m                 \u001b[0mgotit\u001b[0m \u001b[1;33m=\u001b[0m \u001b[1;32mTrue\u001b[0m\u001b[1;33m\u001b[0m\u001b[0m\n\u001b[0;32m    292\u001b[0m             \u001b[1;32melse\u001b[0m\u001b[1;33m:\u001b[0m\u001b[1;33m\u001b[0m\u001b[0m\n",
      "\u001b[1;31mKeyboardInterrupt\u001b[0m: "
     ]
    }
   ],
   "source": [
    "def logRange(lo, hi): return [10 ** i for i in range(lo, hi)]\n",
    "Cs = logRange(-10, 10)\n",
    "kernels = ['rbf']\n",
    "hypers = list(itertools.product(Cs, kernels))\n",
    "\n",
    "def print_svc(C, k): return 'C={:03f} kernel={}'.format(C, k)\n",
    "def make_svc(C, k):\n",
    "    if k == 'poly': return SVC(C=C, kernel=k, coef0=1.0, degree=5)\n",
    "    else: return SVC(C=C, kernel=k)\n",
    "\n",
    "best_acc, best_params = -np.inf, None\n",
    "t = time.time()\n",
    "skf = StratifiedKFold(Y, n_folds=4, shuffle=True, random_state=1)\n",
    "for clusters, exemplar in itertools.product(range(1, 11), range(1, 11)):\n",
    "    X, Y = load_all_fv(clusters, exemplar)\n",
    "    T = clusters * 2\n",
    "    tt = (exemplar - (1 if exemplar % 2 == 0 else 0)) * 2 - 1\n",
    "    X = np.average(riffle(X, tt, T), axis=2)\n",
    "    \n",
    "    print('num clusters {} exemplar size {}'.format(clusters, exemplar))\n",
    "    \n",
    "    best_in_data_acc, best_in_data_params = -np.inf, None\n",
    "    for i, tup in enumerate(hypers):\n",
    "        svm = make_svc(*tup)\n",
    "        score = np.average(cross_val_score(svm, X, Y, cv=skf,\n",
    "                                           n_jobs=-1, pre_dispatch='2*n_jobs'))\n",
    "        if score > best_in_data_acc:\n",
    "            best_in_data_acc = score\n",
    "            best_in_data_params = tup\n",
    "        print('\\r{} acc {:03f} param {}'.format(\n",
    "            completion_bar(i + 1, len(hypers), width=1), best_in_data_acc,\n",
    "            print_svc(*best_in_data_params)), end='')\n",
    "        sys.stdout.flush()\n",
    "    \n",
    "    if best_in_data_acc > best_acc:\n",
    "        best_acc = best_in_data_acc\n",
    "        best_params = clusters, exemplar, \\\n",
    "            best_in_data_params[0], best_in_data_params[1]\n",
    "    \n",
    "    print('\\nFinished data instance in {}s. Top performer:'.format(\n",
    "        time.time() - t))\n",
    "    print('  cv acc {} clusters {} exemplar {} C {} kernel {}\\n'.format(\n",
    "        best_acc, *best_params))\n",
    "t = time.time() - t\n",
    "\n",
    "print('Done with CV for {}-size hyper grid in {:03f}s'.format(\n",
    "        len(hypers) * 100, t))\n",
    "#print('Accuracies: best avg cv {} for {}'.format(best_acc, best_params)))\n",
    "# (4, 5) (cv is 0.667) .76\n",
    "# (6, 6) .76"
   ]
  },
  {
   "cell_type": "code",
   "execution_count": null,
   "metadata": {
    "collapsed": true
   },
   "outputs": [],
   "source": [
    "from sklearn.metrics import confusion_matrix\n",
    "def plot_confusion_matrix(cm, title='Confusion matrix', cmap=plt.cm.ocean):\n",
    "    plt.imshow(cm, interpolation='nearest', cmap=cmap)\n",
    "    plt.title(title)\n",
    "    plt.colorbar()\n",
    "    plt.tight_layout()\n",
    "    plt.ylabel('True label')\n",
    "    plt.xlabel('Predicted label')\n",
    "plot_confusion_matrix(confusion_matrix(teY, svm.predict(testX)))"
   ]
  },
  {
   "cell_type": "markdown",
   "metadata": {},
   "source": [
    "Below is a bunch of random classifiers also attempted"
   ]
  },
  {
   "cell_type": "code",
   "execution_count": null,
   "metadata": {
    "collapsed": false
   },
   "outputs": [],
   "source": [
    "from sklearn.tree import DecisionTreeClassifier\n",
    "from sklearn.ensemble import AdaBoostClassifier\n",
    "\n",
    "# ovo multi-classification, rbf\n",
    "if sklearn.__version__ >= '0.18':\n",
    "    print('warning, not ovo comparison')\n",
    "svm = SVC(C=1.0)\n",
    "svm.fit(trXadj, trY)\n",
    "print('svm Orig accuracies: train {} test {}'.format(svm.score(trXadj, trY), svm.score(teXadj, teY)))\n",
    "svm.fit(trXrff, trY)\n",
    "print('svm Red accuracies: train {} test {}'.format(svm.score(trXrff, trY), svm.score(teXrff, teY)))\n",
    "\n",
    "from sklearn.linear_model import LogisticRegressionCV\n",
    "reg = LogisticRegressionCV(multi_class='multinomial', solver='lbfgs', max_iter=5000, n_jobs=8, cv=8)\n",
    "reg.fit(trXadj, trY)\n",
    "print('softmax Orig accuracies: train {} test {}'.format(reg.score(trXadj, trY), reg.score(teXadj, teY)))\n",
    "reg.fit(trXrff, trY)\n",
    "print('softmax Orig accuracies: train {} test {}'.format(reg.score(trXrff, trY), reg.score(teXrff, teY)))"
   ]
  },
  {
   "cell_type": "code",
   "execution_count": null,
   "metadata": {
    "collapsed": false
   },
   "outputs": [],
   "source": [
    "Ngnb = SVC(probability=True)\n",
    "stumps = AdaBoostClassifier(n_estimators=30, base_estimator=gnb)\n",
    "stumps.fit(trXadj, trY)\n",
    "print('Orig accuracies: train {} test {}'.format(stumps.score(trXadj, trY), stumps.score(teXadj, teY)))\n",
    "stumps.fit(trXred, trY)\n",
    "print('Red accuracies: train {} test {}'.format(stumps.score(trXred, trY), stumps.score(teXred, teY)))"
   ]
  },
  {
   "cell_type": "code",
   "execution_count": null,
   "metadata": {
    "collapsed": false
   },
   "outputs": [],
   "source": [
    "v = trXred[0]\n",
    "def sqmat(x):\n",
    "    tx = x.reshape((1, len(x)))\n",
    "    xt = x.reshape((len(x), 1))\n",
    "    return np.dot(xt, tx).reshape(len(x) * len(x))\n",
    "sq = np.array([sqmat(x) for x in trXred])\n",
    "sqt = np.array([sqmat(x) for x in teXred])\n",
    "print(sq.shape, sqt.shape)"
   ]
  },
  {
   "cell_type": "code",
   "execution_count": null,
   "metadata": {
    "collapsed": false
   },
   "outputs": [],
   "source": [
    "from sklearn.naive_bayes import GaussianNB\n",
    "gnb = GaussianNB()\n",
    "gnb.fit(sq, trY)\n",
    "gnb.score(sqt, teY)\n",
    "svm.fit(sq, trY)\n",
    "print('Accuracies: train {} test {}'.format(svm.score(sq, trY), svm.score(sqt, teY)))"
   ]
  },
  {
   "cell_type": "code",
   "execution_count": null,
   "metadata": {
    "collapsed": false
   },
   "outputs": [],
   "source": [
    "# Stanford mSVM http://nlp.stanford.edu/IR-book/html/htmledition/multiclass-svms-1.html\n",
    "# This requires a new convex program formulation, unsupported within-python."
   ]
  },
  {
   "cell_type": "code",
   "execution_count": null,
   "metadata": {
    "collapsed": false
   },
   "outputs": [],
   "source": [
    "class DummyPredictor:\n",
    "    def __init__(self, res):\n",
    "        self._res = res\n",
    "    def predict(self, X):\n",
    "        Y = np.empty([len(X), 1])\n",
    "        Y.fill(self._res)\n",
    "        return Y\n",
    "        \n",
    "def find_best(subsets, X, origY, C):\n",
    "    best_accuracy, best_classifier, best_set = -np.inf, None, None\n",
    "    val = int(0.8 * len(X))\n",
    "    for subset in subsets:\n",
    "        Y = np.array([y in subset for y in origY])\n",
    "        svm = SVC(C=C).fit(X[:val], Y[:val])\n",
    "        acc = svm.score(X[val:], Y[val:])\n",
    "        if acc > best_accuracy:\n",
    "            best_accuracy = acc\n",
    "            best_classifier = svm\n",
    "            best_set = subset\n",
    "    return best_accuracy, best_classifier, best_set\n",
    "    \n",
    "def best_subset_finder(labels, C=1.0):\n",
    "    assert len(labels) > 0\n",
    "    if len(labels) == 1:\n",
    "        return {}, DummyPredictor(next(iter(labels))), {}\n",
    "    if len(labels) == 2:\n",
    "        return {}, SVC(C=C).fit(trXadj, trY), {}\n",
    "    \n",
    "    subsets = []\n",
    "    for i in range(1, len(labels) // 2 + 1):\n",
    "        for subset in itertools.combinations(labels, i):\n",
    "            subsets.append(subset)\n",
    "    p = np.random.permutation(len(trXadj))\n",
    "    pX = trXadj[p]\n",
    "    pY = trY[p]\n",
    "    \n",
    "    nproc = 4\n",
    "    print('  Launching {} parallel tasks for {} problems.'.format(nproc, len(subsets)))\n",
    "    sys.stdout.flush()\n",
    "    np.random.shuffle(subsets)\n",
    "    \n",
    "    best_parallel = Parallel(n_jobs=2, backend='threading') \\\n",
    "        (delayed(find_best)(i, pX, pY, C) for i in chunks(subsets, max(len(subsets) // nproc, 1)))\n",
    "    best_accuracy, best_set, best_classifier = -np.inf, None, None\n",
    "    for job_best_acc, job_best_classifier, job_best_set in best_parallel:\n",
    "         if job_best_acc > best_accuracy:\n",
    "             best_accuracy = job_best_acc\n",
    "             best_classifier = job_best_classifier\n",
    "             best_set = set(job_best_set)\n",
    "         \n",
    "    other = labels - best_set\n",
    "    print('  Split on 0/1 for {} vs {}, validation acc {}'.format(\n",
    "        best_set, other, best_accuracy))\n",
    "    sys.stdout.flush()\n",
    "    assert best_classifier\n",
    "    return best_set, best_classifier, other\n",
    "\n",
    "class DTree(object):\n",
    "    def __init__(self, classifier, lset, rset):\n",
    "        self.lset = lset\n",
    "        self.rset = rset\n",
    "        self.left = None\n",
    "        self.right = None\n",
    "        self.classifier = classifier\n",
    "\n",
    "def binary_dtree(labels, C=10.0, debug_print_level=None):\n",
    "    dbp = debug_print_level\n",
    "    if dbp: print('Level {}'.format(dbp))\n",
    "    left, svm, right = best_subset_finder(labels)\n",
    "    if not left: assert not right\n",
    "    x = DTree(svm, left, right)\n",
    "    if not left: return x\n",
    "    x.left = binary_dtree(left, C=(C * len(left) / len(labels)),\n",
    "                          debug_print_level=(dbp + '0' if dbp else None))\n",
    "    x.right = binary_dtree(right, C=(C * len(right) / len(labels)),\n",
    "                           debug_print_level=(dbp + '1' if dbp else None))\n",
    "    return x"
   ]
  },
  {
   "cell_type": "code",
   "execution_count": null,
   "metadata": {
    "collapsed": false
   },
   "outputs": [],
   "source": [
    "bdt = binary_dtree(set(trY), C=10.0, debug_print_level='r')"
   ]
  },
  {
   "cell_type": "code",
   "execution_count": null,
   "metadata": {
    "collapsed": false
   },
   "outputs": [],
   "source": [
    "#What if we retrain on the whole training dataset?\n",
    "def dtree_predict(dt, x):\n",
    "    y = dt.classifier.predict([x])[0]\n",
    "    if not dt.left: return y\n",
    "    subtree = dt.left if y else dt.right\n",
    "    return dtree_predict(subtree, x)\n",
    "\n",
    "def vec_dtree_predict(dt, X):\n",
    "    return np.array([dtree_predict(dt, x) for x in X])\n",
    "\n",
    "np.sum(vec_dtree_predict(bdt, teXadj) == teY) / len(teY)"
   ]
  }
 ],
 "metadata": {
  "kernelspec": {
   "display_name": "Python 3",
   "language": "python",
   "name": "python3"
  },
  "language_info": {
   "codemirror_mode": {
    "name": "ipython",
    "version": 3
   },
   "file_extension": ".py",
   "mimetype": "text/x-python",
   "name": "python",
   "nbconvert_exporter": "python",
   "pygments_lexer": "ipython3",
   "version": "3.4.3"
  }
 },
 "nbformat": 4,
 "nbformat_minor": 0
}
