{
 "cells": [
  {
   "cell_type": "code",
   "execution_count": 89,
   "metadata": {
    "collapsed": false
   },
   "outputs": [],
   "source": [
    "import sys, itertools\n",
    "import numpy as np\n",
    "%matplotlib inline\n",
    "import matplotlib.pyplot as plt\n",
    "import sklearn, time, math\n",
    "from sklearn.svm import SVC, LinearSVC\n",
    "from sklearn.ensemble import RandomForestClassifier\n",
    "from sklearn.cross_validation import cross_val_score\n",
    "from sklearn.cross_validation import StratifiedKFold\n",
    "from sklearn.metrics import confusion_matrix\n",
    "\n",
    "if '../tools' not in sys.path:\n",
    "    sys.path.append('../tools')\n",
    "from helper_functions import * \n",
    "\n",
    "import warnings\n",
    "warnings.filterwarnings('ignore')"
   ]
  },
  {
   "cell_type": "code",
   "execution_count": 95,
   "metadata": {
    "collapsed": false
   },
   "outputs": [
    {
     "name": "stdout",
     "output_type": "stream",
     "text": [
      "Using existing FVs from file ../generated-fv/FV20-11.mat\n",
      "N = 1000\n",
      "MFCC training feature ranges means [-0.0020, 0.0017] sds [0.0033, 0.0132]\n",
      "Using existing FVs from file ../generated-fv/FVC23-11.mat\n",
      "N = 1000\n",
      "chroma training feature ranges means [-0.0046, 0.0017] sds [0.0035, 0.0139]\n"
     ]
    }
   ],
   "source": [
    "X, Y = load_all_fv(20, 11) #load_all_fv(num_clusters, exemplar)\n",
    "C, Y = load_chroma_fv(23, 11)\n",
    "#X = np.concatenate((X, C), axis=1)\n",
    "X.shape\n",
    "\n",
    "rf = RandomForestClassifier(max_depth=40, n_estimators=250)\n",
    "fi = rf.fit(X, Y).feature_importances_\n",
    "p = order(fi)\n",
    "X = X[:, p[:5000]]"
   ]
  },
  {
   "cell_type": "code",
   "execution_count": 94,
   "metadata": {
    "collapsed": false
   },
   "outputs": [
    {
     "data": {
      "text/plain": [
       "0.53886217948717952"
      ]
     },
     "execution_count": 94,
     "metadata": {},
     "output_type": "execute_result"
    }
   ],
   "source": [
    "s = SVC(C=100, kernel='poly', decision_function_shape='ovo', degree=10., coef0=1.)\n",
    "skf = StratifiedKFold(Y, n_folds=8, shuffle=True, random_state=1)\n",
    "np.average(cross_val_score(s, X, Y, cv=skf, n_jobs=-1))"
   ]
  },
  {
   "cell_type": "code",
   "execution_count": 96,
   "metadata": {
    "collapsed": false
   },
   "outputs": [
    {
     "name": "stdout",
     "output_type": "stream",
     "text": [
      "unmodified mfcc+chroma on SVM (hyper is C, kernel, ovo/ovr)\n",
      "[--------------------] 40/40 best acc 0.7193910256410256 params (10000, 'rbf', 'ovo')\n",
      "unmodified mfcc+chroma on LinearSVM (hyper is C, kernel, ovo/ovr)\n",
      "[--------------------] 20/20 best acc 0.7196314102564103 params (10, 'squared_hinge')\n"
     ]
    },
    {
     "data": {
      "text/plain": [
       "(0.71963141025641031, (10, 'squared_hinge'))"
      ]
     },
     "execution_count": 96,
     "metadata": {},
     "output_type": "execute_result"
    }
   ],
   "source": [
    "def log_range(lo, hi): return [10 ** i for i in range(lo, hi)]\n",
    "\n",
    "def runIterative(X, Y, hypers, classifier):\n",
    "    hypers = list(hypers)\n",
    "    best_acc, best_params = -np.inf, None\n",
    "    t = time.time()\n",
    "    skf = StratifiedKFold(Y, n_folds=3, shuffle=True, random_state=1)\n",
    "    for i, C in enumerate(hypers):\n",
    "        svm = classifier(C)\n",
    "        score = np.average(cross_val_score(svm, X, Y, cv=skf, n_jobs=-1))\n",
    "        if score > best_acc:\n",
    "            best_acc = score\n",
    "            best_params = C\n",
    "        print('\\r{} best acc {:03g} hyper {}'.format(\n",
    "                completion_bar(i + 1, len(hypers), width=20),\n",
    "                best_acc, best_params), end='')\n",
    "        sys.stdout.flush()\n",
    "    t = time.time() - t\n",
    "    print('\\ndone in', t,'seconds')\n",
    "    return best_acc, best_params\n",
    "\n",
    "import multiprocessing\n",
    "def get_score(tup):\n",
    "    C, X, Y, classifier, data_change, skf = tup\n",
    "    svm = classifier(C)\n",
    "    mX = X\n",
    "    if data_change: mX = data_change(mX, C)\n",
    "    return np.average(cross_val_score(svm, mX, Y, cv=skf))\n",
    "def best(scores, hypers):\n",
    "    best = max(scores)\n",
    "    return best, hypers[scores.index(best)]\n",
    "def run(X, Y, hypers, classifier, data_change=None):\n",
    "    hypers = list(hypers)\n",
    "    best_acc, best_params = -np.inf, None\n",
    "    skf = StratifiedKFold(Y, n_folds=8, shuffle=True, random_state=1)\n",
    "    scores = []\n",
    "    nproc = 8\n",
    "    with multiprocessing.Pool(nproc) as p:\n",
    "        def mkclosure(h): return h, X, Y, classifier, data_change, skf\n",
    "        for argsls in chunks([mkclosure(h) for h in hypers], nproc):\n",
    "            scores.extend(p.map(get_score, argsls))\n",
    "            print('\\r{} best acc {} params {}'.format(\n",
    "                completion_bar(len(scores), len(hypers), width=20),\n",
    "                *best(scores, hypers)), end='')\n",
    "            sys.stdout.flush()\n",
    "    print()\n",
    "    return best(scores, hypers)\n",
    "\n",
    "df = ['ovo', 'ovr']\n",
    "Cs = log_range(-5, 5)\n",
    "kernels = ['rbf', 'poly']\n",
    "def make_svm(tup):\n",
    "    C, k, d = tup\n",
    "    if k == 'poly': return SVC(C=C, kernel=k, decision_function_shape=d, degree=10., coef0=1.)\n",
    "    return SVC(C=C, kernel=k, decision_function_shape=d)\n",
    "\n",
    "print('unmodified mfcc+chroma on SVM (hyper is C, kernel, ovo/ovr)')\n",
    "run(X, Y, itertools.product(Cs, kernels, df), make_svm)\n",
    "\n",
    "loss = ['hinge', 'squared_hinge']\n",
    "def make_lsvm(tup):\n",
    "    C, l = tup\n",
    "    return LinearSVC(C=C, loss=l)\n",
    "print('unmodified mfcc+chroma on LinearSVM (hyper is C, kernel, ovo/ovr)')\n",
    "run(X, Y, itertools.product(Cs, loss), make_lsvm)\n",
    "\n",
    "#print('riffled mfcc + SVM (hyper is C regularizer)')\n",
    "#run(XM, Y, log_range(0, 10), lambda C: SVC(C=C))"
   ]
  },
  {
   "cell_type": "code",
   "execution_count": 32,
   "metadata": {
    "collapsed": false
   },
   "outputs": [
    {
     "name": "stdout",
     "output_type": "stream",
     "text": [
      "Using existing FVs from file ../generated-fv/FV8-3.mat\n",
      "N = 1000\n",
      "MFCC training feature ranges means [-0.0119, 0.0060] sds [0.0119, 0.0429]\n",
      "Using existing FVs from file ../generated-fv/FVC8-3.mat\n",
      "N = 1000\n",
      "chroma training feature ranges means [-0.0079, 0.0084] sds [0.0170, 0.0492]\n",
      "unmodified mfcc + chroma + RF (hyper is max depth)\n",
      "[--------------------] 6/6 best acc 0.676923 hyper 30\n",
      "done in 69.04649639129639 seconds\n"
     ]
    }
   ],
   "source": [
    "from sklearn.ensemble import RandomForestClassifier\n",
    "from sklearn.cross_validation import train_test_split\n",
    "def make_rf(md):\n",
    "    return RandomForestClassifier(n_estimators=(max(md,10)*6), max_depth=md)\n",
    "\n",
    "X, Y = load_all_fv(8, 3)\n",
    "C, Y = load_chroma_fv(8, 3)\n",
    "X = np.concatenate((X, C), axis=1)\n",
    "print('unmodified mfcc + chroma + RF (hyper is max depth)')\n",
    "acc, depth = run(X, Y, [1, 5, 10, 20, 30, 50], make_rf)\n",
    "rf = make_rf(depth)"
   ]
  },
  {
   "cell_type": "code",
   "execution_count": 34,
   "metadata": {
    "collapsed": false
   },
   "outputs": [
    {
     "data": {
      "image/png": "[encoded data removed]",
      "text/plain": [
       "<matplotlib.figure.Figure at 0x7f992293a470>"
      ]
     },
     "metadata": {},
     "output_type": "display_data"
    }
   ],
   "source": [
    "# TODO this is temp code, remove later.\n",
    "trX, teX, trY, teY = train_test_split(X, Y, stratify=Y)\n",
    "rf.fit(trX, trY)\n",
    "plot_confusion_matrix(confusion_matrix(teY, rf.predict(teX))) # pretty different confusion!"
   ]
  },
  {
   "cell_type": "code",
   "execution_count": 59,
   "metadata": {
    "collapsed": false
   },
   "outputs": [
    {
     "data": {
      "image/png": "[encoded data removed]",
      "text/plain": [
       "<matplotlib.figure.Figure at 0x7f9927a8a390>"
      ]
     },
     "metadata": {},
     "output_type": "display_data"
    }
   ],
   "source": [
    "rf.fit(X, Y) # can't technically do whole, integrate this with CV\n",
    "def order(x):\n",
    "    p = [x[0] for x in sorted(list(enumerate(x)), key=lambda tup:tup[1])]\n",
    "    p.reverse()\n",
    "    return p\n",
    "p = order(rf.feature_importances_)\n",
    "plt.plot(rf.feature_importances_[p], '.-')\n",
    "plt.show()"
   ]
  },
  {
   "cell_type": "code",
   "execution_count": null,
   "metadata": {
    "collapsed": false
   },
   "outputs": [],
   "source": [
    "print('RF-cutoff mfcc/chroma + SVM (hyper is C regularizer)')\n",
    "run(whiten(X[:, p[:1000]]), Y, log_range(0, 10), lambda C: SVC(C=C))\n",
    "print('RF-cutoff mfcc/chroma + poly SVM (hyper is C regularizer)')\n",
    "run(whiten(X[:, p[:1000]]), Y, log_range(0, 10),\n",
    "    lambda C: SVC(C=C, kernel='poly', degree=10, coef0=1))\n",
    "print('RF-cutoff mfcc/chroma + linear SVM (hyper is C regularizer)')\n",
    "run(whiten(X[:, p[:1000]]), Y, log_range(0, 10),\n",
    "    lambda C: SVC(C=C, kernel='linear'))\n",
    "print('RF-scaled mfcc/chroma + rbf SVM (hyper is C regularizer)')\n",
    "run(rf.feature_importances_ * 1000 * whiten(X), Y, log_range(0, 10), lambda C: SVC(C=C))\n",
    "print('RF-scaled mfcc/chroma + poly SVM (hyper is C regularizer)')\n",
    "run(rf.feature_importances_ * 1000 * whiten(X), Y, log_range(0, 10),\n",
    "    lambda C: SVC(C=C, kernel='poly', degree=10, coef0=1))\n",
    "print('RF-scaled mfcc/chroma + linear SVM (hyper is C regularizer)')\n",
    "run(rf.feature_importances_ * 1000 * whiten(X), Y, log_range(0, 10),\n",
    "    lambda C: SVC(C=C, kernel='linear'))"
   ]
  },
  {
   "cell_type": "code",
   "execution_count": 63,
   "metadata": {
    "collapsed": false
   },
   "outputs": [
    {
     "name": "stdout",
     "output_type": "stream",
     "text": [
      "Using existing FVs from file ../generated-fv/FV8-3.mat\n",
      "N = 1000\n",
      "MFCC training feature ranges means [-0.0119, 0.0060] sds [0.0119, 0.0429]\n",
      "Using existing FVs from file ../generated-fv/FVC8-3.mat\n",
      "N = 1000\n",
      "chroma training feature ranges means [-0.0079, 0.0084] sds [0.0170, 0.0492]\n",
      "voting score 0.716\n"
     ]
    },
    {
     "data": {
      "image/png": "[encoded data removed]",
      "text/plain": [
       "<matplotlib.figure.Figure at 0x7f993bc14240>"
      ]
     },
     "metadata": {},
     "output_type": "display_data"
    }
   ],
   "source": [
    "X, Y = load_all_fv(8, 3)\n",
    "C, Y = load_chroma_fv(8, 3)\n",
    "from sklearn.ensemble import VotingClassifier\n",
    "\n",
    "trX, teX, trC, teC, trY, teY = train_test_split(X, C, Y, stratify=Y)\n",
    "\n",
    "mfccSVM = SVC(C=1000, probability=True)\n",
    "chromaSVM = SVC(C=1000, probability=True)\n",
    "mfccRF = RandomForestClassifier(n_estimators=200, max_depth=30)\n",
    "chromaRF = RandomForestClassifier(n_estimators=200, max_depth=30)\n",
    "ests = [('mfccSVM', mfccSVM), ('chromaSVM', chromaSVM), ('mfccRF', mfccRF), ('chromaRF', chromaRF)]\n",
    "\n",
    "mfccRF.fit(trX, trY)\n",
    "chromaRF.fit(trC, trY)\n",
    "\n",
    "top_mfcc = order(mfccRF.feature_importances_)\n",
    "top_chroma = order(chromaRF.feature_importances_)\n",
    "\n",
    "trX, teX = trX[:, top_mfcc[:1000]], teX[:, top_mfcc[:1000]]\n",
    "#trC, teC = trC[:, top_chroma[:400]], teC[:, top_chroma[:400]]\n",
    "mfccSVM.fit(trX, trY)\n",
    "chromaSVM.fit(trC, trY)\n",
    "\n",
    "sum_p = sum((2 * mfccSVM.predict_proba(teX), chromaSVM.predict_proba(teC), chromaRF.predict_proba(teC)))\n",
    "Yhat = np.argmax(sum_p, axis=1) + 1\n",
    "print('voting score', np.sum(Yhat == teY) / len(teY))\n",
    "plot_confusion_matrix(confusion_matrix(teY, Yhat))\n",
    "plt.show()"
   ]
  },
  {
   "cell_type": "code",
   "execution_count": 16,
   "metadata": {
    "collapsed": false
   },
   "outputs": [
    {
     "name": "stdout",
     "output_type": "stream",
     "text": [
      "RF-cutoff mfcc + rbf SVM (hyper is C regularizer)\n",
      "[--------------------] 1/1 best acc 0.535176 hyper 5\n",
      "done in 0.8084800243377686 seconds\n",
      "[--------------------] 1/1 best acc 0.588462 hyper 5\n",
      "done in 0.990833044052124 seconds\n",
      "[--------------------] 1/1 best acc 0.639904 hyper 5\n",
      "done in 1.398914098739624 seconds\n",
      "[--------------------] 1/1 best acc 0.667067 hyper 5\n",
      "done in 1.706181526184082 seconds\n",
      "[--------------------] 1/1 best acc 0.683173 hyper 5\n",
      "done in 2.213334083557129 seconds\n",
      "[--------------------] 1/1 best acc 0.694952 hyper 5\n",
      "done in 2.5045533180236816 seconds\n",
      "[--------------------] 1/1 best acc 0.712821 hyper 5\n",
      "done in 3.2288362979888916 seconds\n",
      "[--------------------] 1/1 best acc 0.715946 hyper 5\n",
      "done in 3.5558834075927734 seconds\n",
      "[--------------------] 1/1 best acc 0.714824 hyper 5\n",
      "done in 3.6879754066467285 seconds\n",
      "[--------------------] 1/1 best acc 0.720753 hyper 5\n",
      "done in 4.029447078704834 seconds\n",
      "[--------------------] 1/1 best acc 0.71875 hyper 5\n",
      "done in 4.916456460952759 seconds\n",
      "[--------------------] 1/1 best acc 0.720833 hyper 5\n",
      "done in 5.854745149612427 seconds\n",
      "[--------------------] 1/1 best acc 0.725962 hyper 5\n",
      "done in 6.1288981437683105 seconds\n",
      "[--------------------] 1/1 best acc 0.727804 hyper 5\n",
      "done in 6.064671516418457 seconds\n",
      "[--------------------] 1/1 best acc 0.731811 hyper 5\n",
      "done in 6.751474618911743 seconds\n",
      "[--------------------] 1/1 best acc 0.729888 hyper 5\n",
      "done in 7.3301661014556885 seconds\n",
      "[--------------------] 1/1 best acc 0.734936 hyper 5\n",
      "done in 7.964676856994629 seconds\n",
      "[--------------------] 1/1 best acc 0.730849 hyper 5\n",
      "done in 8.016938209533691 seconds\n",
      "[--------------------] 1/1 best acc 0.732612 hyper 5\n",
      "done in 8.276246786117554 seconds\n",
      "[--------------------] 1/1 best acc 0.732612 hyper 5\n",
      "done in 8.213489294052124 seconds\n",
      "[--------------------] 1/1 best acc 0.730769 hyper 5\n",
      "done in 8.705864191055298 seconds\n",
      "[--------------------] 1/1 best acc 0.731651 hyper 5\n",
      "done in 9.156215190887451 seconds\n",
      "[--------------------] 1/1 best acc 0.730689 hyper 5\n",
      "done in 9.784804344177246 seconds\n",
      "[--------------------] 1/1 best acc 0.729647 hyper 5\n",
      "done in 11.059188842773438 seconds\n",
      "[--------------------] 1/1 best acc 0.731731 hyper 5\n",
      "done in 10.9257652759552 seconds\n",
      "[--------------------] 1/1 best acc 0.731811 hyper 5\n",
      "done in 10.811896562576294 seconds\n",
      "[--------------------] 1/1 best acc 0.731731 hyper 5\n",
      "done in 11.356090784072876 seconds\n",
      "[--------------------] 1/1 best acc 0.728686 hyper 5\n",
      "done in 14.206225156784058 seconds\n",
      "[--------------------] 1/1 best acc 0.723718 hyper 5\n",
      "done in 14.61713433265686 seconds\n",
      "[--------------------] 1/1 best acc 0.726763 hyper 5\n",
      "done in 14.826357364654541 seconds\n",
      "[--------------------] 1/1 best acc 0.720994 hyper 5\n",
      "done in 14.290584087371826 seconds\n",
      "[--------------------] 1/1 best acc 0.723077 hyper 5\n",
      "done in 16.116512537002563 seconds\n",
      "[--------------------] 1/1 best acc 0.716106 hyper 5\n",
      "done in 17.337904453277588 seconds\n",
      "[--------------------] 1/1 best acc 0.719071 hyper 5\n",
      "done in 18.583563804626465 seconds\n",
      "[--------------------] 1/1 best acc 0.719151 hyper 5\n",
      "done in 17.802016019821167 seconds\n",
      "[--------------------] 1/1 best acc 0.719151 hyper 5\n",
      "done in 19.51250672340393 seconds\n",
      "[--------------------] 1/1 best acc 0.715144 hyper 5\n",
      "done in 20.226052284240723 seconds\n",
      "[--------------------] 1/1 best acc 0.714263 hyper 5\n",
      "done in 20.106632947921753 seconds\n",
      "[--------------------] 1/1 best acc 0.716106 hyper 5\n",
      "done in 21.64133906364441 seconds\n",
      "[--------------------] 1/1 best acc 0.712179 hyper 5\n",
      "done in 22.52589440345764 seconds\n",
      "[--------------------] 1/1 best acc 0.715064 hyper 5\n",
      "done in 25.828978300094604 seconds\n",
      "[--------------------] 1/1 best acc 0.714984 hyper 5\n",
      "done in 23.42727756500244 seconds\n",
      "[--------------------] 1/1 best acc 0.712019 hyper 5\n",
      "done in 23.453134775161743 seconds\n",
      "[--------------------] 1/1 best acc 0.715064 hyper 5\n",
      "done in 24.562620639801025 seconds\n",
      "[--------------------] 1/1 best acc 0.714904 hyper 5\n",
      "done in 24.438997507095337 seconds\n",
      "[--------------------] 1/1 best acc 0.709936 hyper 5\n",
      "done in 24.896027326583862 seconds\n",
      "[--------------------] 1/1 best acc 0.712099 hyper 5\n",
      "done in 25.70916724205017 seconds\n",
      "[--------------------] 1/1 best acc 0.709936 hyper 5\n",
      "done in 27.295032024383545 seconds\n",
      "[--------------------] 1/1 best acc 0.707853 hyper 5\n",
      "done in 25.933273553848267 seconds\n",
      "[--------------------] 1/1 best acc 0.706891 hyper 5\n",
      "done in 27.331964015960693 seconds\n",
      "[--------------------] 1/1 best acc 0.706891 hyper 5\n",
      "done in 26.686509132385254 seconds\n"
     ]
    },
    {
     "data": {
      "text/plain": [
       "[<matplotlib.lines.Line2D at 0x7f993b962780>,\n",
       " <matplotlib.lines.Line2D at 0x7f993b962a20>]"
      ]
     },
     "execution_count": 16,
     "metadata": {},
     "output_type": "execute_result"
    },
    {
     "data": {
      "image/png": "[encoded data removed]",
      "text/plain": [
       "<matplotlib.figure.Figure at 0x7f9924a592e8>"
      ]
     },
     "metadata": {},
     "output_type": "display_data"
    }
   ],
   "source": [
    "def runRBF5(X, k):\n",
    "    print('RF-cutoff mfcc + rbf SVM (hyper is C regularizer), cutoff', k)\n",
    "    return run(whiten(X[:, p[:k]]), Y, [5], lambda C: SVC(C=C))\n",
    "print('RF-cutoff mfcc + rbf SVM (hyper is C regularizer)')\n",
    "ks = list(range(50, X.shape[1], 50))\n",
    "res = [runRBF5(X, k)[0] for k in ks]"
   ]
  },
  {
   "cell_type": "code",
   "execution_count": 19,
   "metadata": {
    "collapsed": false
   },
   "outputs": [
    {
     "data": {
      "text/plain": [
       "[<matplotlib.lines.Line2D at 0x7f9927dc0240>]"
      ]
     },
     "execution_count": 19,
     "metadata": {},
     "output_type": "execute_result"
    },
    {
     "data": {
      "image/png": "[encoded data removed]",
      "text/plain": [
       "<matplotlib.figure.Figure at 0x7f9924970ba8>"
      ]
     },
     "metadata": {},
     "output_type": "display_data"
    }
   ],
   "source": [
    "plt.plot(res, '.-')"
   ]
  },
  {
   "cell_type": "code",
   "execution_count": 2,
   "metadata": {
    "collapsed": false
   },
   "outputs": [
    {
     "name": "stdout",
     "output_type": "stream",
     "text": [
      "Read in eng for all genres\n",
      "Read in chroma for all genres\n",
      "Read in t for all genres\n",
      "Read in keystrength for all genres\n",
      "Read in brightness for all genres\n",
      "Read in zerocross for all genres\n",
      "Read in roughness for all genres\n",
      "Read in inharmonic for all genres\n",
      "Read in hcdf for all genres\n",
      "keystrength (1000, 12, 1222) False\n",
      "inharmonic (1000, 1222) True\n",
      "chroma (1000, 12, 1222) False\n",
      "brightness (1000, 1222) False\n",
      "eng (1000, 1222) False\n",
      "zerocross (1000, 1222) False\n",
      "t (1000, 1222) False\n",
      "hcdf (1000, 1222) False\n",
      "roughness (1000, 1222) False\n"
     ]
    }
   ],
   "source": [
    "D = load_all_nonmfc()\n",
    "for k, v in D.items():\n",
    "    print(k, v.shape, np.any(np.isnan(v)))"
   ]
  },
  {
   "cell_type": "code",
   "execution_count": 50,
   "metadata": {
    "collapsed": false
   },
   "outputs": [
    {
     "data": {
      "image/png": "[encoded data removed]",
      "text/plain": [
       "<matplotlib.figure.Figure at 0x7f55a29f2668>"
      ]
     },
     "metadata": {},
     "output_type": "display_data"
    }
   ],
   "source": [
    "flat_chroma = D['chroma'].reshape(1000, D['chroma'].size // 1000)\n",
    "pca = PCA(whiten=True, n_components=0.99).fit(flat_chroma)\n",
    "plt.plot(pca.explained_variance_ratio_, '.-')\n",
    "plt.show() #roughness, hcdf, eng, brightness, zerocross"
   ]
  },
  {
   "cell_type": "code",
   "execution_count": 54,
   "metadata": {
    "collapsed": false
   },
   "outputs": [
    {
     "name": "stdout",
     "output_type": "stream",
     "text": [
      "0.209084131715\n"
     ]
    },
    {
     "data": {
      "image/png": "[encoded data removed]",
      "text/plain": [
       "<matplotlib.figure.Figure at 0x7f55a2827cc0>"
      ]
     },
     "metadata": {},
     "output_type": "display_data"
    }
   ],
   "source": [
    "plt.plot(pca.explained_variance_ratio_[:20], '.-')\n",
    "print(sum(pca.explained_variance_ratio_[:20]))\n",
    "plt.show()"
   ]
  },
  {
   "cell_type": "code",
   "execution_count": 55,
   "metadata": {
    "collapsed": false
   },
   "outputs": [
    {
     "data": {
      "text/plain": [
       "(1000, 18)"
      ]
     },
     "execution_count": 55,
     "metadata": {},
     "output_type": "execute_result"
    }
   ],
   "source": [
    "pca = PCA(whiten=True, n_components=0.20).fit(flat_chroma)\n",
    "pca_chroma = pca.transform(flat_chroma)\n",
    "pca_chroma.shape"
   ]
  },
  {
   "cell_type": "code",
   "execution_count": 68,
   "metadata": {
    "collapsed": false
   },
   "outputs": [
    {
     "data": {
      "text/plain": [
       "(1000, 1222)"
      ]
     },
     "execution_count": 68,
     "metadata": {},
     "output_type": "execute_result"
    }
   ],
   "source": [
    "D['roughness'].shape"
   ]
  },
  {
   "cell_type": "code",
   "execution_count": 82,
   "metadata": {
    "collapsed": false
   },
   "outputs": [
    {
     "name": "stdout",
     "output_type": "stream",
     "text": [
      "Using existing FVs from file ../generated-fv/FV8-3.mat\n",
      "N = 1000\n",
      "MFCC training feature ranges means [-0.0119, 0.0060] sds [0.0119, 0.0429]\n"
     ]
    }
   ],
   "source": [
    "num_clusters, exemplar = 8, 3\n",
    "X, Y = load_all_fv(num_clusters, exemplar)\n",
    "T = num_clusters * 2\n",
    "t = (exemplar - (1 if exemplar % 2 == 0 else 0)) * 2 - 1\n",
    "#D['FV'] = np.average(riffle(fvs, t, T), axis=2)"
   ]
  },
  {
   "cell_type": "code",
   "execution_count": 83,
   "metadata": {
    "collapsed": false
   },
   "outputs": [
    {
     "name": "stdout",
     "output_type": "stream",
     "text": [
      "[----------] 10/10 best acc 0.699 param C=1000 kernel=rbf\n",
      "Done with CV for 10-size hyper grid in 65.772017s\n",
      "Accuracies: best avg cv 0.6990000000000001 for C=1000 kernel=rbf\n"
     ]
    }
   ],
   "source": [
    "def logRange(lo, hi): return [10 ** i for i in range(lo, hi)]\n",
    "Cs = logRange(0, 10)\n",
    "kernels = ['rbf']\n",
    "hypers = list(itertools.product(Cs, kernels))\n",
    "\n",
    "def print_svc(C, k): return 'C={:03g} kernel={}'.format(C, k)\n",
    "def make_svc(C, k):\n",
    "    if k == 'poly': return SVC(C=C, kernel=k, coef0=1.0, degree=5)\n",
    "    else: return SVC(C=C, kernel=k)\n",
    "\n",
    "best_acc, best_params = -np.inf, None\n",
    "t = time.time()\n",
    "skf = StratifiedKFold(Y, n_folds=4, shuffle=True, random_state=1)\n",
    "for i, tup in enumerate(hypers):\n",
    "    svm = make_svc(*tup)\n",
    "    score = np.average(cross_val_score(svm, X, Y, cv=skf, n_jobs=-1))\n",
    "    if score > best_acc:\n",
    "        best_acc = score\n",
    "        best_params = tup\n",
    "    print('\\r{} best acc {:03g} param {}'.format(\n",
    "            completion_bar(i + 1, len(hypers), width=10), best_acc,\n",
    "            print_svc(*best_params)), end='')\n",
    "    sys.stdout.flush()\n",
    "t = time.time() - t\n",
    "\n",
    "svm = make_svc(*best_params)\n",
    "print('\\nDone with CV for {}-size hyper grid in {:03f}s'.format(\n",
    "        len(hypers), t))\n",
    "print('Accuracies: best avg cv {} for {}'.format(best_acc, print_svc(*best_params)))"
   ]
  },
  {
   "cell_type": "code",
   "execution_count": 81,
   "metadata": {
    "collapsed": false
   },
   "outputs": [
    {
     "name": "stdout",
     "output_type": "stream",
     "text": [
      "['FV', 'eng', 'hcdf', 'brightness', 'zerocross', 'roughness', 'FV', 'FV', 'FV']\n"
     ]
    },
    {
     "data": {
      "text/plain": [
       "array([ 0.46923077,  0.40769231,  0.50769231,  0.47692308,  0.48333333,\n",
       "        0.41666667,  0.46666667,  0.5       ])"
      ]
     },
     "execution_count": 81,
     "metadata": {},
     "output_type": "execute_result"
    }
   ],
   "source": [
    "from sklearn.ensemble import VotingClassifier\n",
    "\n",
    "ests = [(s, make_classifier(s)) for s in svms+rf+['FV'] * 3]\n",
    "print([s[1].name for s in ests])\n",
    "c = VotingClassifier(estimators=ests, voting='soft')\n",
    "skf = StratifiedKFold(Y, n_folds=8, shuffle=True, random_state=1)\n",
    "np.average(cross_val_score(c, X, Y, cv=skf, n_jobs=-1))\n",
    "# todo this, then FV on chroma"
   ]
  },
  {
   "cell_type": "code",
   "execution_count": 152,
   "metadata": {
    "collapsed": false
   },
   "outputs": [
    {
     "name": "stdout",
     "output_type": "stream",
     "text": [
      "brightness classifier with cv 0.270038\n",
      "zerocross classifier with cv 0.122438\n",
      "0.34\n"
     ]
    },
    {
     "data": {
      "text/plain": [
       "0.28499999999999998"
      ]
     },
     "execution_count": 152,
     "metadata": {},
     "output_type": "execute_result"
    }
   ],
   "source": [
    "#svm1 = findSVC(D['FV'][p][:800], Y[p][:800], 'FV')\n",
    " #roughness (RF depth 20 200 learners), hcdf, eng, brightness, zerocross* -> dtree. Also do chroma pca classifier.\n",
    "#svm2 = findSVC(D['eng'][p][:800], Y[p][:800], 'eng')\n",
    "#svm3 = findSVC(D['hcdf'][p][:800], Y[p][:800], 'hcdf')\n",
    "svm4 = findSVC(D['brightness'][p][:800], Y[p][:800], 'brightness')\n",
    "svm4 = findSVC(D['zerocross'][p][:800], Y[p][:800], 'zerocross')\n",
    "\n",
    "print(RandomForestClassifier(max_depth=20, n_estimators=200).fit(D['roughness'][p][:800], Y[p][:800]).score(\n",
    "    D['roughness'][p][800:], Y[p][800:]))\n",
    "\n",
    "RandomForestClassifier(max_depth=10, n_estimators=50).fit(D['zerocross'][p][:800], Y[p][:800]).score(\n",
    "    D['zerocross'][p][800:], Y[p][800:])"
   ]
  },
  {
   "cell_type": "code",
   "execution_count": 131,
   "metadata": {
    "collapsed": false
   },
   "outputs": [
    {
     "data": {
      "text/plain": [
       "(1000, 135)"
      ]
     },
     "execution_count": 131,
     "metadata": {},
     "output_type": "execute_result"
    }
   ],
   "source": [
    "outs = np.concatenate([x.decision_function(D[y][p]) for x, y in zip((svm1, svm2, svm3), ('FV', 'eng', 'hcdf'))],\n",
    "                       axis=1)\n",
    "outs.shape"
   ]
  },
  {
   "cell_type": "code",
   "execution_count": 6,
   "metadata": {
    "collapsed": false
   },
   "outputs": [
    {
     "ename": "NameError",
     "evalue": "name 'outs' is not defined",
     "output_type": "error",
     "traceback": [
      "\u001b[1;31m---------------------------------------------------------------------------\u001b[0m",
      "\u001b[1;31mNameError\u001b[0m                                 Traceback (most recent call last)",
      "\u001b[1;32m<ipython-input-6-49c7d09bf18f>\u001b[0m in \u001b[0;36m<module>\u001b[1;34m()\u001b[0m\n\u001b[0;32m      6\u001b[0m \u001b[0mdt\u001b[0m\u001b[1;33m=\u001b[0m \u001b[0mLogisticRegressionCV\u001b[0m\u001b[1;33m(\u001b[0m\u001b[0mmulti_class\u001b[0m\u001b[1;33m=\u001b[0m\u001b[1;34m'multinomial'\u001b[0m\u001b[1;33m)\u001b[0m\u001b[1;33m\u001b[0m\u001b[0m\n\u001b[0;32m      7\u001b[0m \u001b[1;31m#dt =SVC(C=1.0, kernel='poly', coef0=1, degree=10)\u001b[0m\u001b[1;33m\u001b[0m\u001b[1;33m\u001b[0m\u001b[0m\n\u001b[1;32m----> 8\u001b[1;33m \u001b[0mdt\u001b[0m\u001b[1;33m.\u001b[0m\u001b[0mfit\u001b[0m\u001b[1;33m(\u001b[0m\u001b[0mouts\u001b[0m\u001b[1;33m[\u001b[0m\u001b[1;36m800\u001b[0m\u001b[1;33m:\u001b[0m\u001b[1;36m900\u001b[0m\u001b[1;33m]\u001b[0m\u001b[1;33m,\u001b[0m \u001b[0mY\u001b[0m\u001b[1;33m[\u001b[0m\u001b[0mp\u001b[0m\u001b[1;33m]\u001b[0m\u001b[1;33m[\u001b[0m\u001b[1;36m800\u001b[0m\u001b[1;33m:\u001b[0m\u001b[1;36m900\u001b[0m\u001b[1;33m]\u001b[0m\u001b[1;33m)\u001b[0m\u001b[1;33m\u001b[0m\u001b[0m\n\u001b[0m\u001b[0;32m      9\u001b[0m \u001b[0mprint\u001b[0m\u001b[1;33m(\u001b[0m\u001b[1;34m'train score {} test score {}'\u001b[0m\u001b[1;33m.\u001b[0m\u001b[0mformat\u001b[0m\u001b[1;33m(\u001b[0m\u001b[0mdt\u001b[0m\u001b[1;33m.\u001b[0m\u001b[0mscore\u001b[0m\u001b[1;33m(\u001b[0m\u001b[0mouts\u001b[0m\u001b[1;33m[\u001b[0m\u001b[1;36m800\u001b[0m\u001b[1;33m:\u001b[0m\u001b[1;36m900\u001b[0m\u001b[1;33m]\u001b[0m\u001b[1;33m,\u001b[0m \u001b[0mY\u001b[0m\u001b[1;33m[\u001b[0m\u001b[0mp\u001b[0m\u001b[1;33m]\u001b[0m\u001b[1;33m[\u001b[0m\u001b[1;36m800\u001b[0m\u001b[1;33m:\u001b[0m\u001b[1;36m900\u001b[0m\u001b[1;33m]\u001b[0m\u001b[1;33m)\u001b[0m\u001b[1;33m,\u001b[0m \u001b[0mdt\u001b[0m\u001b[1;33m.\u001b[0m\u001b[0mscore\u001b[0m\u001b[1;33m(\u001b[0m\u001b[0mouts\u001b[0m\u001b[1;33m[\u001b[0m\u001b[1;36m900\u001b[0m\u001b[1;33m:\u001b[0m\u001b[1;33m]\u001b[0m\u001b[1;33m,\u001b[0m \u001b[0mY\u001b[0m\u001b[1;33m[\u001b[0m\u001b[0mp\u001b[0m\u001b[1;33m]\u001b[0m\u001b[1;33m[\u001b[0m\u001b[1;36m900\u001b[0m\u001b[1;33m:\u001b[0m\u001b[1;33m]\u001b[0m\u001b[1;33m)\u001b[0m\u001b[1;33m)\u001b[0m\u001b[1;33m)\u001b[0m\u001b[1;33m\u001b[0m\u001b[0m\n",
      "\u001b[1;31mNameError\u001b[0m: name 'outs' is not defined"
     ]
    }
   ],
   "source": [
    "from sklearn.tree import DecisionTreeClassifier\n",
    "from sklearn.ensemble import RandomForestClassifier\n",
    "from sklearn.linear_model import LogisticRegressionCV\n",
    "\n",
    "#dt = DecisionTreeClassifier(criterion='gini')\n",
    "dt= LogisticRegressionCV(multi_class='multinomial')\n",
    "#dt =SVC(C=1.0, kernel='poly', coef0=1, degree=10)\n",
    "dt.fit(outs[800:900], Y[p][800:900])\n",
    "print('train score {} test score {}'.format(dt.score(outs[800:900], Y[p][800:900]), dt.score(outs[900:], Y[p][900:])))"
   ]
  },
  {
   "cell_type": "code",
   "execution_count": 66,
   "metadata": {
    "collapsed": false
   },
   "outputs": [
    {
     "data": {
      "image/png": "[encoded data removed]",
      "text/plain": [
       "<matplotlib.figure.Figure at 0x7f55a2979f60>"
      ]
     },
     "metadata": {},
     "output_type": "display_data"
    },
    {
     "data": {
      "image/png": "[encoded data removed]",
      "text/plain": [
       "<matplotlib.figure.Figure at 0x7f55a2885ef0>"
      ]
     },
     "metadata": {},
     "output_type": "display_data"
    }
   ],
   "source": [
    "predictions = SVC(C=1.0).fit(trXrff, trY).predict(teXrff)\n",
    "plot_confusion_matrix(confusion_matrix(teY, predictions))\n",
    "plt.show()\n",
    "\n",
    "trXch, teXch = np.split(flat_chroma[p], [int(0.9 * len(X))])\n",
    "pca_part = PCA(whiten=True, n_components=0.20).fit(trXch)\n",
    "predictions = SVC(C=1.0).fit(pca.transform(trXch), trY).predict(\n",
    "    pca.transform(teXch))\n",
    "plot_confusion_matrix(confusion_matrix(teY, predictions))"
   ]
  },
  {
   "cell_type": "markdown",
   "metadata": {},
   "source": [
    "Below is a bunch of random classifiers also attempted"
   ]
  },
  {
   "cell_type": "code",
   "execution_count": null,
   "metadata": {
    "collapsed": false
   },
   "outputs": [],
   "source": [
    "from sklearn.tree import DecisionTreeClassifier\n",
    "from sklearn.ensemble import AdaBoostClassifier\n",
    "\n",
    "# ovo multi-classification, rbf\n",
    "if sklearn.__version__ >= '0.18':\n",
    "    print('warning, not ovo comparison')\n",
    "svm = SVC(C=1.0)\n",
    "svm.fit(trXadj, trY)\n",
    "print('svm Orig accuracies: train {} test {}'.format(svm.score(trXadj, trY), svm.score(teXadj, teY)))\n",
    "svm.fit(trXrff, trY)\n",
    "print('svm Red accuracies: train {} test {}'.format(svm.score(trXrff, trY), svm.score(teXrff, teY)))\n",
    "\n",
    "from sklearn.linear_model import LogisticRegressionCV\n",
    "reg = LogisticRegressionCV(multi_class='multinomial', solver='lbfgs', max_iter=5000, n_jobs=8, cv=8)\n",
    "reg.fit(trXadj, trY)\n",
    "print('softmax Orig accuracies: train {} test {}'.format(reg.score(trXadj, trY), reg.score(teXadj, teY)))\n",
    "reg.fit(trXrff, trY)\n",
    "print('softmax Orig accuracies: train {} test {}'.format(reg.score(trXrff, trY), reg.score(teXrff, teY)))"
   ]
  },
  {
   "cell_type": "code",
   "execution_count": null,
   "metadata": {
    "collapsed": false
   },
   "outputs": [],
   "source": [
    "Ngnb = SVC(probability=True)\n",
    "stumps = AdaBoostClassifier(n_estimators=30, base_estimator=gnb)\n",
    "stumps.fit(trXadj, trY)\n",
    "print('Orig accuracies: train {} test {}'.format(stumps.score(trXadj, trY), stumps.score(teXadj, teY)))\n",
    "stumps.fit(trXred, trY)\n",
    "print('Red accuracies: train {} test {}'.format(stumps.score(trXred, trY), stumps.score(teXred, teY)))"
   ]
  },
  {
   "cell_type": "code",
   "execution_count": null,
   "metadata": {
    "collapsed": false
   },
   "outputs": [],
   "source": [
    "v = trXred[0]\n",
    "def sqmat(x):\n",
    "    tx = x.reshape((1, len(x)))\n",
    "    xt = x.reshape((len(x), 1))\n",
    "    return np.dot(xt, tx).reshape(len(x) * len(x))\n",
    "sq = np.array([sqmat(x) for x in trXred])\n",
    "sqt = np.array([sqmat(x) for x in teXred])\n",
    "print(sq.shape, sqt.shape)"
   ]
  },
  {
   "cell_type": "code",
   "execution_count": null,
   "metadata": {
    "collapsed": false
   },
   "outputs": [],
   "source": [
    "from sklearn.naive_bayes import GaussianNB\n",
    "gnb = GaussianNB()\n",
    "gnb.fit(sq, trY)\n",
    "gnb.score(sqt, teY)\n",
    "svm.fit(sq, trY)\n",
    "print('Accuracies: train {} test {}'.format(svm.score(sq, trY), svm.score(sqt, teY)))"
   ]
  },
  {
   "cell_type": "code",
   "execution_count": null,
   "metadata": {
    "collapsed": false
   },
   "outputs": [],
   "source": [
    "# Stanford mSVM http://nlp.stanford.edu/IR-book/html/htmledition/multiclass-svms-1.html\n",
    "# This requires a new convex program formulation, unsupported within-python."
   ]
  },
  {
   "cell_type": "code",
   "execution_count": null,
   "metadata": {
    "collapsed": false
   },
   "outputs": [],
   "source": [
    "class DummyPredictor:\n",
    "    def __init__(self, res):\n",
    "        self._res = res\n",
    "    def predict(self, X):\n",
    "        Y = np.empty([len(X), 1])\n",
    "        Y.fill(self._res)\n",
    "        return Y\n",
    "        \n",
    "def find_best(subsets, X, origY, C):\n",
    "    best_accuracy, best_classifier, best_set = -np.inf, None, None\n",
    "    val = int(0.8 * len(X))\n",
    "    for subset in subsets:\n",
    "        Y = np.array([y in subset for y in origY])\n",
    "        svm = SVC(C=C).fit(X[:val], Y[:val])\n",
    "        acc = svm.score(X[val:], Y[val:])\n",
    "        if acc > best_accuracy:\n",
    "            best_accuracy = acc\n",
    "            best_classifier = svm\n",
    "            best_set = subset\n",
    "    return best_accuracy, best_classifier, best_set\n",
    "    \n",
    "def best_subset_finder(labels, C=1.0):\n",
    "    assert len(labels) > 0\n",
    "    if len(labels) == 1:\n",
    "        return {}, DummyPredictor(next(iter(labels))), {}\n",
    "    if len(labels) == 2:\n",
    "        return {}, SVC(C=C).fit(trXadj, trY), {}\n",
    "    \n",
    "    subsets = []\n",
    "    for i in range(1, len(labels) // 2 + 1):\n",
    "        for subset in itertools.combinations(labels, i):\n",
    "            subsets.append(subset)\n",
    "    p = np.random.permutation(len(trXadj))\n",
    "    pX = trXadj[p]\n",
    "    pY = trY[p]\n",
    "    \n",
    "    nproc = 4\n",
    "    print('  Launching {} parallel tasks for {} problems.'.format(nproc, len(subsets)))\n",
    "    sys.stdout.flush()\n",
    "    np.random.shuffle(subsets)\n",
    "    \n",
    "    best_parallel = Parallel(n_jobs=2, backend='threading') \\\n",
    "        (delayed(find_best)(i, pX, pY, C) for i in chunks(subsets, max(len(subsets) // nproc, 1)))\n",
    "    best_accuracy, best_set, best_classifier = -np.inf, None, None\n",
    "    for job_best_acc, job_best_classifier, job_best_set in best_parallel:\n",
    "         if job_best_acc > best_accuracy:\n",
    "             best_accuracy = job_best_acc\n",
    "             best_classifier = job_best_classifier\n",
    "             best_set = set(job_best_set)\n",
    "         \n",
    "    other = labels - best_set\n",
    "    print('  Split on 0/1 for {} vs {}, validation acc {}'.format(\n",
    "        best_set, other, best_accuracy))\n",
    "    sys.stdout.flush()\n",
    "    assert best_classifier\n",
    "    return best_set, best_classifier, other\n",
    "\n",
    "class DTree(object):\n",
    "    def __init__(self, classifier, lset, rset):\n",
    "        self.lset = lset\n",
    "        self.rset = rset\n",
    "        self.left = None\n",
    "        self.right = None\n",
    "        self.classifier = classifier\n",
    "\n",
    "def binary_dtree(labels, C=10.0, debug_print_level=None):\n",
    "    dbp = debug_print_level\n",
    "    if dbp: print('Level {}'.format(dbp))\n",
    "    left, svm, right = best_subset_finder(labels)\n",
    "    if not left: assert not right\n",
    "    x = DTree(svm, left, right)\n",
    "    if not left: return x\n",
    "    x.left = binary_dtree(left, C=(C * len(left) / len(labels)),\n",
    "                          debug_print_level=(dbp + '0' if dbp else None))\n",
    "    x.right = binary_dtree(right, C=(C * len(right) / len(labels)),\n",
    "                           debug_print_level=(dbp + '1' if dbp else None))\n",
    "    return x"
   ]
  },
  {
   "cell_type": "code",
   "execution_count": null,
   "metadata": {
    "collapsed": false
   },
   "outputs": [],
   "source": [
    "bdt = binary_dtree(set(trY), C=10.0, debug_print_level='r')"
   ]
  },
  {
   "cell_type": "code",
   "execution_count": null,
   "metadata": {
    "collapsed": false
   },
   "outputs": [],
   "source": [
    "#What if we retrain on the whole training dataset?\n",
    "def dtree_predict(dt, x):\n",
    "    y = dt.classifier.predict([x])[0]\n",
    "    if not dt.left: return y\n",
    "    subtree = dt.left if y else dt.right\n",
    "    return dtree_predict(subtree, x)\n",
    "\n",
    "def vec_dtree_predict(dt, X):\n",
    "    return np.array([dtree_predict(dt, x) for x in X])\n",
    "\n",
    "np.sum(vec_dtree_predict(bdt, teXadj) == teY) / len(teY)"
   ]
  }
 ],
 "metadata": {
  "kernelspec": {
   "display_name": "Python 3",
   "language": "python",
   "name": "python3"
  },
  "language_info": {
   "codemirror_mode": {
    "name": "ipython",
    "version": 3
   },
   "file_extension": ".py",
   "mimetype": "text/x-python",
   "name": "python",
   "nbconvert_exporter": "python",
   "pygments_lexer": "ipython3",
   "version": "3.4.3"
  }
 },
 "nbformat": 4,
 "nbformat_minor": 0
}
