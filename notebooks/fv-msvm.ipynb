{
 "cells": [
  {
   "cell_type": "code",
   "execution_count": 6,
   "metadata": {
    "collapsed": false
   },
   "outputs": [],
   "source": [
    "import sys, itertools\n",
    "import numpy as np\n",
    "%matplotlib inline\n",
    "import matplotlib.pyplot as plt\n",
    "import sklearn, time, math\n",
    "from sklearn.svm import SVC, LinearSVC\n",
    "from sklearn.ensemble import RandomForestClassifier\n",
    "from sklearn.cross_validation import cross_val_score\n",
    "from sklearn.cross_validation import train_test_split\n",
    "from sklearn.cross_validation import StratifiedKFold\n",
    "from sklearn.metrics import confusion_matrix\n",
    "\n",
    "if '../tools' not in sys.path:\n",
    "    sys.path.append('../tools')\n",
    "from helper_functions import * \n",
    "\n",
    "import warnings\n",
    "warnings.filterwarnings('ignore')"
   ]
  },
  {
   "cell_type": "code",
   "execution_count": 9,
   "metadata": {
    "collapsed": true
   },
   "outputs": [],
   "source": [
    "def log_range(lo, hi): return [10 ** i for i in range(lo, hi)]\n",
    "    \n",
    "def best(scores, hypers):\n",
    "    best = max(scores)\n",
    "    return best, hypers[scores.index(best)]\n",
    "\n",
    "def run(X, Y, hypers, classifier, data_change=None):\n",
    "    hypers = list(hypers)\n",
    "    best_acc, best_params = -np.inf, None\n",
    "    skf = StratifiedKFold(Y, n_folds=8, shuffle=True, random_state=1)\n",
    "    scores = []\n",
    "    nproc = 8\n",
    "    for i, h in enumerate(hypers):\n",
    "        svm = classifier(h)\n",
    "        mX = X\n",
    "        if data_change: mX = data_change(mX, h)\n",
    "        c = np.average(cross_val_score(svm, mX, Y, cv=skf, n_jobs=-1))\n",
    "        scores.append(c)\n",
    "        print('\\r{} best acc {} params {}'.format(\n",
    "                completion_bar(len(scores), len(hypers), width=20),\n",
    "                *best(scores, hypers)), end='')\n",
    "        sys.stdout.flush()\n",
    "    print()\n",
    "    return best(scores, hypers)\n"
   ]
  },
  {
   "cell_type": "code",
   "execution_count": 107,
   "metadata": {
    "collapsed": false
   },
   "outputs": [
    {
     "name": "stdout",
     "output_type": "stream",
     "text": [
      "Using existing FVs from file ../generated-fv/FV3-3.mat\n",
      "N = 1000\n",
      "MFCC training feature ranges means [-0.0201, 0.0090] sds [0.0202, 0.0614]\n",
      "Using existing FVs from file ../generated-fv/FVC3-3.mat\n",
      "N = 1000\n",
      "chroma training feature ranges means [-0.0107, 0.0108] sds [0.0376, 0.0670]\n",
      "mfcc(3,3) on SVM (hyper is C, kernel, ovo/ovr)\n",
      "[--------------------] 40/40 best acc 0.6744391025641026 params (100, 'poly', 'ovo')\n",
      "mfcc(3,3) on LinearSVM (hyper is C, kernel, ovo/ovr)\n",
      "[--------------------] 20/20 best acc 0.6481570512820513 params (1, 'squared_hinge')\n",
      "chroma(3,3) on SVM (hyper is C, kernel, ovo/ovr)\n",
      "[--------------------] 40/40 best acc 0.47508012820512824 params (1000, 'poly', 'ovo')\n",
      "chroma(3,3) on LinearSVM (hyper is C, kernel)\n",
      "[--------------------] 20/20 best acc 0.47187500000000004 params (10, 'squared_hinge')\n"
     ]
    }
   ],
   "source": [
    "df = ['ovo', 'ovr']\n",
    "Cs = log_range(-5, 5)\n",
    "kernels = ['rbf', 'poly']\n",
    "def make_svm(tup):\n",
    "    C, k, d = tup\n",
    "    if k == 'poly': return SVC(C=C, kernel=k, decision_function_shape=d, degree=10., coef0=1.)\n",
    "    return SVC(C=C, kernel=k, decision_function_shape=d)\n",
    "\n",
    "M, Y = load_all_fv(3, 3)\n",
    "C, Y = load_chroma_fv(3, 3)\n",
    "\n",
    "top_mfcc_svm, top_chroma_svm = None, None\n",
    "\n",
    "print('mfcc(3,3) on SVM (hyper is C, kernel, ovo/ovr)')\n",
    "top_mfcc_svm = run(M, Y, itertools.product(Cs, kernels, df), make_svm)\n",
    "\n",
    "loss = ['hinge', 'squared_hinge']\n",
    "def make_lsvm(tup):\n",
    "    C, l = tup\n",
    "    return LinearSVC(C=C, loss=l)\n",
    "print('mfcc(3,3) on LinearSVM (hyper is C, kernel, ovo/ovr)')\n",
    "x = run(M, Y, itertools.product(Cs, loss), make_lsvm)\n",
    "if x[0] > top_mfcc_svm[0]: top_mfcc_svm = make_lsvm(x[1])\n",
    "else: top_mfcc_svm = make_svm(top_mfcc_svm[1])\n",
    "\n",
    "print('chroma(3,3) on SVM (hyper is C, kernel, ovo/ovr)')\n",
    "top_chroma_svm = run(C, Y, itertools.product(Cs, kernels, df), make_svm)\n",
    "\n",
    "print('chroma(3,3) on LinearSVM (hyper is C, kernel)')\n",
    "x = run(C, Y, itertools.product(Cs, loss), make_lsvm)\n",
    "if x[0] > top_chroma_svm[0]: top_chroma_svm = make_lsvm(x[1])\n",
    "else: top_chroma_svm = make_svm(top_chroma_svm[1])"
   ]
  },
  {
   "cell_type": "code",
   "execution_count": 10,
   "metadata": {
    "collapsed": false
   },
   "outputs": [
    {
     "data": {
      "image/png": "[encoded data removed]",
      "text/plain": [
       "<matplotlib.figure.Figure at 0x7fa5bf0f5fd0>"
      ]
     },
     "metadata": {},
     "output_type": "display_data"
    },
    {
     "data": {
      "image/png": "[encoded data removed]",
      "text/plain": [
       "<matplotlib.figure.Figure at 0x7fa5bd026b38>"
      ]
     },
     "metadata": {},
     "output_type": "display_data"
    }
   ],
   "source": [
    "trM, teM, trC, teC, trY, teY = train_test_split(M, C, Y, stratify=Y,\n",
    "                                      random_state=1, test_size=(1/8))\n",
    "top_mfcc_svm.fit(trM, trY)\n",
    "plot_confusion_matrix(confusion_matrix(teY, top_mfcc_svm.predict(teM)),\n",
    "                      title='mfcc FV(3,3) mSVM')\n",
    "plt.show()\n",
    "top_mfcc_svm.fit(trC, trY)\n",
    "plot_confusion_matrix(confusion_matrix(teY, top_mfcc_svm.predict(teC)),\n",
    "                      title='chroma FV(3,3) mSVM')\n",
    "plt.show()"
   ]
  },
  {
   "cell_type": "code",
   "execution_count": 17,
   "metadata": {
    "collapsed": false
   },
   "outputs": [
    {
     "name": "stdout",
     "output_type": "stream",
     "text": [
      "mfcc(3,3)+chroma(3,3) on SVM (hyper is C, k)\n",
      "[--------------------] 28/28 best acc 0.6842147435897437 params (100, 'poly', 'ovo')\n"
     ]
    }
   ],
   "source": [
    "df = ['ovo', 'ovr']\n",
    "Cs = log_range(0, 7)\n",
    "kernels = ['rbf', 'poly']\n",
    "print('mfcc(3,3)+chroma(3,3) on SVM (hyper is C, k, df)')\n",
    "svm33 = make_svm(run(X, Y, itertools.product(Cs, kernels, df), make_svm)[1])"
   ]
  },
  {
   "cell_type": "code",
   "execution_count": 19,
   "metadata": {
    "collapsed": false
   },
   "outputs": [
    {
     "name": "stdout",
     "output_type": "stream",
     "text": [
      "Using existing FVs from file ../generated-fv/FV8-8.mat\n",
      "N = 1000\n",
      "MFCC training feature ranges means [-0.0057, 0.0032] sds [0.0072, 0.0278]\n",
      "Using existing FVs from file ../generated-fv/FVC8-8.mat\n",
      "N = 1000\n",
      "chroma training feature ranges means [-0.0052, 0.0048] sds [0.0105, 0.0292]\n",
      "mfcc(8,8) on SVM (hyper is C, k, df)\n",
      "[--------------------] 28/28 best acc 0.6828525641025641 params (10000, 'rbf', 'ovo')\n",
      "chroma(8,8) on SVM (hyper is C, k, df)\n",
      "[--------------------] 28/28 best acc 0.5167467948717948 params (1000, 'poly', 'ovo')\n",
      "mfcc(8,8)+chroma(8,8) on SVM (hyper is C, k, df)\n",
      "[--------------------] 28/28 best acc 0.7090544871794872 params (1000, 'poly', 'ovo')\n"
     ]
    },
    {
     "data": {
      "text/plain": [
       "(0.70905448717948716, (1000, 'poly', 'ovo'))"
      ]
     },
     "execution_count": 19,
     "metadata": {},
     "output_type": "execute_result"
    }
   ],
   "source": [
    "M, Y = load_all_fv(8, 8)\n",
    "C, Y = load_chroma_fv(8, 8)\n",
    "X = np.concatenate((M, C), axis=1)\n",
    "print('mfcc(8,8) on SVM (hyper is C, k, df)')\n",
    "run(M, Y, itertools.product(Cs, kernels, df), make_svm)\n",
    "print('chroma(8,8) on SVM (hyper is C, k, df)')\n",
    "run(C, Y, itertools.product(Cs, kernels, df), make_svm)\n",
    "print('mfcc(8,8)+chroma(8,8) on SVM (hyper is C, k, df)')\n",
    "run(X, Y, itertools.product(Cs, kernels, df), make_svm)"
   ]
  },
  {
   "cell_type": "code",
   "execution_count": 20,
   "metadata": {
    "collapsed": false
   },
   "outputs": [
    {
     "data": {
      "text/plain": [
       "(1000, 9152)"
      ]
     },
     "execution_count": 20,
     "metadata": {},
     "output_type": "execute_result"
    }
   ],
   "source": [
    "X.shape"
   ]
  },
  {
   "cell_type": "code",
   "execution_count": null,
   "metadata": {
    "collapsed": false
   },
   "outputs": [],
   "source": [
    "import multiprocessing\n",
    "def make_svm(C):\n",
    "    return SVC(C=C, kernel='poly',\n",
    "               decision_function_shape='ovo',\n",
    "               degree=10., coef0=1.)\n",
    "Cs = log_range(0, 15)\n",
    "def rf(): return RandomForestClassifier(n_estimators=200, max_depth=20)\n",
    "def rfit(tup):\n",
    "    trX, teX, trY, teY = tup\n",
    "    #trX, teX = whiten(trX), whiten(teX, source=trX) <- lowers accuracy for some reason\n",
    "    return order(rf().fit(trX, trY).feature_importances_), trX, teX, trY, teY\n",
    "def cvFolds(X, Y):\n",
    "    skf = StratifiedKFold(Y, n_folds=8, shuffle=True,\n",
    "                          random_state=1)\n",
    "    sets = [(X[train], X[test], Y[train], Y[test]) for train, test in skf]\n",
    "    with multiprocessing.Pool(8) as p:\n",
    "        return p.map(rfit, sets)\n",
    "\n",
    "def eval_fold(tup):\n",
    "    (prop, C), (p, trX, teX, trY, teY) = tup\n",
    "    svm = make_svm(C)\n",
    "    p = p[:int(len(p) * prop)]\n",
    "    trXp, teXp = trX[:, p], teX[:, p]\n",
    "    return svm.fit(trXp, trY).score(teXp, teY)\n",
    "    \n",
    "def run_rf(folds, prop):\n",
    "    best_acc, best_params = -np.inf, None\n",
    "    for i, C in enumerate(Cs, 1):\n",
    "        with multiprocessing.Pool(8) as p:\n",
    "            scores = p.map(eval_fold, zip(itertools.repeat((prop, C)), folds))\n",
    "        score = np.average(scores)\n",
    "        if score > best_acc:\n",
    "            best_acc = score\n",
    "            best_params = C\n",
    "        print('\\r{} best acc {} params {}'.format(\n",
    "                completion_bar(i, len(Cs), width=20),\n",
    "                best_acc, best_params), end='')\n",
    "        sys.stdout.flush()\n",
    "    print()\n",
    "    return best_acc, best_params"
   ]
  },
  {
   "cell_type": "code",
   "execution_count": 40,
   "metadata": {
    "collapsed": true
   },
   "outputs": [],
   "source": [
    "cv = cvFolds(X, Y)"
   ]
  },
  {
   "cell_type": "code",
   "execution_count": 44,
   "metadata": {
    "collapsed": false
   },
   "outputs": [
    {
     "name": "stdout",
     "output_type": "stream",
     "text": [
      "[--------------------] 10/10 best acc 0.7052884615384616 params 1000000000\n"
     ]
    },
    {
     "data": {
      "text/plain": [
       "(0.70528846153846159, 1000000000)"
      ]
     },
     "execution_count": 44,
     "metadata": {},
     "output_type": "execute_result"
    }
   ],
   "source": [
    "run_rf(cv, 0.5)"
   ]
  },
  {
   "cell_type": "code",
   "execution_count": 65,
   "metadata": {
    "collapsed": false
   },
   "outputs": [
    {
     "data": {
      "image/png": "[encoded data removed]",
      "text/plain": [
       "<matplotlib.figure.Figure at 0x7fa5baf7f2e8>"
      ]
     },
     "metadata": {},
     "output_type": "display_data"
    }
   ],
   "source": [
    "# Output from running run_rf on FV(3,3) on cycles in parallel \n",
    "l = [0.11, 0.599679487179,\n",
    "0.16, 0.637419871795,\n",
    "0.21, 0.658653846154,\n",
    "0.26, 0.663701923077,\n",
    "0.06, 0.567628205128,\n",
    "0.36, 0.678685897436,\n",
    "0.31, 0.669871794872,\n",
    "0.41, 0.684855769231,\n",
    "0.46, 0.694631410256,\n",
    "0.51, 0.689663461538,\n",
    "0.56, 0.696474358974,\n",
    "0.61, 0.695592948718,\n",
    "0.66, 0.694471153846,\n",
    "0.71, 0.692628205128,\n",
    "0.76, 0.68733974359,\n",
    "0.81, 0.685176282051,\n",
    "0.86, 0.683974358974,\n",
    "0.91, 0.687019230769,\n",
    "0.96, 0.686137820513]\n",
    "x, y = zip(*sorted(zip(l[0:len(l):2], l[1:len(l):2])))\n",
    "plt.plot(x, y, '.-')\n",
    "plt.xlabel('Proportion of features')\n",
    "plt.ylabel('mSVM accuracy')\n",
    "plt.title('RF-feature-cutoff for mfcc+chroma FV(3,3)')\n",
    "plt.show()"
   ]
  },
  {
   "cell_type": "code",
   "execution_count": 67,
   "metadata": {
    "collapsed": false
   },
   "outputs": [
    {
     "data": {
      "image/png": "[encoded data removed]",
      "text/plain": [
       "<matplotlib.figure.Figure at 0x7fa5d4c3e710>"
      ]
     },
     "metadata": {},
     "output_type": "display_data"
    }
   ],
   "source": [
    "l=[(0.01, 0.52019230769230773), (0.060000000000000005, 0.64871794871794863), (0.11, 0.68870192307692302),\n",
    " (0.16000000000000003, 0.70264423076923077), (0.21000000000000002, 0.69919871794871791),\n",
    " (0.26000000000000001, 0.69607371794871797), (0.31000000000000005, 0.70016025641025637),\n",
    " (0.36000000000000004, 0.69919871794871791), (0.41000000000000003, 0.69791666666666663),\n",
    " (0.46000000000000002, 0.70352564102564097), (0.51000000000000001, 0.70713141025641024),\n",
    " (0.56000000000000005, 0.70216346153846154), (0.6100000000000001, 0.70376602564102564),\n",
    " (0.66000000000000003, 0.70400641025641031), (0.71000000000000008, 0.70785256410256414),\n",
    " (0.76000000000000001, 0.71017628205128203), (0.81000000000000005, 0.70392628205128205),\n",
    " (0.8600000000000001, 0.70496794871794866), (0.91000000000000003, 0.70496794871794877),\n",
    " (0.96000000000000008, 0.70608974358974352)]\n",
    "x, y = zip(*sorted(l))\n",
    "plt.plot(x, y, '.-')\n",
    "plt.xlabel('Proportion of features')\n",
    "plt.ylabel('mSVM accuracy')\n",
    "plt.title('RF-feature-cutoff for mfcc+chroma FV(8,8)')\n",
    "plt.show()"
   ]
  },
  {
   "cell_type": "code",
   "execution_count": 66,
   "metadata": {
    "collapsed": false
   },
   "outputs": [],
   "source": [
    "def to_try(x): return [(8,3)] + list((x, x) for x in range(3, 12)) + list((x, 11) for x in range(3, x))\n",
    "l = list(itertools.product(to_try(21), to_try(31)))\n",
    "assert(len(l) % 4 == 0)\n",
    "l = list(chunks(l, len(l) // 4))[0]\n",
    "def try_config(params):\n",
    "    print('starting', params)\n",
    "    mfcc, chroma = params\n",
    "    M, Y = load_all_fv(*mfcc)\n",
    "    C, Y = load_chroma_fv(*chroma)\n",
    "    X = np.concatenate((M, C), axis=1)\n",
    "    cv = cvFolds(X, Y)\n",
    "    run_rf(cv, 0.5)\n",
    "    print('finished', params, 'acc', 'C')\n",
    "# should be run on cycles\n",
    "#with multiprocessing.Pool(48) as p:\n",
    "#    p.map(try_config, l)"
   ]
  },
  {
   "cell_type": "code",
   "execution_count": null,
   "metadata": {
    "collapsed": false
   },
   "outputs": [],
   "source": [
    "# Stanford mSVM http://nlp.stanford.edu/IR-book/html/htmledition/multiclass-svms-1.html\n",
    "# This requires a new convex program formulation, unsupported within-python.\n",
    "# Below"
   ]
  },
  {
   "cell_type": "code",
   "execution_count": null,
   "metadata": {
    "collapsed": false
   },
   "outputs": [],
   "source": [
    "class DummyPredictor:\n",
    "    def __init__(self, res):\n",
    "        self._res = res\n",
    "    def predict(self, X):\n",
    "        Y = np.empty([len(X), 1])\n",
    "        Y.fill(self._res)\n",
    "        return Y\n",
    "        \n",
    "def find_best(subsets, X, origY, C):\n",
    "    best_accuracy, best_classifier, best_set = -np.inf, None, None\n",
    "    val = int(0.8 * len(X))\n",
    "    for subset in subsets:\n",
    "        Y = np.array([y in subset for y in origY])\n",
    "        svm = SVC(C=C).fit(X[:val], Y[:val])\n",
    "        acc = svm.score(X[val:], Y[val:])\n",
    "        if acc > best_accuracy:\n",
    "            best_accuracy = acc\n",
    "            best_classifier = svm\n",
    "            best_set = subset\n",
    "    return best_accuracy, best_classifier, best_set\n",
    "    \n",
    "def best_subset_finder(labels, C=1.0):\n",
    "    assert len(labels) > 0\n",
    "    if len(labels) == 1:\n",
    "        return {}, DummyPredictor(next(iter(labels))), {}\n",
    "    if len(labels) == 2:\n",
    "        return {}, SVC(C=C).fit(trXadj, trY), {}\n",
    "    \n",
    "    subsets = []\n",
    "    for i in range(1, len(labels) // 2 + 1):\n",
    "        for subset in itertools.combinations(labels, i):\n",
    "            subsets.append(subset)\n",
    "    p = np.random.permutation(len(trXadj))\n",
    "    pX = trXadj[p]\n",
    "    pY = trY[p]\n",
    "    \n",
    "    nproc = 4\n",
    "    print('  Launching {} parallel tasks for {} problems.'.format(nproc, len(subsets)))\n",
    "    sys.stdout.flush()\n",
    "    np.random.shuffle(subsets)\n",
    "    \n",
    "    best_parallel = Parallel(n_jobs=2, backend='threading') \\\n",
    "        (delayed(find_best)(i, pX, pY, C) for i in chunks(subsets, max(len(subsets) // nproc, 1)))\n",
    "    best_accuracy, best_set, best_classifier = -np.inf, None, None\n",
    "    for job_best_acc, job_best_classifier, job_best_set in best_parallel:\n",
    "         if job_best_acc > best_accuracy:\n",
    "             best_accuracy = job_best_acc\n",
    "             best_classifier = job_best_classifier\n",
    "             best_set = set(job_best_set)\n",
    "         \n",
    "    other = labels - best_set\n",
    "    print('  Split on 0/1 for {} vs {}, validation acc {}'.format(\n",
    "        best_set, other, best_accuracy))\n",
    "    sys.stdout.flush()\n",
    "    assert best_classifier\n",
    "    return best_set, best_classifier, other\n",
    "\n",
    "class DTree(object):\n",
    "    def __init__(self, classifier, lset, rset):\n",
    "        self.lset = lset\n",
    "        self.rset = rset\n",
    "        self.left = None\n",
    "        self.right = None\n",
    "        self.classifier = classifier\n",
    "\n",
    "def binary_dtree(labels, C=10.0, debug_print_level=None):\n",
    "    dbp = debug_print_level\n",
    "    if dbp: print('Level {}'.format(dbp))\n",
    "    left, svm, right = best_subset_finder(labels)\n",
    "    if not left: assert not right\n",
    "    x = DTree(svm, left, right)\n",
    "    if not left: return x\n",
    "    x.left = binary_dtree(left, C=(C * len(left) / len(labels)),\n",
    "                          debug_print_level=(dbp + '0' if dbp else None))\n",
    "    x.right = binary_dtree(right, C=(C * len(right) / len(labels)),\n",
    "                           debug_print_level=(dbp + '1' if dbp else None))\n",
    "    return x"
   ]
  },
  {
   "cell_type": "code",
   "execution_count": null,
   "metadata": {
    "collapsed": false
   },
   "outputs": [],
   "source": [
    "bdt = binary_dtree(set(trY), C=10.0, debug_print_level='r')"
   ]
  },
  {
   "cell_type": "code",
   "execution_count": null,
   "metadata": {
    "collapsed": false
   },
   "outputs": [],
   "source": [
    "#What if we retrain on the whole training dataset?\n",
    "def dtree_predict(dt, x):\n",
    "    y = dt.classifier.predict([x])[0]\n",
    "    if not dt.left: return y\n",
    "    subtree = dt.left if y else dt.right\n",
    "    return dtree_predict(subtree, x)\n",
    "\n",
    "def vec_dtree_predict(dt, X):\n",
    "    return np.array([dtree_predict(dt, x) for x in X])\n",
    "\n",
    "np.sum(vec_dtree_predict(bdt, teXadj) == teY) / len(teY)"
   ]
  }
 ],
 "metadata": {
  "kernelspec": {
   "display_name": "Python 3",
   "language": "python",
   "name": "python3"
  },
  "language_info": {
   "codemirror_mode": {
    "name": "ipython",
    "version": 3
   },
   "file_extension": ".py",
   "mimetype": "text/x-python",
   "name": "python",
   "nbconvert_exporter": "python",
   "pygments_lexer": "ipython3",
   "version": "3.4.3"
  }
 },
 "nbformat": 4,
 "nbformat_minor": 0
}
